{
  "nbformat": 4,
  "nbformat_minor": 0,
  "metadata": {
    "colab": {
      "provenance": [],
      "machine_shape": "hm",
      "collapsed_sections": [
        "isMGgszBBDrP",
        "LI1mV258n4In",
        "aE1db-yxjDsD",
        "YUZ2nZUOoOqe",
        "eoQ1tnC5BK7g",
        "vwjqZv_3nsRQ",
        "hZ2ELfBYnyw0",
        "wripBlr5Focg",
        "VrePlIYRGMvD",
        "1F1bS4u1ZmjV",
        "0Ea9HFoBtqHA",
        "UZ2F5r2V2szm",
        "wyL_wxg_3YKc",
        "AjrEwNOo3eTf",
        "gt6F54tP3mDW",
        "5L95kaol39wl",
        "lnEgWO7BS2Ww",
        "W7T-3ILxnTCN",
        "bB-rwGtYXy3N",
        "-W3YNHh7X-OG",
        "mWUwWEaq72Mc",
        "syHwuGA_77Hb",
        "CwZ3veuEggoS",
        "F-RhGZTKgexm",
        "6i5z2Ewrg6_O",
        "61rIhkfRsNWb",
        "xWbr2eYS47Yy",
        "l9eTD_sU9SaU",
        "JErt6Z85lT7n",
        "0zyqIYDTgeSX",
        "ktVo-rA-Sc8q",
        "ZlfbcL29Sh8-",
        "DE6ndfeBSqbx",
        "mY4NpQZYSv-M"
      ]
    },
    "kernelspec": {
      "name": "python3",
      "display_name": "Python 3"
    },
    "language_info": {
      "name": "python"
    },
    "gpuClass": "standard",
    "accelerator": "GPU",
    "widgets": {
      "application/vnd.jupyter.widget-state+json": {
        "7d7718f7227b49a68c5d1e5ca64c9f50": {
          "model_module": "@jupyter-widgets/controls",
          "model_name": "HBoxModel",
          "model_module_version": "1.5.0",
          "state": {
            "_dom_classes": [],
            "_model_module": "@jupyter-widgets/controls",
            "_model_module_version": "1.5.0",
            "_model_name": "HBoxModel",
            "_view_count": null,
            "_view_module": "@jupyter-widgets/controls",
            "_view_module_version": "1.5.0",
            "_view_name": "HBoxView",
            "box_style": "",
            "children": [
              "IPY_MODEL_9773e9d660664d57ba1fcc0a7448418a",
              "IPY_MODEL_0bf2d5f101764ddeb2ecc6c47e7390b9",
              "IPY_MODEL_ca9221cf9e1549dd86567b87a304eca2"
            ],
            "layout": "IPY_MODEL_ba46328b22a946ba99f6f32397c8c7ac"
          }
        },
        "9773e9d660664d57ba1fcc0a7448418a": {
          "model_module": "@jupyter-widgets/controls",
          "model_name": "HTMLModel",
          "model_module_version": "1.5.0",
          "state": {
            "_dom_classes": [],
            "_model_module": "@jupyter-widgets/controls",
            "_model_module_version": "1.5.0",
            "_model_name": "HTMLModel",
            "_view_count": null,
            "_view_module": "@jupyter-widgets/controls",
            "_view_module_version": "1.5.0",
            "_view_name": "HTMLView",
            "description": "",
            "description_tooltip": null,
            "layout": "IPY_MODEL_9a7cd0a67f334cb7904c606892de072c",
            "placeholder": "​",
            "style": "IPY_MODEL_88e69bbef3a04024ac51848c9a5b5db7",
            "value": "Downloading (…)okenizer_config.json: 100%"
          }
        },
        "0bf2d5f101764ddeb2ecc6c47e7390b9": {
          "model_module": "@jupyter-widgets/controls",
          "model_name": "FloatProgressModel",
          "model_module_version": "1.5.0",
          "state": {
            "_dom_classes": [],
            "_model_module": "@jupyter-widgets/controls",
            "_model_module_version": "1.5.0",
            "_model_name": "FloatProgressModel",
            "_view_count": null,
            "_view_module": "@jupyter-widgets/controls",
            "_view_module_version": "1.5.0",
            "_view_name": "ProgressView",
            "bar_style": "success",
            "description": "",
            "description_tooltip": null,
            "layout": "IPY_MODEL_03ce95b9b7794967b5ee3b108d21235d",
            "max": 29,
            "min": 0,
            "orientation": "horizontal",
            "style": "IPY_MODEL_32b86b005c13476c9002374cf4af27d7",
            "value": 29
          }
        },
        "ca9221cf9e1549dd86567b87a304eca2": {
          "model_module": "@jupyter-widgets/controls",
          "model_name": "HTMLModel",
          "model_module_version": "1.5.0",
          "state": {
            "_dom_classes": [],
            "_model_module": "@jupyter-widgets/controls",
            "_model_module_version": "1.5.0",
            "_model_name": "HTMLModel",
            "_view_count": null,
            "_view_module": "@jupyter-widgets/controls",
            "_view_module_version": "1.5.0",
            "_view_name": "HTMLView",
            "description": "",
            "description_tooltip": null,
            "layout": "IPY_MODEL_e4ef11700ab84f949a97795bce12071c",
            "placeholder": "​",
            "style": "IPY_MODEL_22ab9d0d3c5540ff8783034d7bdc2b7f",
            "value": " 29.0/29.0 [00:00&lt;00:00, 1.06kB/s]"
          }
        },
        "ba46328b22a946ba99f6f32397c8c7ac": {
          "model_module": "@jupyter-widgets/base",
          "model_name": "LayoutModel",
          "model_module_version": "1.2.0",
          "state": {
            "_model_module": "@jupyter-widgets/base",
            "_model_module_version": "1.2.0",
            "_model_name": "LayoutModel",
            "_view_count": null,
            "_view_module": "@jupyter-widgets/base",
            "_view_module_version": "1.2.0",
            "_view_name": "LayoutView",
            "align_content": null,
            "align_items": null,
            "align_self": null,
            "border": null,
            "bottom": null,
            "display": null,
            "flex": null,
            "flex_flow": null,
            "grid_area": null,
            "grid_auto_columns": null,
            "grid_auto_flow": null,
            "grid_auto_rows": null,
            "grid_column": null,
            "grid_gap": null,
            "grid_row": null,
            "grid_template_areas": null,
            "grid_template_columns": null,
            "grid_template_rows": null,
            "height": null,
            "justify_content": null,
            "justify_items": null,
            "left": null,
            "margin": null,
            "max_height": null,
            "max_width": null,
            "min_height": null,
            "min_width": null,
            "object_fit": null,
            "object_position": null,
            "order": null,
            "overflow": null,
            "overflow_x": null,
            "overflow_y": null,
            "padding": null,
            "right": null,
            "top": null,
            "visibility": null,
            "width": null
          }
        },
        "9a7cd0a67f334cb7904c606892de072c": {
          "model_module": "@jupyter-widgets/base",
          "model_name": "LayoutModel",
          "model_module_version": "1.2.0",
          "state": {
            "_model_module": "@jupyter-widgets/base",
            "_model_module_version": "1.2.0",
            "_model_name": "LayoutModel",
            "_view_count": null,
            "_view_module": "@jupyter-widgets/base",
            "_view_module_version": "1.2.0",
            "_view_name": "LayoutView",
            "align_content": null,
            "align_items": null,
            "align_self": null,
            "border": null,
            "bottom": null,
            "display": null,
            "flex": null,
            "flex_flow": null,
            "grid_area": null,
            "grid_auto_columns": null,
            "grid_auto_flow": null,
            "grid_auto_rows": null,
            "grid_column": null,
            "grid_gap": null,
            "grid_row": null,
            "grid_template_areas": null,
            "grid_template_columns": null,
            "grid_template_rows": null,
            "height": null,
            "justify_content": null,
            "justify_items": null,
            "left": null,
            "margin": null,
            "max_height": null,
            "max_width": null,
            "min_height": null,
            "min_width": null,
            "object_fit": null,
            "object_position": null,
            "order": null,
            "overflow": null,
            "overflow_x": null,
            "overflow_y": null,
            "padding": null,
            "right": null,
            "top": null,
            "visibility": null,
            "width": null
          }
        },
        "88e69bbef3a04024ac51848c9a5b5db7": {
          "model_module": "@jupyter-widgets/controls",
          "model_name": "DescriptionStyleModel",
          "model_module_version": "1.5.0",
          "state": {
            "_model_module": "@jupyter-widgets/controls",
            "_model_module_version": "1.5.0",
            "_model_name": "DescriptionStyleModel",
            "_view_count": null,
            "_view_module": "@jupyter-widgets/base",
            "_view_module_version": "1.2.0",
            "_view_name": "StyleView",
            "description_width": ""
          }
        },
        "03ce95b9b7794967b5ee3b108d21235d": {
          "model_module": "@jupyter-widgets/base",
          "model_name": "LayoutModel",
          "model_module_version": "1.2.0",
          "state": {
            "_model_module": "@jupyter-widgets/base",
            "_model_module_version": "1.2.0",
            "_model_name": "LayoutModel",
            "_view_count": null,
            "_view_module": "@jupyter-widgets/base",
            "_view_module_version": "1.2.0",
            "_view_name": "LayoutView",
            "align_content": null,
            "align_items": null,
            "align_self": null,
            "border": null,
            "bottom": null,
            "display": null,
            "flex": null,
            "flex_flow": null,
            "grid_area": null,
            "grid_auto_columns": null,
            "grid_auto_flow": null,
            "grid_auto_rows": null,
            "grid_column": null,
            "grid_gap": null,
            "grid_row": null,
            "grid_template_areas": null,
            "grid_template_columns": null,
            "grid_template_rows": null,
            "height": null,
            "justify_content": null,
            "justify_items": null,
            "left": null,
            "margin": null,
            "max_height": null,
            "max_width": null,
            "min_height": null,
            "min_width": null,
            "object_fit": null,
            "object_position": null,
            "order": null,
            "overflow": null,
            "overflow_x": null,
            "overflow_y": null,
            "padding": null,
            "right": null,
            "top": null,
            "visibility": null,
            "width": null
          }
        },
        "32b86b005c13476c9002374cf4af27d7": {
          "model_module": "@jupyter-widgets/controls",
          "model_name": "ProgressStyleModel",
          "model_module_version": "1.5.0",
          "state": {
            "_model_module": "@jupyter-widgets/controls",
            "_model_module_version": "1.5.0",
            "_model_name": "ProgressStyleModel",
            "_view_count": null,
            "_view_module": "@jupyter-widgets/base",
            "_view_module_version": "1.2.0",
            "_view_name": "StyleView",
            "bar_color": null,
            "description_width": ""
          }
        },
        "e4ef11700ab84f949a97795bce12071c": {
          "model_module": "@jupyter-widgets/base",
          "model_name": "LayoutModel",
          "model_module_version": "1.2.0",
          "state": {
            "_model_module": "@jupyter-widgets/base",
            "_model_module_version": "1.2.0",
            "_model_name": "LayoutModel",
            "_view_count": null,
            "_view_module": "@jupyter-widgets/base",
            "_view_module_version": "1.2.0",
            "_view_name": "LayoutView",
            "align_content": null,
            "align_items": null,
            "align_self": null,
            "border": null,
            "bottom": null,
            "display": null,
            "flex": null,
            "flex_flow": null,
            "grid_area": null,
            "grid_auto_columns": null,
            "grid_auto_flow": null,
            "grid_auto_rows": null,
            "grid_column": null,
            "grid_gap": null,
            "grid_row": null,
            "grid_template_areas": null,
            "grid_template_columns": null,
            "grid_template_rows": null,
            "height": null,
            "justify_content": null,
            "justify_items": null,
            "left": null,
            "margin": null,
            "max_height": null,
            "max_width": null,
            "min_height": null,
            "min_width": null,
            "object_fit": null,
            "object_position": null,
            "order": null,
            "overflow": null,
            "overflow_x": null,
            "overflow_y": null,
            "padding": null,
            "right": null,
            "top": null,
            "visibility": null,
            "width": null
          }
        },
        "22ab9d0d3c5540ff8783034d7bdc2b7f": {
          "model_module": "@jupyter-widgets/controls",
          "model_name": "DescriptionStyleModel",
          "model_module_version": "1.5.0",
          "state": {
            "_model_module": "@jupyter-widgets/controls",
            "_model_module_version": "1.5.0",
            "_model_name": "DescriptionStyleModel",
            "_view_count": null,
            "_view_module": "@jupyter-widgets/base",
            "_view_module_version": "1.2.0",
            "_view_name": "StyleView",
            "description_width": ""
          }
        },
        "d646064858bc4cf0a960dc4cab733620": {
          "model_module": "@jupyter-widgets/controls",
          "model_name": "HBoxModel",
          "model_module_version": "1.5.0",
          "state": {
            "_dom_classes": [],
            "_model_module": "@jupyter-widgets/controls",
            "_model_module_version": "1.5.0",
            "_model_name": "HBoxModel",
            "_view_count": null,
            "_view_module": "@jupyter-widgets/controls",
            "_view_module_version": "1.5.0",
            "_view_name": "HBoxView",
            "box_style": "",
            "children": [
              "IPY_MODEL_6b3f662b754d4a878afdd408455b486c",
              "IPY_MODEL_d1a48bd799a041449ffb257ebe297762",
              "IPY_MODEL_8709e07c456140d7a22ca248e1c9ca36"
            ],
            "layout": "IPY_MODEL_2b8d108188f24fd6bade6065be76a11b"
          }
        },
        "6b3f662b754d4a878afdd408455b486c": {
          "model_module": "@jupyter-widgets/controls",
          "model_name": "HTMLModel",
          "model_module_version": "1.5.0",
          "state": {
            "_dom_classes": [],
            "_model_module": "@jupyter-widgets/controls",
            "_model_module_version": "1.5.0",
            "_model_name": "HTMLModel",
            "_view_count": null,
            "_view_module": "@jupyter-widgets/controls",
            "_view_module_version": "1.5.0",
            "_view_name": "HTMLView",
            "description": "",
            "description_tooltip": null,
            "layout": "IPY_MODEL_c760aa31fee14ab3a6bf181cd4c800bb",
            "placeholder": "​",
            "style": "IPY_MODEL_80b4a84d6046402698b85372e5c3caa2",
            "value": "Downloading (…)lve/main/config.json: 100%"
          }
        },
        "d1a48bd799a041449ffb257ebe297762": {
          "model_module": "@jupyter-widgets/controls",
          "model_name": "FloatProgressModel",
          "model_module_version": "1.5.0",
          "state": {
            "_dom_classes": [],
            "_model_module": "@jupyter-widgets/controls",
            "_model_module_version": "1.5.0",
            "_model_name": "FloatProgressModel",
            "_view_count": null,
            "_view_module": "@jupyter-widgets/controls",
            "_view_module_version": "1.5.0",
            "_view_name": "ProgressView",
            "bar_style": "success",
            "description": "",
            "description_tooltip": null,
            "layout": "IPY_MODEL_6cd11476cff748ca9212acceea07432f",
            "max": 570,
            "min": 0,
            "orientation": "horizontal",
            "style": "IPY_MODEL_e70054e4a4314730abc54789e58e58db",
            "value": 570
          }
        },
        "8709e07c456140d7a22ca248e1c9ca36": {
          "model_module": "@jupyter-widgets/controls",
          "model_name": "HTMLModel",
          "model_module_version": "1.5.0",
          "state": {
            "_dom_classes": [],
            "_model_module": "@jupyter-widgets/controls",
            "_model_module_version": "1.5.0",
            "_model_name": "HTMLModel",
            "_view_count": null,
            "_view_module": "@jupyter-widgets/controls",
            "_view_module_version": "1.5.0",
            "_view_name": "HTMLView",
            "description": "",
            "description_tooltip": null,
            "layout": "IPY_MODEL_d7a5579f61dd4604aee41ca8a3a85f93",
            "placeholder": "​",
            "style": "IPY_MODEL_e2bd344d835748dda5a11e265ccb1024",
            "value": " 570/570 [00:00&lt;00:00, 27.1kB/s]"
          }
        },
        "2b8d108188f24fd6bade6065be76a11b": {
          "model_module": "@jupyter-widgets/base",
          "model_name": "LayoutModel",
          "model_module_version": "1.2.0",
          "state": {
            "_model_module": "@jupyter-widgets/base",
            "_model_module_version": "1.2.0",
            "_model_name": "LayoutModel",
            "_view_count": null,
            "_view_module": "@jupyter-widgets/base",
            "_view_module_version": "1.2.0",
            "_view_name": "LayoutView",
            "align_content": null,
            "align_items": null,
            "align_self": null,
            "border": null,
            "bottom": null,
            "display": null,
            "flex": null,
            "flex_flow": null,
            "grid_area": null,
            "grid_auto_columns": null,
            "grid_auto_flow": null,
            "grid_auto_rows": null,
            "grid_column": null,
            "grid_gap": null,
            "grid_row": null,
            "grid_template_areas": null,
            "grid_template_columns": null,
            "grid_template_rows": null,
            "height": null,
            "justify_content": null,
            "justify_items": null,
            "left": null,
            "margin": null,
            "max_height": null,
            "max_width": null,
            "min_height": null,
            "min_width": null,
            "object_fit": null,
            "object_position": null,
            "order": null,
            "overflow": null,
            "overflow_x": null,
            "overflow_y": null,
            "padding": null,
            "right": null,
            "top": null,
            "visibility": null,
            "width": null
          }
        },
        "c760aa31fee14ab3a6bf181cd4c800bb": {
          "model_module": "@jupyter-widgets/base",
          "model_name": "LayoutModel",
          "model_module_version": "1.2.0",
          "state": {
            "_model_module": "@jupyter-widgets/base",
            "_model_module_version": "1.2.0",
            "_model_name": "LayoutModel",
            "_view_count": null,
            "_view_module": "@jupyter-widgets/base",
            "_view_module_version": "1.2.0",
            "_view_name": "LayoutView",
            "align_content": null,
            "align_items": null,
            "align_self": null,
            "border": null,
            "bottom": null,
            "display": null,
            "flex": null,
            "flex_flow": null,
            "grid_area": null,
            "grid_auto_columns": null,
            "grid_auto_flow": null,
            "grid_auto_rows": null,
            "grid_column": null,
            "grid_gap": null,
            "grid_row": null,
            "grid_template_areas": null,
            "grid_template_columns": null,
            "grid_template_rows": null,
            "height": null,
            "justify_content": null,
            "justify_items": null,
            "left": null,
            "margin": null,
            "max_height": null,
            "max_width": null,
            "min_height": null,
            "min_width": null,
            "object_fit": null,
            "object_position": null,
            "order": null,
            "overflow": null,
            "overflow_x": null,
            "overflow_y": null,
            "padding": null,
            "right": null,
            "top": null,
            "visibility": null,
            "width": null
          }
        },
        "80b4a84d6046402698b85372e5c3caa2": {
          "model_module": "@jupyter-widgets/controls",
          "model_name": "DescriptionStyleModel",
          "model_module_version": "1.5.0",
          "state": {
            "_model_module": "@jupyter-widgets/controls",
            "_model_module_version": "1.5.0",
            "_model_name": "DescriptionStyleModel",
            "_view_count": null,
            "_view_module": "@jupyter-widgets/base",
            "_view_module_version": "1.2.0",
            "_view_name": "StyleView",
            "description_width": ""
          }
        },
        "6cd11476cff748ca9212acceea07432f": {
          "model_module": "@jupyter-widgets/base",
          "model_name": "LayoutModel",
          "model_module_version": "1.2.0",
          "state": {
            "_model_module": "@jupyter-widgets/base",
            "_model_module_version": "1.2.0",
            "_model_name": "LayoutModel",
            "_view_count": null,
            "_view_module": "@jupyter-widgets/base",
            "_view_module_version": "1.2.0",
            "_view_name": "LayoutView",
            "align_content": null,
            "align_items": null,
            "align_self": null,
            "border": null,
            "bottom": null,
            "display": null,
            "flex": null,
            "flex_flow": null,
            "grid_area": null,
            "grid_auto_columns": null,
            "grid_auto_flow": null,
            "grid_auto_rows": null,
            "grid_column": null,
            "grid_gap": null,
            "grid_row": null,
            "grid_template_areas": null,
            "grid_template_columns": null,
            "grid_template_rows": null,
            "height": null,
            "justify_content": null,
            "justify_items": null,
            "left": null,
            "margin": null,
            "max_height": null,
            "max_width": null,
            "min_height": null,
            "min_width": null,
            "object_fit": null,
            "object_position": null,
            "order": null,
            "overflow": null,
            "overflow_x": null,
            "overflow_y": null,
            "padding": null,
            "right": null,
            "top": null,
            "visibility": null,
            "width": null
          }
        },
        "e70054e4a4314730abc54789e58e58db": {
          "model_module": "@jupyter-widgets/controls",
          "model_name": "ProgressStyleModel",
          "model_module_version": "1.5.0",
          "state": {
            "_model_module": "@jupyter-widgets/controls",
            "_model_module_version": "1.5.0",
            "_model_name": "ProgressStyleModel",
            "_view_count": null,
            "_view_module": "@jupyter-widgets/base",
            "_view_module_version": "1.2.0",
            "_view_name": "StyleView",
            "bar_color": null,
            "description_width": ""
          }
        },
        "d7a5579f61dd4604aee41ca8a3a85f93": {
          "model_module": "@jupyter-widgets/base",
          "model_name": "LayoutModel",
          "model_module_version": "1.2.0",
          "state": {
            "_model_module": "@jupyter-widgets/base",
            "_model_module_version": "1.2.0",
            "_model_name": "LayoutModel",
            "_view_count": null,
            "_view_module": "@jupyter-widgets/base",
            "_view_module_version": "1.2.0",
            "_view_name": "LayoutView",
            "align_content": null,
            "align_items": null,
            "align_self": null,
            "border": null,
            "bottom": null,
            "display": null,
            "flex": null,
            "flex_flow": null,
            "grid_area": null,
            "grid_auto_columns": null,
            "grid_auto_flow": null,
            "grid_auto_rows": null,
            "grid_column": null,
            "grid_gap": null,
            "grid_row": null,
            "grid_template_areas": null,
            "grid_template_columns": null,
            "grid_template_rows": null,
            "height": null,
            "justify_content": null,
            "justify_items": null,
            "left": null,
            "margin": null,
            "max_height": null,
            "max_width": null,
            "min_height": null,
            "min_width": null,
            "object_fit": null,
            "object_position": null,
            "order": null,
            "overflow": null,
            "overflow_x": null,
            "overflow_y": null,
            "padding": null,
            "right": null,
            "top": null,
            "visibility": null,
            "width": null
          }
        },
        "e2bd344d835748dda5a11e265ccb1024": {
          "model_module": "@jupyter-widgets/controls",
          "model_name": "DescriptionStyleModel",
          "model_module_version": "1.5.0",
          "state": {
            "_model_module": "@jupyter-widgets/controls",
            "_model_module_version": "1.5.0",
            "_model_name": "DescriptionStyleModel",
            "_view_count": null,
            "_view_module": "@jupyter-widgets/base",
            "_view_module_version": "1.2.0",
            "_view_name": "StyleView",
            "description_width": ""
          }
        },
        "9c0f48d4c0c54157b45632bb9168f1cb": {
          "model_module": "@jupyter-widgets/controls",
          "model_name": "HBoxModel",
          "model_module_version": "1.5.0",
          "state": {
            "_dom_classes": [],
            "_model_module": "@jupyter-widgets/controls",
            "_model_module_version": "1.5.0",
            "_model_name": "HBoxModel",
            "_view_count": null,
            "_view_module": "@jupyter-widgets/controls",
            "_view_module_version": "1.5.0",
            "_view_name": "HBoxView",
            "box_style": "",
            "children": [
              "IPY_MODEL_b3888515839048309678c33046151300",
              "IPY_MODEL_0da5c1648284407b847a83ca7241b556",
              "IPY_MODEL_d7da79672d2443cd9d09be581d22b867"
            ],
            "layout": "IPY_MODEL_299e8985b60c4f8da22112a66b44267f"
          }
        },
        "b3888515839048309678c33046151300": {
          "model_module": "@jupyter-widgets/controls",
          "model_name": "HTMLModel",
          "model_module_version": "1.5.0",
          "state": {
            "_dom_classes": [],
            "_model_module": "@jupyter-widgets/controls",
            "_model_module_version": "1.5.0",
            "_model_name": "HTMLModel",
            "_view_count": null,
            "_view_module": "@jupyter-widgets/controls",
            "_view_module_version": "1.5.0",
            "_view_name": "HTMLView",
            "description": "",
            "description_tooltip": null,
            "layout": "IPY_MODEL_7076d78979f74f508f836de11916e535",
            "placeholder": "​",
            "style": "IPY_MODEL_0ed7574180f344cd8aff8ce7631155d5",
            "value": "Downloading (…)solve/main/vocab.txt: 100%"
          }
        },
        "0da5c1648284407b847a83ca7241b556": {
          "model_module": "@jupyter-widgets/controls",
          "model_name": "FloatProgressModel",
          "model_module_version": "1.5.0",
          "state": {
            "_dom_classes": [],
            "_model_module": "@jupyter-widgets/controls",
            "_model_module_version": "1.5.0",
            "_model_name": "FloatProgressModel",
            "_view_count": null,
            "_view_module": "@jupyter-widgets/controls",
            "_view_module_version": "1.5.0",
            "_view_name": "ProgressView",
            "bar_style": "success",
            "description": "",
            "description_tooltip": null,
            "layout": "IPY_MODEL_700e2c3012e04c1d914da20ec01e0c2c",
            "max": 213450,
            "min": 0,
            "orientation": "horizontal",
            "style": "IPY_MODEL_2584c716606e493899332576da1bd249",
            "value": 213450
          }
        },
        "d7da79672d2443cd9d09be581d22b867": {
          "model_module": "@jupyter-widgets/controls",
          "model_name": "HTMLModel",
          "model_module_version": "1.5.0",
          "state": {
            "_dom_classes": [],
            "_model_module": "@jupyter-widgets/controls",
            "_model_module_version": "1.5.0",
            "_model_name": "HTMLModel",
            "_view_count": null,
            "_view_module": "@jupyter-widgets/controls",
            "_view_module_version": "1.5.0",
            "_view_name": "HTMLView",
            "description": "",
            "description_tooltip": null,
            "layout": "IPY_MODEL_03250bb6f8aa48f0991611067066e0fa",
            "placeholder": "​",
            "style": "IPY_MODEL_e84566a7bd514568b0f3a64fc6cdbf0f",
            "value": " 213k/213k [00:00&lt;00:00, 1.24MB/s]"
          }
        },
        "299e8985b60c4f8da22112a66b44267f": {
          "model_module": "@jupyter-widgets/base",
          "model_name": "LayoutModel",
          "model_module_version": "1.2.0",
          "state": {
            "_model_module": "@jupyter-widgets/base",
            "_model_module_version": "1.2.0",
            "_model_name": "LayoutModel",
            "_view_count": null,
            "_view_module": "@jupyter-widgets/base",
            "_view_module_version": "1.2.0",
            "_view_name": "LayoutView",
            "align_content": null,
            "align_items": null,
            "align_self": null,
            "border": null,
            "bottom": null,
            "display": null,
            "flex": null,
            "flex_flow": null,
            "grid_area": null,
            "grid_auto_columns": null,
            "grid_auto_flow": null,
            "grid_auto_rows": null,
            "grid_column": null,
            "grid_gap": null,
            "grid_row": null,
            "grid_template_areas": null,
            "grid_template_columns": null,
            "grid_template_rows": null,
            "height": null,
            "justify_content": null,
            "justify_items": null,
            "left": null,
            "margin": null,
            "max_height": null,
            "max_width": null,
            "min_height": null,
            "min_width": null,
            "object_fit": null,
            "object_position": null,
            "order": null,
            "overflow": null,
            "overflow_x": null,
            "overflow_y": null,
            "padding": null,
            "right": null,
            "top": null,
            "visibility": null,
            "width": null
          }
        },
        "7076d78979f74f508f836de11916e535": {
          "model_module": "@jupyter-widgets/base",
          "model_name": "LayoutModel",
          "model_module_version": "1.2.0",
          "state": {
            "_model_module": "@jupyter-widgets/base",
            "_model_module_version": "1.2.0",
            "_model_name": "LayoutModel",
            "_view_count": null,
            "_view_module": "@jupyter-widgets/base",
            "_view_module_version": "1.2.0",
            "_view_name": "LayoutView",
            "align_content": null,
            "align_items": null,
            "align_self": null,
            "border": null,
            "bottom": null,
            "display": null,
            "flex": null,
            "flex_flow": null,
            "grid_area": null,
            "grid_auto_columns": null,
            "grid_auto_flow": null,
            "grid_auto_rows": null,
            "grid_column": null,
            "grid_gap": null,
            "grid_row": null,
            "grid_template_areas": null,
            "grid_template_columns": null,
            "grid_template_rows": null,
            "height": null,
            "justify_content": null,
            "justify_items": null,
            "left": null,
            "margin": null,
            "max_height": null,
            "max_width": null,
            "min_height": null,
            "min_width": null,
            "object_fit": null,
            "object_position": null,
            "order": null,
            "overflow": null,
            "overflow_x": null,
            "overflow_y": null,
            "padding": null,
            "right": null,
            "top": null,
            "visibility": null,
            "width": null
          }
        },
        "0ed7574180f344cd8aff8ce7631155d5": {
          "model_module": "@jupyter-widgets/controls",
          "model_name": "DescriptionStyleModel",
          "model_module_version": "1.5.0",
          "state": {
            "_model_module": "@jupyter-widgets/controls",
            "_model_module_version": "1.5.0",
            "_model_name": "DescriptionStyleModel",
            "_view_count": null,
            "_view_module": "@jupyter-widgets/base",
            "_view_module_version": "1.2.0",
            "_view_name": "StyleView",
            "description_width": ""
          }
        },
        "700e2c3012e04c1d914da20ec01e0c2c": {
          "model_module": "@jupyter-widgets/base",
          "model_name": "LayoutModel",
          "model_module_version": "1.2.0",
          "state": {
            "_model_module": "@jupyter-widgets/base",
            "_model_module_version": "1.2.0",
            "_model_name": "LayoutModel",
            "_view_count": null,
            "_view_module": "@jupyter-widgets/base",
            "_view_module_version": "1.2.0",
            "_view_name": "LayoutView",
            "align_content": null,
            "align_items": null,
            "align_self": null,
            "border": null,
            "bottom": null,
            "display": null,
            "flex": null,
            "flex_flow": null,
            "grid_area": null,
            "grid_auto_columns": null,
            "grid_auto_flow": null,
            "grid_auto_rows": null,
            "grid_column": null,
            "grid_gap": null,
            "grid_row": null,
            "grid_template_areas": null,
            "grid_template_columns": null,
            "grid_template_rows": null,
            "height": null,
            "justify_content": null,
            "justify_items": null,
            "left": null,
            "margin": null,
            "max_height": null,
            "max_width": null,
            "min_height": null,
            "min_width": null,
            "object_fit": null,
            "object_position": null,
            "order": null,
            "overflow": null,
            "overflow_x": null,
            "overflow_y": null,
            "padding": null,
            "right": null,
            "top": null,
            "visibility": null,
            "width": null
          }
        },
        "2584c716606e493899332576da1bd249": {
          "model_module": "@jupyter-widgets/controls",
          "model_name": "ProgressStyleModel",
          "model_module_version": "1.5.0",
          "state": {
            "_model_module": "@jupyter-widgets/controls",
            "_model_module_version": "1.5.0",
            "_model_name": "ProgressStyleModel",
            "_view_count": null,
            "_view_module": "@jupyter-widgets/base",
            "_view_module_version": "1.2.0",
            "_view_name": "StyleView",
            "bar_color": null,
            "description_width": ""
          }
        },
        "03250bb6f8aa48f0991611067066e0fa": {
          "model_module": "@jupyter-widgets/base",
          "model_name": "LayoutModel",
          "model_module_version": "1.2.0",
          "state": {
            "_model_module": "@jupyter-widgets/base",
            "_model_module_version": "1.2.0",
            "_model_name": "LayoutModel",
            "_view_count": null,
            "_view_module": "@jupyter-widgets/base",
            "_view_module_version": "1.2.0",
            "_view_name": "LayoutView",
            "align_content": null,
            "align_items": null,
            "align_self": null,
            "border": null,
            "bottom": null,
            "display": null,
            "flex": null,
            "flex_flow": null,
            "grid_area": null,
            "grid_auto_columns": null,
            "grid_auto_flow": null,
            "grid_auto_rows": null,
            "grid_column": null,
            "grid_gap": null,
            "grid_row": null,
            "grid_template_areas": null,
            "grid_template_columns": null,
            "grid_template_rows": null,
            "height": null,
            "justify_content": null,
            "justify_items": null,
            "left": null,
            "margin": null,
            "max_height": null,
            "max_width": null,
            "min_height": null,
            "min_width": null,
            "object_fit": null,
            "object_position": null,
            "order": null,
            "overflow": null,
            "overflow_x": null,
            "overflow_y": null,
            "padding": null,
            "right": null,
            "top": null,
            "visibility": null,
            "width": null
          }
        },
        "e84566a7bd514568b0f3a64fc6cdbf0f": {
          "model_module": "@jupyter-widgets/controls",
          "model_name": "DescriptionStyleModel",
          "model_module_version": "1.5.0",
          "state": {
            "_model_module": "@jupyter-widgets/controls",
            "_model_module_version": "1.5.0",
            "_model_name": "DescriptionStyleModel",
            "_view_count": null,
            "_view_module": "@jupyter-widgets/base",
            "_view_module_version": "1.2.0",
            "_view_name": "StyleView",
            "description_width": ""
          }
        },
        "733ab836e31d4c588a44a837e9e59830": {
          "model_module": "@jupyter-widgets/controls",
          "model_name": "HBoxModel",
          "model_module_version": "1.5.0",
          "state": {
            "_dom_classes": [],
            "_model_module": "@jupyter-widgets/controls",
            "_model_module_version": "1.5.0",
            "_model_name": "HBoxModel",
            "_view_count": null,
            "_view_module": "@jupyter-widgets/controls",
            "_view_module_version": "1.5.0",
            "_view_name": "HBoxView",
            "box_style": "",
            "children": [
              "IPY_MODEL_302a3f3a8dff44a3860a6cb1c9df5e53",
              "IPY_MODEL_20cbab132887483f9f7870b4904740ce",
              "IPY_MODEL_c5a1b510d60f46139f481802c9b657ab"
            ],
            "layout": "IPY_MODEL_ba9ab6a80fd24c0f870f9661ed4d4aeb"
          }
        },
        "302a3f3a8dff44a3860a6cb1c9df5e53": {
          "model_module": "@jupyter-widgets/controls",
          "model_name": "HTMLModel",
          "model_module_version": "1.5.0",
          "state": {
            "_dom_classes": [],
            "_model_module": "@jupyter-widgets/controls",
            "_model_module_version": "1.5.0",
            "_model_name": "HTMLModel",
            "_view_count": null,
            "_view_module": "@jupyter-widgets/controls",
            "_view_module_version": "1.5.0",
            "_view_name": "HTMLView",
            "description": "",
            "description_tooltip": null,
            "layout": "IPY_MODEL_65d9cf7cb54e4112b432f506b258bfd8",
            "placeholder": "​",
            "style": "IPY_MODEL_8ba3306547854c6fa1163be862c2fa03",
            "value": "Downloading (…)/main/tokenizer.json: 100%"
          }
        },
        "20cbab132887483f9f7870b4904740ce": {
          "model_module": "@jupyter-widgets/controls",
          "model_name": "FloatProgressModel",
          "model_module_version": "1.5.0",
          "state": {
            "_dom_classes": [],
            "_model_module": "@jupyter-widgets/controls",
            "_model_module_version": "1.5.0",
            "_model_name": "FloatProgressModel",
            "_view_count": null,
            "_view_module": "@jupyter-widgets/controls",
            "_view_module_version": "1.5.0",
            "_view_name": "ProgressView",
            "bar_style": "success",
            "description": "",
            "description_tooltip": null,
            "layout": "IPY_MODEL_3b0834ae508a4f1d852b9f3e19565500",
            "max": 435797,
            "min": 0,
            "orientation": "horizontal",
            "style": "IPY_MODEL_7d28850827ed4b2db19efff1fd6c5aeb",
            "value": 435797
          }
        },
        "c5a1b510d60f46139f481802c9b657ab": {
          "model_module": "@jupyter-widgets/controls",
          "model_name": "HTMLModel",
          "model_module_version": "1.5.0",
          "state": {
            "_dom_classes": [],
            "_model_module": "@jupyter-widgets/controls",
            "_model_module_version": "1.5.0",
            "_model_name": "HTMLModel",
            "_view_count": null,
            "_view_module": "@jupyter-widgets/controls",
            "_view_module_version": "1.5.0",
            "_view_name": "HTMLView",
            "description": "",
            "description_tooltip": null,
            "layout": "IPY_MODEL_403abd8fcf514602a2648f17b12423ff",
            "placeholder": "​",
            "style": "IPY_MODEL_0947ad70ac1f431a910b883662e0b54e",
            "value": " 436k/436k [00:00&lt;00:00, 1.21MB/s]"
          }
        },
        "ba9ab6a80fd24c0f870f9661ed4d4aeb": {
          "model_module": "@jupyter-widgets/base",
          "model_name": "LayoutModel",
          "model_module_version": "1.2.0",
          "state": {
            "_model_module": "@jupyter-widgets/base",
            "_model_module_version": "1.2.0",
            "_model_name": "LayoutModel",
            "_view_count": null,
            "_view_module": "@jupyter-widgets/base",
            "_view_module_version": "1.2.0",
            "_view_name": "LayoutView",
            "align_content": null,
            "align_items": null,
            "align_self": null,
            "border": null,
            "bottom": null,
            "display": null,
            "flex": null,
            "flex_flow": null,
            "grid_area": null,
            "grid_auto_columns": null,
            "grid_auto_flow": null,
            "grid_auto_rows": null,
            "grid_column": null,
            "grid_gap": null,
            "grid_row": null,
            "grid_template_areas": null,
            "grid_template_columns": null,
            "grid_template_rows": null,
            "height": null,
            "justify_content": null,
            "justify_items": null,
            "left": null,
            "margin": null,
            "max_height": null,
            "max_width": null,
            "min_height": null,
            "min_width": null,
            "object_fit": null,
            "object_position": null,
            "order": null,
            "overflow": null,
            "overflow_x": null,
            "overflow_y": null,
            "padding": null,
            "right": null,
            "top": null,
            "visibility": null,
            "width": null
          }
        },
        "65d9cf7cb54e4112b432f506b258bfd8": {
          "model_module": "@jupyter-widgets/base",
          "model_name": "LayoutModel",
          "model_module_version": "1.2.0",
          "state": {
            "_model_module": "@jupyter-widgets/base",
            "_model_module_version": "1.2.0",
            "_model_name": "LayoutModel",
            "_view_count": null,
            "_view_module": "@jupyter-widgets/base",
            "_view_module_version": "1.2.0",
            "_view_name": "LayoutView",
            "align_content": null,
            "align_items": null,
            "align_self": null,
            "border": null,
            "bottom": null,
            "display": null,
            "flex": null,
            "flex_flow": null,
            "grid_area": null,
            "grid_auto_columns": null,
            "grid_auto_flow": null,
            "grid_auto_rows": null,
            "grid_column": null,
            "grid_gap": null,
            "grid_row": null,
            "grid_template_areas": null,
            "grid_template_columns": null,
            "grid_template_rows": null,
            "height": null,
            "justify_content": null,
            "justify_items": null,
            "left": null,
            "margin": null,
            "max_height": null,
            "max_width": null,
            "min_height": null,
            "min_width": null,
            "object_fit": null,
            "object_position": null,
            "order": null,
            "overflow": null,
            "overflow_x": null,
            "overflow_y": null,
            "padding": null,
            "right": null,
            "top": null,
            "visibility": null,
            "width": null
          }
        },
        "8ba3306547854c6fa1163be862c2fa03": {
          "model_module": "@jupyter-widgets/controls",
          "model_name": "DescriptionStyleModel",
          "model_module_version": "1.5.0",
          "state": {
            "_model_module": "@jupyter-widgets/controls",
            "_model_module_version": "1.5.0",
            "_model_name": "DescriptionStyleModel",
            "_view_count": null,
            "_view_module": "@jupyter-widgets/base",
            "_view_module_version": "1.2.0",
            "_view_name": "StyleView",
            "description_width": ""
          }
        },
        "3b0834ae508a4f1d852b9f3e19565500": {
          "model_module": "@jupyter-widgets/base",
          "model_name": "LayoutModel",
          "model_module_version": "1.2.0",
          "state": {
            "_model_module": "@jupyter-widgets/base",
            "_model_module_version": "1.2.0",
            "_model_name": "LayoutModel",
            "_view_count": null,
            "_view_module": "@jupyter-widgets/base",
            "_view_module_version": "1.2.0",
            "_view_name": "LayoutView",
            "align_content": null,
            "align_items": null,
            "align_self": null,
            "border": null,
            "bottom": null,
            "display": null,
            "flex": null,
            "flex_flow": null,
            "grid_area": null,
            "grid_auto_columns": null,
            "grid_auto_flow": null,
            "grid_auto_rows": null,
            "grid_column": null,
            "grid_gap": null,
            "grid_row": null,
            "grid_template_areas": null,
            "grid_template_columns": null,
            "grid_template_rows": null,
            "height": null,
            "justify_content": null,
            "justify_items": null,
            "left": null,
            "margin": null,
            "max_height": null,
            "max_width": null,
            "min_height": null,
            "min_width": null,
            "object_fit": null,
            "object_position": null,
            "order": null,
            "overflow": null,
            "overflow_x": null,
            "overflow_y": null,
            "padding": null,
            "right": null,
            "top": null,
            "visibility": null,
            "width": null
          }
        },
        "7d28850827ed4b2db19efff1fd6c5aeb": {
          "model_module": "@jupyter-widgets/controls",
          "model_name": "ProgressStyleModel",
          "model_module_version": "1.5.0",
          "state": {
            "_model_module": "@jupyter-widgets/controls",
            "_model_module_version": "1.5.0",
            "_model_name": "ProgressStyleModel",
            "_view_count": null,
            "_view_module": "@jupyter-widgets/base",
            "_view_module_version": "1.2.0",
            "_view_name": "StyleView",
            "bar_color": null,
            "description_width": ""
          }
        },
        "403abd8fcf514602a2648f17b12423ff": {
          "model_module": "@jupyter-widgets/base",
          "model_name": "LayoutModel",
          "model_module_version": "1.2.0",
          "state": {
            "_model_module": "@jupyter-widgets/base",
            "_model_module_version": "1.2.0",
            "_model_name": "LayoutModel",
            "_view_count": null,
            "_view_module": "@jupyter-widgets/base",
            "_view_module_version": "1.2.0",
            "_view_name": "LayoutView",
            "align_content": null,
            "align_items": null,
            "align_self": null,
            "border": null,
            "bottom": null,
            "display": null,
            "flex": null,
            "flex_flow": null,
            "grid_area": null,
            "grid_auto_columns": null,
            "grid_auto_flow": null,
            "grid_auto_rows": null,
            "grid_column": null,
            "grid_gap": null,
            "grid_row": null,
            "grid_template_areas": null,
            "grid_template_columns": null,
            "grid_template_rows": null,
            "height": null,
            "justify_content": null,
            "justify_items": null,
            "left": null,
            "margin": null,
            "max_height": null,
            "max_width": null,
            "min_height": null,
            "min_width": null,
            "object_fit": null,
            "object_position": null,
            "order": null,
            "overflow": null,
            "overflow_x": null,
            "overflow_y": null,
            "padding": null,
            "right": null,
            "top": null,
            "visibility": null,
            "width": null
          }
        },
        "0947ad70ac1f431a910b883662e0b54e": {
          "model_module": "@jupyter-widgets/controls",
          "model_name": "DescriptionStyleModel",
          "model_module_version": "1.5.0",
          "state": {
            "_model_module": "@jupyter-widgets/controls",
            "_model_module_version": "1.5.0",
            "_model_name": "DescriptionStyleModel",
            "_view_count": null,
            "_view_module": "@jupyter-widgets/base",
            "_view_module_version": "1.2.0",
            "_view_name": "StyleView",
            "description_width": ""
          }
        },
        "e68a5b3339f4472e9e9555d4902d9fa1": {
          "model_module": "@jupyter-widgets/controls",
          "model_name": "HBoxModel",
          "model_module_version": "1.5.0",
          "state": {
            "_dom_classes": [],
            "_model_module": "@jupyter-widgets/controls",
            "_model_module_version": "1.5.0",
            "_model_name": "HBoxModel",
            "_view_count": null,
            "_view_module": "@jupyter-widgets/controls",
            "_view_module_version": "1.5.0",
            "_view_name": "HBoxView",
            "box_style": "",
            "children": [
              "IPY_MODEL_3b37c4a0f3424a2bbf4bec6c9a47c391",
              "IPY_MODEL_fe6daf60156d469f941c443bbc105ad6",
              "IPY_MODEL_d0971ec19ecd49e1990f14c04db6b608"
            ],
            "layout": "IPY_MODEL_5790d654ff0940a78d1befa24c0c383f"
          }
        },
        "3b37c4a0f3424a2bbf4bec6c9a47c391": {
          "model_module": "@jupyter-widgets/controls",
          "model_name": "HTMLModel",
          "model_module_version": "1.5.0",
          "state": {
            "_dom_classes": [],
            "_model_module": "@jupyter-widgets/controls",
            "_model_module_version": "1.5.0",
            "_model_name": "HTMLModel",
            "_view_count": null,
            "_view_module": "@jupyter-widgets/controls",
            "_view_module_version": "1.5.0",
            "_view_name": "HTMLView",
            "description": "",
            "description_tooltip": null,
            "layout": "IPY_MODEL_43ae8d3574ed4438bbc70f1f2837ba7b",
            "placeholder": "​",
            "style": "IPY_MODEL_228988b0bbcb48d9aa1f50a55865e21e",
            "value": "Downloading (…)&quot;pytorch_model.bin&quot;;: 100%"
          }
        },
        "fe6daf60156d469f941c443bbc105ad6": {
          "model_module": "@jupyter-widgets/controls",
          "model_name": "FloatProgressModel",
          "model_module_version": "1.5.0",
          "state": {
            "_dom_classes": [],
            "_model_module": "@jupyter-widgets/controls",
            "_model_module_version": "1.5.0",
            "_model_name": "FloatProgressModel",
            "_view_count": null,
            "_view_module": "@jupyter-widgets/controls",
            "_view_module_version": "1.5.0",
            "_view_name": "ProgressView",
            "bar_style": "success",
            "description": "",
            "description_tooltip": null,
            "layout": "IPY_MODEL_de43ed0ea18f43c7a0750d7fd0a15c27",
            "max": 501200538,
            "min": 0,
            "orientation": "horizontal",
            "style": "IPY_MODEL_e02a6490b4b94624a8f319848b3c2554",
            "value": 501200538
          }
        },
        "d0971ec19ecd49e1990f14c04db6b608": {
          "model_module": "@jupyter-widgets/controls",
          "model_name": "HTMLModel",
          "model_module_version": "1.5.0",
          "state": {
            "_dom_classes": [],
            "_model_module": "@jupyter-widgets/controls",
            "_model_module_version": "1.5.0",
            "_model_name": "HTMLModel",
            "_view_count": null,
            "_view_module": "@jupyter-widgets/controls",
            "_view_module_version": "1.5.0",
            "_view_name": "HTMLView",
            "description": "",
            "description_tooltip": null,
            "layout": "IPY_MODEL_460f4b97c6f349c58ebd5f0d42a27462",
            "placeholder": "​",
            "style": "IPY_MODEL_5d479dfc5c1445ee988c8bfc62bbc9b8",
            "value": " 501M/501M [00:05&lt;00:00, 90.9MB/s]"
          }
        },
        "5790d654ff0940a78d1befa24c0c383f": {
          "model_module": "@jupyter-widgets/base",
          "model_name": "LayoutModel",
          "model_module_version": "1.2.0",
          "state": {
            "_model_module": "@jupyter-widgets/base",
            "_model_module_version": "1.2.0",
            "_model_name": "LayoutModel",
            "_view_count": null,
            "_view_module": "@jupyter-widgets/base",
            "_view_module_version": "1.2.0",
            "_view_name": "LayoutView",
            "align_content": null,
            "align_items": null,
            "align_self": null,
            "border": null,
            "bottom": null,
            "display": null,
            "flex": null,
            "flex_flow": null,
            "grid_area": null,
            "grid_auto_columns": null,
            "grid_auto_flow": null,
            "grid_auto_rows": null,
            "grid_column": null,
            "grid_gap": null,
            "grid_row": null,
            "grid_template_areas": null,
            "grid_template_columns": null,
            "grid_template_rows": null,
            "height": null,
            "justify_content": null,
            "justify_items": null,
            "left": null,
            "margin": null,
            "max_height": null,
            "max_width": null,
            "min_height": null,
            "min_width": null,
            "object_fit": null,
            "object_position": null,
            "order": null,
            "overflow": null,
            "overflow_x": null,
            "overflow_y": null,
            "padding": null,
            "right": null,
            "top": null,
            "visibility": null,
            "width": null
          }
        },
        "43ae8d3574ed4438bbc70f1f2837ba7b": {
          "model_module": "@jupyter-widgets/base",
          "model_name": "LayoutModel",
          "model_module_version": "1.2.0",
          "state": {
            "_model_module": "@jupyter-widgets/base",
            "_model_module_version": "1.2.0",
            "_model_name": "LayoutModel",
            "_view_count": null,
            "_view_module": "@jupyter-widgets/base",
            "_view_module_version": "1.2.0",
            "_view_name": "LayoutView",
            "align_content": null,
            "align_items": null,
            "align_self": null,
            "border": null,
            "bottom": null,
            "display": null,
            "flex": null,
            "flex_flow": null,
            "grid_area": null,
            "grid_auto_columns": null,
            "grid_auto_flow": null,
            "grid_auto_rows": null,
            "grid_column": null,
            "grid_gap": null,
            "grid_row": null,
            "grid_template_areas": null,
            "grid_template_columns": null,
            "grid_template_rows": null,
            "height": null,
            "justify_content": null,
            "justify_items": null,
            "left": null,
            "margin": null,
            "max_height": null,
            "max_width": null,
            "min_height": null,
            "min_width": null,
            "object_fit": null,
            "object_position": null,
            "order": null,
            "overflow": null,
            "overflow_x": null,
            "overflow_y": null,
            "padding": null,
            "right": null,
            "top": null,
            "visibility": null,
            "width": null
          }
        },
        "228988b0bbcb48d9aa1f50a55865e21e": {
          "model_module": "@jupyter-widgets/controls",
          "model_name": "DescriptionStyleModel",
          "model_module_version": "1.5.0",
          "state": {
            "_model_module": "@jupyter-widgets/controls",
            "_model_module_version": "1.5.0",
            "_model_name": "DescriptionStyleModel",
            "_view_count": null,
            "_view_module": "@jupyter-widgets/base",
            "_view_module_version": "1.2.0",
            "_view_name": "StyleView",
            "description_width": ""
          }
        },
        "de43ed0ea18f43c7a0750d7fd0a15c27": {
          "model_module": "@jupyter-widgets/base",
          "model_name": "LayoutModel",
          "model_module_version": "1.2.0",
          "state": {
            "_model_module": "@jupyter-widgets/base",
            "_model_module_version": "1.2.0",
            "_model_name": "LayoutModel",
            "_view_count": null,
            "_view_module": "@jupyter-widgets/base",
            "_view_module_version": "1.2.0",
            "_view_name": "LayoutView",
            "align_content": null,
            "align_items": null,
            "align_self": null,
            "border": null,
            "bottom": null,
            "display": null,
            "flex": null,
            "flex_flow": null,
            "grid_area": null,
            "grid_auto_columns": null,
            "grid_auto_flow": null,
            "grid_auto_rows": null,
            "grid_column": null,
            "grid_gap": null,
            "grid_row": null,
            "grid_template_areas": null,
            "grid_template_columns": null,
            "grid_template_rows": null,
            "height": null,
            "justify_content": null,
            "justify_items": null,
            "left": null,
            "margin": null,
            "max_height": null,
            "max_width": null,
            "min_height": null,
            "min_width": null,
            "object_fit": null,
            "object_position": null,
            "order": null,
            "overflow": null,
            "overflow_x": null,
            "overflow_y": null,
            "padding": null,
            "right": null,
            "top": null,
            "visibility": null,
            "width": null
          }
        },
        "e02a6490b4b94624a8f319848b3c2554": {
          "model_module": "@jupyter-widgets/controls",
          "model_name": "ProgressStyleModel",
          "model_module_version": "1.5.0",
          "state": {
            "_model_module": "@jupyter-widgets/controls",
            "_model_module_version": "1.5.0",
            "_model_name": "ProgressStyleModel",
            "_view_count": null,
            "_view_module": "@jupyter-widgets/base",
            "_view_module_version": "1.2.0",
            "_view_name": "StyleView",
            "bar_color": null,
            "description_width": ""
          }
        },
        "460f4b97c6f349c58ebd5f0d42a27462": {
          "model_module": "@jupyter-widgets/base",
          "model_name": "LayoutModel",
          "model_module_version": "1.2.0",
          "state": {
            "_model_module": "@jupyter-widgets/base",
            "_model_module_version": "1.2.0",
            "_model_name": "LayoutModel",
            "_view_count": null,
            "_view_module": "@jupyter-widgets/base",
            "_view_module_version": "1.2.0",
            "_view_name": "LayoutView",
            "align_content": null,
            "align_items": null,
            "align_self": null,
            "border": null,
            "bottom": null,
            "display": null,
            "flex": null,
            "flex_flow": null,
            "grid_area": null,
            "grid_auto_columns": null,
            "grid_auto_flow": null,
            "grid_auto_rows": null,
            "grid_column": null,
            "grid_gap": null,
            "grid_row": null,
            "grid_template_areas": null,
            "grid_template_columns": null,
            "grid_template_rows": null,
            "height": null,
            "justify_content": null,
            "justify_items": null,
            "left": null,
            "margin": null,
            "max_height": null,
            "max_width": null,
            "min_height": null,
            "min_width": null,
            "object_fit": null,
            "object_position": null,
            "order": null,
            "overflow": null,
            "overflow_x": null,
            "overflow_y": null,
            "padding": null,
            "right": null,
            "top": null,
            "visibility": null,
            "width": null
          }
        },
        "5d479dfc5c1445ee988c8bfc62bbc9b8": {
          "model_module": "@jupyter-widgets/controls",
          "model_name": "DescriptionStyleModel",
          "model_module_version": "1.5.0",
          "state": {
            "_model_module": "@jupyter-widgets/controls",
            "_model_module_version": "1.5.0",
            "_model_name": "DescriptionStyleModel",
            "_view_count": null,
            "_view_module": "@jupyter-widgets/base",
            "_view_module_version": "1.2.0",
            "_view_name": "StyleView",
            "description_width": ""
          }
        },
        "ee1650f459a043ce8782becad217d0ec": {
          "model_module": "@jupyter-widgets/controls",
          "model_name": "HBoxModel",
          "model_module_version": "1.5.0",
          "state": {
            "_dom_classes": [],
            "_model_module": "@jupyter-widgets/controls",
            "_model_module_version": "1.5.0",
            "_model_name": "HBoxModel",
            "_view_count": null,
            "_view_module": "@jupyter-widgets/controls",
            "_view_module_version": "1.5.0",
            "_view_name": "HBoxView",
            "box_style": "",
            "children": [
              "IPY_MODEL_65fc41f2863e481f98afa7043492113f",
              "IPY_MODEL_72cf86a5148e445e8509c834454a83de",
              "IPY_MODEL_9776be134f18468c844394845410c492"
            ],
            "layout": "IPY_MODEL_90f229ee2a644a1c8a90f25dbba7da63"
          }
        },
        "65fc41f2863e481f98afa7043492113f": {
          "model_module": "@jupyter-widgets/controls",
          "model_name": "HTMLModel",
          "model_module_version": "1.5.0",
          "state": {
            "_dom_classes": [],
            "_model_module": "@jupyter-widgets/controls",
            "_model_module_version": "1.5.0",
            "_model_name": "HTMLModel",
            "_view_count": null,
            "_view_module": "@jupyter-widgets/controls",
            "_view_module_version": "1.5.0",
            "_view_name": "HTMLView",
            "description": "",
            "description_tooltip": null,
            "layout": "IPY_MODEL_49380ec07b9142408e3d9e3bf596674d",
            "placeholder": "​",
            "style": "IPY_MODEL_a927e54f54b0499eb9c84d638a3a4ac0",
            "value": "Downloading (…)&quot;pytorch_model.bin&quot;;: 100%"
          }
        },
        "72cf86a5148e445e8509c834454a83de": {
          "model_module": "@jupyter-widgets/controls",
          "model_name": "FloatProgressModel",
          "model_module_version": "1.5.0",
          "state": {
            "_dom_classes": [],
            "_model_module": "@jupyter-widgets/controls",
            "_model_module_version": "1.5.0",
            "_model_name": "FloatProgressModel",
            "_view_count": null,
            "_view_module": "@jupyter-widgets/controls",
            "_view_module_version": "1.5.0",
            "_view_name": "ProgressView",
            "bar_style": "success",
            "description": "",
            "description_tooltip": null,
            "layout": "IPY_MODEL_a27157cc46f049a2b59de7b82d9af172",
            "max": 1115590446,
            "min": 0,
            "orientation": "horizontal",
            "style": "IPY_MODEL_9981e7271fa84201b8d7e2deffdb9f80",
            "value": 1115590446
          }
        },
        "9776be134f18468c844394845410c492": {
          "model_module": "@jupyter-widgets/controls",
          "model_name": "HTMLModel",
          "model_module_version": "1.5.0",
          "state": {
            "_dom_classes": [],
            "_model_module": "@jupyter-widgets/controls",
            "_model_module_version": "1.5.0",
            "_model_name": "HTMLModel",
            "_view_count": null,
            "_view_module": "@jupyter-widgets/controls",
            "_view_module_version": "1.5.0",
            "_view_name": "HTMLView",
            "description": "",
            "description_tooltip": null,
            "layout": "IPY_MODEL_d6cf74bb7e114da594308413c16e13e1",
            "placeholder": "​",
            "style": "IPY_MODEL_d37a00f8ed404864a49973af0540cf0b",
            "value": " 1.12G/1.12G [00:13&lt;00:00, 79.2MB/s]"
          }
        },
        "90f229ee2a644a1c8a90f25dbba7da63": {
          "model_module": "@jupyter-widgets/base",
          "model_name": "LayoutModel",
          "model_module_version": "1.2.0",
          "state": {
            "_model_module": "@jupyter-widgets/base",
            "_model_module_version": "1.2.0",
            "_model_name": "LayoutModel",
            "_view_count": null,
            "_view_module": "@jupyter-widgets/base",
            "_view_module_version": "1.2.0",
            "_view_name": "LayoutView",
            "align_content": null,
            "align_items": null,
            "align_self": null,
            "border": null,
            "bottom": null,
            "display": null,
            "flex": null,
            "flex_flow": null,
            "grid_area": null,
            "grid_auto_columns": null,
            "grid_auto_flow": null,
            "grid_auto_rows": null,
            "grid_column": null,
            "grid_gap": null,
            "grid_row": null,
            "grid_template_areas": null,
            "grid_template_columns": null,
            "grid_template_rows": null,
            "height": null,
            "justify_content": null,
            "justify_items": null,
            "left": null,
            "margin": null,
            "max_height": null,
            "max_width": null,
            "min_height": null,
            "min_width": null,
            "object_fit": null,
            "object_position": null,
            "order": null,
            "overflow": null,
            "overflow_x": null,
            "overflow_y": null,
            "padding": null,
            "right": null,
            "top": null,
            "visibility": null,
            "width": null
          }
        },
        "49380ec07b9142408e3d9e3bf596674d": {
          "model_module": "@jupyter-widgets/base",
          "model_name": "LayoutModel",
          "model_module_version": "1.2.0",
          "state": {
            "_model_module": "@jupyter-widgets/base",
            "_model_module_version": "1.2.0",
            "_model_name": "LayoutModel",
            "_view_count": null,
            "_view_module": "@jupyter-widgets/base",
            "_view_module_version": "1.2.0",
            "_view_name": "LayoutView",
            "align_content": null,
            "align_items": null,
            "align_self": null,
            "border": null,
            "bottom": null,
            "display": null,
            "flex": null,
            "flex_flow": null,
            "grid_area": null,
            "grid_auto_columns": null,
            "grid_auto_flow": null,
            "grid_auto_rows": null,
            "grid_column": null,
            "grid_gap": null,
            "grid_row": null,
            "grid_template_areas": null,
            "grid_template_columns": null,
            "grid_template_rows": null,
            "height": null,
            "justify_content": null,
            "justify_items": null,
            "left": null,
            "margin": null,
            "max_height": null,
            "max_width": null,
            "min_height": null,
            "min_width": null,
            "object_fit": null,
            "object_position": null,
            "order": null,
            "overflow": null,
            "overflow_x": null,
            "overflow_y": null,
            "padding": null,
            "right": null,
            "top": null,
            "visibility": null,
            "width": null
          }
        },
        "a927e54f54b0499eb9c84d638a3a4ac0": {
          "model_module": "@jupyter-widgets/controls",
          "model_name": "DescriptionStyleModel",
          "model_module_version": "1.5.0",
          "state": {
            "_model_module": "@jupyter-widgets/controls",
            "_model_module_version": "1.5.0",
            "_model_name": "DescriptionStyleModel",
            "_view_count": null,
            "_view_module": "@jupyter-widgets/base",
            "_view_module_version": "1.2.0",
            "_view_name": "StyleView",
            "description_width": ""
          }
        },
        "a27157cc46f049a2b59de7b82d9af172": {
          "model_module": "@jupyter-widgets/base",
          "model_name": "LayoutModel",
          "model_module_version": "1.2.0",
          "state": {
            "_model_module": "@jupyter-widgets/base",
            "_model_module_version": "1.2.0",
            "_model_name": "LayoutModel",
            "_view_count": null,
            "_view_module": "@jupyter-widgets/base",
            "_view_module_version": "1.2.0",
            "_view_name": "LayoutView",
            "align_content": null,
            "align_items": null,
            "align_self": null,
            "border": null,
            "bottom": null,
            "display": null,
            "flex": null,
            "flex_flow": null,
            "grid_area": null,
            "grid_auto_columns": null,
            "grid_auto_flow": null,
            "grid_auto_rows": null,
            "grid_column": null,
            "grid_gap": null,
            "grid_row": null,
            "grid_template_areas": null,
            "grid_template_columns": null,
            "grid_template_rows": null,
            "height": null,
            "justify_content": null,
            "justify_items": null,
            "left": null,
            "margin": null,
            "max_height": null,
            "max_width": null,
            "min_height": null,
            "min_width": null,
            "object_fit": null,
            "object_position": null,
            "order": null,
            "overflow": null,
            "overflow_x": null,
            "overflow_y": null,
            "padding": null,
            "right": null,
            "top": null,
            "visibility": null,
            "width": null
          }
        },
        "9981e7271fa84201b8d7e2deffdb9f80": {
          "model_module": "@jupyter-widgets/controls",
          "model_name": "ProgressStyleModel",
          "model_module_version": "1.5.0",
          "state": {
            "_model_module": "@jupyter-widgets/controls",
            "_model_module_version": "1.5.0",
            "_model_name": "ProgressStyleModel",
            "_view_count": null,
            "_view_module": "@jupyter-widgets/base",
            "_view_module_version": "1.2.0",
            "_view_name": "StyleView",
            "bar_color": null,
            "description_width": ""
          }
        },
        "d6cf74bb7e114da594308413c16e13e1": {
          "model_module": "@jupyter-widgets/base",
          "model_name": "LayoutModel",
          "model_module_version": "1.2.0",
          "state": {
            "_model_module": "@jupyter-widgets/base",
            "_model_module_version": "1.2.0",
            "_model_name": "LayoutModel",
            "_view_count": null,
            "_view_module": "@jupyter-widgets/base",
            "_view_module_version": "1.2.0",
            "_view_name": "LayoutView",
            "align_content": null,
            "align_items": null,
            "align_self": null,
            "border": null,
            "bottom": null,
            "display": null,
            "flex": null,
            "flex_flow": null,
            "grid_area": null,
            "grid_auto_columns": null,
            "grid_auto_flow": null,
            "grid_auto_rows": null,
            "grid_column": null,
            "grid_gap": null,
            "grid_row": null,
            "grid_template_areas": null,
            "grid_template_columns": null,
            "grid_template_rows": null,
            "height": null,
            "justify_content": null,
            "justify_items": null,
            "left": null,
            "margin": null,
            "max_height": null,
            "max_width": null,
            "min_height": null,
            "min_width": null,
            "object_fit": null,
            "object_position": null,
            "order": null,
            "overflow": null,
            "overflow_x": null,
            "overflow_y": null,
            "padding": null,
            "right": null,
            "top": null,
            "visibility": null,
            "width": null
          }
        },
        "d37a00f8ed404864a49973af0540cf0b": {
          "model_module": "@jupyter-widgets/controls",
          "model_name": "DescriptionStyleModel",
          "model_module_version": "1.5.0",
          "state": {
            "_model_module": "@jupyter-widgets/controls",
            "_model_module_version": "1.5.0",
            "_model_name": "DescriptionStyleModel",
            "_view_count": null,
            "_view_module": "@jupyter-widgets/base",
            "_view_module_version": "1.2.0",
            "_view_name": "StyleView",
            "description_width": ""
          }
        },
        "1b2b7855a3414571a6f3ba5665efd8a9": {
          "model_module": "@jupyter-widgets/controls",
          "model_name": "HBoxModel",
          "model_module_version": "1.5.0",
          "state": {
            "_dom_classes": [],
            "_model_module": "@jupyter-widgets/controls",
            "_model_module_version": "1.5.0",
            "_model_name": "HBoxModel",
            "_view_count": null,
            "_view_module": "@jupyter-widgets/controls",
            "_view_module_version": "1.5.0",
            "_view_name": "HBoxView",
            "box_style": "",
            "children": [
              "IPY_MODEL_88d6a540db5f409aa80d9889720c6cd2",
              "IPY_MODEL_15e9976c38e640779642003bc34d993b",
              "IPY_MODEL_e08b7af605c345218f317f594d247b21"
            ],
            "layout": "IPY_MODEL_1124e127dd72492cac858b8fe0db790f"
          }
        },
        "88d6a540db5f409aa80d9889720c6cd2": {
          "model_module": "@jupyter-widgets/controls",
          "model_name": "HTMLModel",
          "model_module_version": "1.5.0",
          "state": {
            "_dom_classes": [],
            "_model_module": "@jupyter-widgets/controls",
            "_model_module_version": "1.5.0",
            "_model_name": "HTMLModel",
            "_view_count": null,
            "_view_module": "@jupyter-widgets/controls",
            "_view_module_version": "1.5.0",
            "_view_name": "HTMLView",
            "description": "",
            "description_tooltip": null,
            "layout": "IPY_MODEL_0aa87eec4b1b42fe8778927479e2317c",
            "placeholder": "​",
            "style": "IPY_MODEL_69a0ac4fd4bd40fcad951137623b79a5",
            "value": "Downloading (…)&quot;pytorch_model.bin&quot;;: 100%"
          }
        },
        "15e9976c38e640779642003bc34d993b": {
          "model_module": "@jupyter-widgets/controls",
          "model_name": "FloatProgressModel",
          "model_module_version": "1.5.0",
          "state": {
            "_dom_classes": [],
            "_model_module": "@jupyter-widgets/controls",
            "_model_module_version": "1.5.0",
            "_model_name": "FloatProgressModel",
            "_view_count": null,
            "_view_module": "@jupyter-widgets/controls",
            "_view_module_version": "1.5.0",
            "_view_name": "ProgressView",
            "bar_style": "success",
            "description": "",
            "description_tooltip": null,
            "layout": "IPY_MODEL_261be75db8cc4682879aed7364ebcf41",
            "max": 501200538,
            "min": 0,
            "orientation": "horizontal",
            "style": "IPY_MODEL_0b7b6338a3bd40af900e6d4346ebb592",
            "value": 501200538
          }
        },
        "e08b7af605c345218f317f594d247b21": {
          "model_module": "@jupyter-widgets/controls",
          "model_name": "HTMLModel",
          "model_module_version": "1.5.0",
          "state": {
            "_dom_classes": [],
            "_model_module": "@jupyter-widgets/controls",
            "_model_module_version": "1.5.0",
            "_model_name": "HTMLModel",
            "_view_count": null,
            "_view_module": "@jupyter-widgets/controls",
            "_view_module_version": "1.5.0",
            "_view_name": "HTMLView",
            "description": "",
            "description_tooltip": null,
            "layout": "IPY_MODEL_0141bc3796334c50a481b4b70b590dad",
            "placeholder": "​",
            "style": "IPY_MODEL_95c2145ba8d7464a813f22fb6389f642",
            "value": " 501M/501M [00:05&lt;00:00, 101MB/s]"
          }
        },
        "1124e127dd72492cac858b8fe0db790f": {
          "model_module": "@jupyter-widgets/base",
          "model_name": "LayoutModel",
          "model_module_version": "1.2.0",
          "state": {
            "_model_module": "@jupyter-widgets/base",
            "_model_module_version": "1.2.0",
            "_model_name": "LayoutModel",
            "_view_count": null,
            "_view_module": "@jupyter-widgets/base",
            "_view_module_version": "1.2.0",
            "_view_name": "LayoutView",
            "align_content": null,
            "align_items": null,
            "align_self": null,
            "border": null,
            "bottom": null,
            "display": null,
            "flex": null,
            "flex_flow": null,
            "grid_area": null,
            "grid_auto_columns": null,
            "grid_auto_flow": null,
            "grid_auto_rows": null,
            "grid_column": null,
            "grid_gap": null,
            "grid_row": null,
            "grid_template_areas": null,
            "grid_template_columns": null,
            "grid_template_rows": null,
            "height": null,
            "justify_content": null,
            "justify_items": null,
            "left": null,
            "margin": null,
            "max_height": null,
            "max_width": null,
            "min_height": null,
            "min_width": null,
            "object_fit": null,
            "object_position": null,
            "order": null,
            "overflow": null,
            "overflow_x": null,
            "overflow_y": null,
            "padding": null,
            "right": null,
            "top": null,
            "visibility": null,
            "width": null
          }
        },
        "0aa87eec4b1b42fe8778927479e2317c": {
          "model_module": "@jupyter-widgets/base",
          "model_name": "LayoutModel",
          "model_module_version": "1.2.0",
          "state": {
            "_model_module": "@jupyter-widgets/base",
            "_model_module_version": "1.2.0",
            "_model_name": "LayoutModel",
            "_view_count": null,
            "_view_module": "@jupyter-widgets/base",
            "_view_module_version": "1.2.0",
            "_view_name": "LayoutView",
            "align_content": null,
            "align_items": null,
            "align_self": null,
            "border": null,
            "bottom": null,
            "display": null,
            "flex": null,
            "flex_flow": null,
            "grid_area": null,
            "grid_auto_columns": null,
            "grid_auto_flow": null,
            "grid_auto_rows": null,
            "grid_column": null,
            "grid_gap": null,
            "grid_row": null,
            "grid_template_areas": null,
            "grid_template_columns": null,
            "grid_template_rows": null,
            "height": null,
            "justify_content": null,
            "justify_items": null,
            "left": null,
            "margin": null,
            "max_height": null,
            "max_width": null,
            "min_height": null,
            "min_width": null,
            "object_fit": null,
            "object_position": null,
            "order": null,
            "overflow": null,
            "overflow_x": null,
            "overflow_y": null,
            "padding": null,
            "right": null,
            "top": null,
            "visibility": null,
            "width": null
          }
        },
        "69a0ac4fd4bd40fcad951137623b79a5": {
          "model_module": "@jupyter-widgets/controls",
          "model_name": "DescriptionStyleModel",
          "model_module_version": "1.5.0",
          "state": {
            "_model_module": "@jupyter-widgets/controls",
            "_model_module_version": "1.5.0",
            "_model_name": "DescriptionStyleModel",
            "_view_count": null,
            "_view_module": "@jupyter-widgets/base",
            "_view_module_version": "1.2.0",
            "_view_name": "StyleView",
            "description_width": ""
          }
        },
        "261be75db8cc4682879aed7364ebcf41": {
          "model_module": "@jupyter-widgets/base",
          "model_name": "LayoutModel",
          "model_module_version": "1.2.0",
          "state": {
            "_model_module": "@jupyter-widgets/base",
            "_model_module_version": "1.2.0",
            "_model_name": "LayoutModel",
            "_view_count": null,
            "_view_module": "@jupyter-widgets/base",
            "_view_module_version": "1.2.0",
            "_view_name": "LayoutView",
            "align_content": null,
            "align_items": null,
            "align_self": null,
            "border": null,
            "bottom": null,
            "display": null,
            "flex": null,
            "flex_flow": null,
            "grid_area": null,
            "grid_auto_columns": null,
            "grid_auto_flow": null,
            "grid_auto_rows": null,
            "grid_column": null,
            "grid_gap": null,
            "grid_row": null,
            "grid_template_areas": null,
            "grid_template_columns": null,
            "grid_template_rows": null,
            "height": null,
            "justify_content": null,
            "justify_items": null,
            "left": null,
            "margin": null,
            "max_height": null,
            "max_width": null,
            "min_height": null,
            "min_width": null,
            "object_fit": null,
            "object_position": null,
            "order": null,
            "overflow": null,
            "overflow_x": null,
            "overflow_y": null,
            "padding": null,
            "right": null,
            "top": null,
            "visibility": null,
            "width": null
          }
        },
        "0b7b6338a3bd40af900e6d4346ebb592": {
          "model_module": "@jupyter-widgets/controls",
          "model_name": "ProgressStyleModel",
          "model_module_version": "1.5.0",
          "state": {
            "_model_module": "@jupyter-widgets/controls",
            "_model_module_version": "1.5.0",
            "_model_name": "ProgressStyleModel",
            "_view_count": null,
            "_view_module": "@jupyter-widgets/base",
            "_view_module_version": "1.2.0",
            "_view_name": "StyleView",
            "bar_color": null,
            "description_width": ""
          }
        },
        "0141bc3796334c50a481b4b70b590dad": {
          "model_module": "@jupyter-widgets/base",
          "model_name": "LayoutModel",
          "model_module_version": "1.2.0",
          "state": {
            "_model_module": "@jupyter-widgets/base",
            "_model_module_version": "1.2.0",
            "_model_name": "LayoutModel",
            "_view_count": null,
            "_view_module": "@jupyter-widgets/base",
            "_view_module_version": "1.2.0",
            "_view_name": "LayoutView",
            "align_content": null,
            "align_items": null,
            "align_self": null,
            "border": null,
            "bottom": null,
            "display": null,
            "flex": null,
            "flex_flow": null,
            "grid_area": null,
            "grid_auto_columns": null,
            "grid_auto_flow": null,
            "grid_auto_rows": null,
            "grid_column": null,
            "grid_gap": null,
            "grid_row": null,
            "grid_template_areas": null,
            "grid_template_columns": null,
            "grid_template_rows": null,
            "height": null,
            "justify_content": null,
            "justify_items": null,
            "left": null,
            "margin": null,
            "max_height": null,
            "max_width": null,
            "min_height": null,
            "min_width": null,
            "object_fit": null,
            "object_position": null,
            "order": null,
            "overflow": null,
            "overflow_x": null,
            "overflow_y": null,
            "padding": null,
            "right": null,
            "top": null,
            "visibility": null,
            "width": null
          }
        },
        "95c2145ba8d7464a813f22fb6389f642": {
          "model_module": "@jupyter-widgets/controls",
          "model_name": "DescriptionStyleModel",
          "model_module_version": "1.5.0",
          "state": {
            "_model_module": "@jupyter-widgets/controls",
            "_model_module_version": "1.5.0",
            "_model_name": "DescriptionStyleModel",
            "_view_count": null,
            "_view_module": "@jupyter-widgets/base",
            "_view_module_version": "1.2.0",
            "_view_name": "StyleView",
            "description_width": ""
          }
        },
        "2c5cf901e8e441c1b03bc37ef7db56b1": {
          "model_module": "@jupyter-widgets/controls",
          "model_name": "HBoxModel",
          "model_module_version": "1.5.0",
          "state": {
            "_dom_classes": [],
            "_model_module": "@jupyter-widgets/controls",
            "_model_module_version": "1.5.0",
            "_model_name": "HBoxModel",
            "_view_count": null,
            "_view_module": "@jupyter-widgets/controls",
            "_view_module_version": "1.5.0",
            "_view_name": "HBoxView",
            "box_style": "",
            "children": [
              "IPY_MODEL_dc148f816740433db287787074d6afe2",
              "IPY_MODEL_688adf4f82b34f7493da8a32a80e0254",
              "IPY_MODEL_5d0f7cebd4e34c859f84a41a89a0ffb3"
            ],
            "layout": "IPY_MODEL_d9fd35d73d8a46c3ad13550d65dd9cd4"
          }
        },
        "dc148f816740433db287787074d6afe2": {
          "model_module": "@jupyter-widgets/controls",
          "model_name": "HTMLModel",
          "model_module_version": "1.5.0",
          "state": {
            "_dom_classes": [],
            "_model_module": "@jupyter-widgets/controls",
            "_model_module_version": "1.5.0",
            "_model_name": "HTMLModel",
            "_view_count": null,
            "_view_module": "@jupyter-widgets/controls",
            "_view_module_version": "1.5.0",
            "_view_name": "HTMLView",
            "description": "",
            "description_tooltip": null,
            "layout": "IPY_MODEL_58c9f2d8cb4a49f8ad2e482852e7ff09",
            "placeholder": "​",
            "style": "IPY_MODEL_5431ee4ea21247dd88d2af7dc9cb2cd9",
            "value": "Downloading (…)okenizer_config.json: 100%"
          }
        },
        "688adf4f82b34f7493da8a32a80e0254": {
          "model_module": "@jupyter-widgets/controls",
          "model_name": "FloatProgressModel",
          "model_module_version": "1.5.0",
          "state": {
            "_dom_classes": [],
            "_model_module": "@jupyter-widgets/controls",
            "_model_module_version": "1.5.0",
            "_model_name": "FloatProgressModel",
            "_view_count": null,
            "_view_module": "@jupyter-widgets/controls",
            "_view_module_version": "1.5.0",
            "_view_name": "ProgressView",
            "bar_style": "success",
            "description": "",
            "description_tooltip": null,
            "layout": "IPY_MODEL_5e776b5d55834e93b491d99f4a482b75",
            "max": 29,
            "min": 0,
            "orientation": "horizontal",
            "style": "IPY_MODEL_a1987ac2baf747c88e50db45568fa7d5",
            "value": 29
          }
        },
        "5d0f7cebd4e34c859f84a41a89a0ffb3": {
          "model_module": "@jupyter-widgets/controls",
          "model_name": "HTMLModel",
          "model_module_version": "1.5.0",
          "state": {
            "_dom_classes": [],
            "_model_module": "@jupyter-widgets/controls",
            "_model_module_version": "1.5.0",
            "_model_name": "HTMLModel",
            "_view_count": null,
            "_view_module": "@jupyter-widgets/controls",
            "_view_module_version": "1.5.0",
            "_view_name": "HTMLView",
            "description": "",
            "description_tooltip": null,
            "layout": "IPY_MODEL_cfd3fcffe1a24e6ab772335599feddf6",
            "placeholder": "​",
            "style": "IPY_MODEL_219010f8e8ce44d7a8208c9b0ce0d01d",
            "value": " 29.0/29.0 [00:00&lt;00:00, 684B/s]"
          }
        },
        "d9fd35d73d8a46c3ad13550d65dd9cd4": {
          "model_module": "@jupyter-widgets/base",
          "model_name": "LayoutModel",
          "model_module_version": "1.2.0",
          "state": {
            "_model_module": "@jupyter-widgets/base",
            "_model_module_version": "1.2.0",
            "_model_name": "LayoutModel",
            "_view_count": null,
            "_view_module": "@jupyter-widgets/base",
            "_view_module_version": "1.2.0",
            "_view_name": "LayoutView",
            "align_content": null,
            "align_items": null,
            "align_self": null,
            "border": null,
            "bottom": null,
            "display": null,
            "flex": null,
            "flex_flow": null,
            "grid_area": null,
            "grid_auto_columns": null,
            "grid_auto_flow": null,
            "grid_auto_rows": null,
            "grid_column": null,
            "grid_gap": null,
            "grid_row": null,
            "grid_template_areas": null,
            "grid_template_columns": null,
            "grid_template_rows": null,
            "height": null,
            "justify_content": null,
            "justify_items": null,
            "left": null,
            "margin": null,
            "max_height": null,
            "max_width": null,
            "min_height": null,
            "min_width": null,
            "object_fit": null,
            "object_position": null,
            "order": null,
            "overflow": null,
            "overflow_x": null,
            "overflow_y": null,
            "padding": null,
            "right": null,
            "top": null,
            "visibility": null,
            "width": null
          }
        },
        "58c9f2d8cb4a49f8ad2e482852e7ff09": {
          "model_module": "@jupyter-widgets/base",
          "model_name": "LayoutModel",
          "model_module_version": "1.2.0",
          "state": {
            "_model_module": "@jupyter-widgets/base",
            "_model_module_version": "1.2.0",
            "_model_name": "LayoutModel",
            "_view_count": null,
            "_view_module": "@jupyter-widgets/base",
            "_view_module_version": "1.2.0",
            "_view_name": "LayoutView",
            "align_content": null,
            "align_items": null,
            "align_self": null,
            "border": null,
            "bottom": null,
            "display": null,
            "flex": null,
            "flex_flow": null,
            "grid_area": null,
            "grid_auto_columns": null,
            "grid_auto_flow": null,
            "grid_auto_rows": null,
            "grid_column": null,
            "grid_gap": null,
            "grid_row": null,
            "grid_template_areas": null,
            "grid_template_columns": null,
            "grid_template_rows": null,
            "height": null,
            "justify_content": null,
            "justify_items": null,
            "left": null,
            "margin": null,
            "max_height": null,
            "max_width": null,
            "min_height": null,
            "min_width": null,
            "object_fit": null,
            "object_position": null,
            "order": null,
            "overflow": null,
            "overflow_x": null,
            "overflow_y": null,
            "padding": null,
            "right": null,
            "top": null,
            "visibility": null,
            "width": null
          }
        },
        "5431ee4ea21247dd88d2af7dc9cb2cd9": {
          "model_module": "@jupyter-widgets/controls",
          "model_name": "DescriptionStyleModel",
          "model_module_version": "1.5.0",
          "state": {
            "_model_module": "@jupyter-widgets/controls",
            "_model_module_version": "1.5.0",
            "_model_name": "DescriptionStyleModel",
            "_view_count": null,
            "_view_module": "@jupyter-widgets/base",
            "_view_module_version": "1.2.0",
            "_view_name": "StyleView",
            "description_width": ""
          }
        },
        "5e776b5d55834e93b491d99f4a482b75": {
          "model_module": "@jupyter-widgets/base",
          "model_name": "LayoutModel",
          "model_module_version": "1.2.0",
          "state": {
            "_model_module": "@jupyter-widgets/base",
            "_model_module_version": "1.2.0",
            "_model_name": "LayoutModel",
            "_view_count": null,
            "_view_module": "@jupyter-widgets/base",
            "_view_module_version": "1.2.0",
            "_view_name": "LayoutView",
            "align_content": null,
            "align_items": null,
            "align_self": null,
            "border": null,
            "bottom": null,
            "display": null,
            "flex": null,
            "flex_flow": null,
            "grid_area": null,
            "grid_auto_columns": null,
            "grid_auto_flow": null,
            "grid_auto_rows": null,
            "grid_column": null,
            "grid_gap": null,
            "grid_row": null,
            "grid_template_areas": null,
            "grid_template_columns": null,
            "grid_template_rows": null,
            "height": null,
            "justify_content": null,
            "justify_items": null,
            "left": null,
            "margin": null,
            "max_height": null,
            "max_width": null,
            "min_height": null,
            "min_width": null,
            "object_fit": null,
            "object_position": null,
            "order": null,
            "overflow": null,
            "overflow_x": null,
            "overflow_y": null,
            "padding": null,
            "right": null,
            "top": null,
            "visibility": null,
            "width": null
          }
        },
        "a1987ac2baf747c88e50db45568fa7d5": {
          "model_module": "@jupyter-widgets/controls",
          "model_name": "ProgressStyleModel",
          "model_module_version": "1.5.0",
          "state": {
            "_model_module": "@jupyter-widgets/controls",
            "_model_module_version": "1.5.0",
            "_model_name": "ProgressStyleModel",
            "_view_count": null,
            "_view_module": "@jupyter-widgets/base",
            "_view_module_version": "1.2.0",
            "_view_name": "StyleView",
            "bar_color": null,
            "description_width": ""
          }
        },
        "cfd3fcffe1a24e6ab772335599feddf6": {
          "model_module": "@jupyter-widgets/base",
          "model_name": "LayoutModel",
          "model_module_version": "1.2.0",
          "state": {
            "_model_module": "@jupyter-widgets/base",
            "_model_module_version": "1.2.0",
            "_model_name": "LayoutModel",
            "_view_count": null,
            "_view_module": "@jupyter-widgets/base",
            "_view_module_version": "1.2.0",
            "_view_name": "LayoutView",
            "align_content": null,
            "align_items": null,
            "align_self": null,
            "border": null,
            "bottom": null,
            "display": null,
            "flex": null,
            "flex_flow": null,
            "grid_area": null,
            "grid_auto_columns": null,
            "grid_auto_flow": null,
            "grid_auto_rows": null,
            "grid_column": null,
            "grid_gap": null,
            "grid_row": null,
            "grid_template_areas": null,
            "grid_template_columns": null,
            "grid_template_rows": null,
            "height": null,
            "justify_content": null,
            "justify_items": null,
            "left": null,
            "margin": null,
            "max_height": null,
            "max_width": null,
            "min_height": null,
            "min_width": null,
            "object_fit": null,
            "object_position": null,
            "order": null,
            "overflow": null,
            "overflow_x": null,
            "overflow_y": null,
            "padding": null,
            "right": null,
            "top": null,
            "visibility": null,
            "width": null
          }
        },
        "219010f8e8ce44d7a8208c9b0ce0d01d": {
          "model_module": "@jupyter-widgets/controls",
          "model_name": "DescriptionStyleModel",
          "model_module_version": "1.5.0",
          "state": {
            "_model_module": "@jupyter-widgets/controls",
            "_model_module_version": "1.5.0",
            "_model_name": "DescriptionStyleModel",
            "_view_count": null,
            "_view_module": "@jupyter-widgets/base",
            "_view_module_version": "1.2.0",
            "_view_name": "StyleView",
            "description_width": ""
          }
        },
        "2f8016700b8d4c75968b2e537f6aeee9": {
          "model_module": "@jupyter-widgets/controls",
          "model_name": "HBoxModel",
          "model_module_version": "1.5.0",
          "state": {
            "_dom_classes": [],
            "_model_module": "@jupyter-widgets/controls",
            "_model_module_version": "1.5.0",
            "_model_name": "HBoxModel",
            "_view_count": null,
            "_view_module": "@jupyter-widgets/controls",
            "_view_module_version": "1.5.0",
            "_view_name": "HBoxView",
            "box_style": "",
            "children": [
              "IPY_MODEL_a2869913536b4b9e87c72d84a6d54148",
              "IPY_MODEL_558396fc054349759ea90c25597e53bf",
              "IPY_MODEL_61a87a0c6c8a45a1bfcae31e82a03127"
            ],
            "layout": "IPY_MODEL_69cc39265c7e4ad982e3a7ad4d6bb53a"
          }
        },
        "a2869913536b4b9e87c72d84a6d54148": {
          "model_module": "@jupyter-widgets/controls",
          "model_name": "HTMLModel",
          "model_module_version": "1.5.0",
          "state": {
            "_dom_classes": [],
            "_model_module": "@jupyter-widgets/controls",
            "_model_module_version": "1.5.0",
            "_model_name": "HTMLModel",
            "_view_count": null,
            "_view_module": "@jupyter-widgets/controls",
            "_view_module_version": "1.5.0",
            "_view_name": "HTMLView",
            "description": "",
            "description_tooltip": null,
            "layout": "IPY_MODEL_5651f741d8e04d1082885b39005d9c48",
            "placeholder": "​",
            "style": "IPY_MODEL_c50290572ee3467cb626a52b85d736e7",
            "value": "Downloading (…)lve/main/config.json: 100%"
          }
        },
        "558396fc054349759ea90c25597e53bf": {
          "model_module": "@jupyter-widgets/controls",
          "model_name": "FloatProgressModel",
          "model_module_version": "1.5.0",
          "state": {
            "_dom_classes": [],
            "_model_module": "@jupyter-widgets/controls",
            "_model_module_version": "1.5.0",
            "_model_name": "FloatProgressModel",
            "_view_count": null,
            "_view_module": "@jupyter-widgets/controls",
            "_view_module_version": "1.5.0",
            "_view_name": "ProgressView",
            "bar_style": "success",
            "description": "",
            "description_tooltip": null,
            "layout": "IPY_MODEL_c29a8bc8cad74ba49c3ab9d85f58463c",
            "max": 570,
            "min": 0,
            "orientation": "horizontal",
            "style": "IPY_MODEL_d5b15269673e4aa9bc7601b081a5d56f",
            "value": 570
          }
        },
        "61a87a0c6c8a45a1bfcae31e82a03127": {
          "model_module": "@jupyter-widgets/controls",
          "model_name": "HTMLModel",
          "model_module_version": "1.5.0",
          "state": {
            "_dom_classes": [],
            "_model_module": "@jupyter-widgets/controls",
            "_model_module_version": "1.5.0",
            "_model_name": "HTMLModel",
            "_view_count": null,
            "_view_module": "@jupyter-widgets/controls",
            "_view_module_version": "1.5.0",
            "_view_name": "HTMLView",
            "description": "",
            "description_tooltip": null,
            "layout": "IPY_MODEL_97533556d96c425eac4cf59dbfa47752",
            "placeholder": "​",
            "style": "IPY_MODEL_77f223c6bf6446c59319a7bc3e1bdc77",
            "value": " 570/570 [00:00&lt;00:00, 12.2kB/s]"
          }
        },
        "69cc39265c7e4ad982e3a7ad4d6bb53a": {
          "model_module": "@jupyter-widgets/base",
          "model_name": "LayoutModel",
          "model_module_version": "1.2.0",
          "state": {
            "_model_module": "@jupyter-widgets/base",
            "_model_module_version": "1.2.0",
            "_model_name": "LayoutModel",
            "_view_count": null,
            "_view_module": "@jupyter-widgets/base",
            "_view_module_version": "1.2.0",
            "_view_name": "LayoutView",
            "align_content": null,
            "align_items": null,
            "align_self": null,
            "border": null,
            "bottom": null,
            "display": null,
            "flex": null,
            "flex_flow": null,
            "grid_area": null,
            "grid_auto_columns": null,
            "grid_auto_flow": null,
            "grid_auto_rows": null,
            "grid_column": null,
            "grid_gap": null,
            "grid_row": null,
            "grid_template_areas": null,
            "grid_template_columns": null,
            "grid_template_rows": null,
            "height": null,
            "justify_content": null,
            "justify_items": null,
            "left": null,
            "margin": null,
            "max_height": null,
            "max_width": null,
            "min_height": null,
            "min_width": null,
            "object_fit": null,
            "object_position": null,
            "order": null,
            "overflow": null,
            "overflow_x": null,
            "overflow_y": null,
            "padding": null,
            "right": null,
            "top": null,
            "visibility": null,
            "width": null
          }
        },
        "5651f741d8e04d1082885b39005d9c48": {
          "model_module": "@jupyter-widgets/base",
          "model_name": "LayoutModel",
          "model_module_version": "1.2.0",
          "state": {
            "_model_module": "@jupyter-widgets/base",
            "_model_module_version": "1.2.0",
            "_model_name": "LayoutModel",
            "_view_count": null,
            "_view_module": "@jupyter-widgets/base",
            "_view_module_version": "1.2.0",
            "_view_name": "LayoutView",
            "align_content": null,
            "align_items": null,
            "align_self": null,
            "border": null,
            "bottom": null,
            "display": null,
            "flex": null,
            "flex_flow": null,
            "grid_area": null,
            "grid_auto_columns": null,
            "grid_auto_flow": null,
            "grid_auto_rows": null,
            "grid_column": null,
            "grid_gap": null,
            "grid_row": null,
            "grid_template_areas": null,
            "grid_template_columns": null,
            "grid_template_rows": null,
            "height": null,
            "justify_content": null,
            "justify_items": null,
            "left": null,
            "margin": null,
            "max_height": null,
            "max_width": null,
            "min_height": null,
            "min_width": null,
            "object_fit": null,
            "object_position": null,
            "order": null,
            "overflow": null,
            "overflow_x": null,
            "overflow_y": null,
            "padding": null,
            "right": null,
            "top": null,
            "visibility": null,
            "width": null
          }
        },
        "c50290572ee3467cb626a52b85d736e7": {
          "model_module": "@jupyter-widgets/controls",
          "model_name": "DescriptionStyleModel",
          "model_module_version": "1.5.0",
          "state": {
            "_model_module": "@jupyter-widgets/controls",
            "_model_module_version": "1.5.0",
            "_model_name": "DescriptionStyleModel",
            "_view_count": null,
            "_view_module": "@jupyter-widgets/base",
            "_view_module_version": "1.2.0",
            "_view_name": "StyleView",
            "description_width": ""
          }
        },
        "c29a8bc8cad74ba49c3ab9d85f58463c": {
          "model_module": "@jupyter-widgets/base",
          "model_name": "LayoutModel",
          "model_module_version": "1.2.0",
          "state": {
            "_model_module": "@jupyter-widgets/base",
            "_model_module_version": "1.2.0",
            "_model_name": "LayoutModel",
            "_view_count": null,
            "_view_module": "@jupyter-widgets/base",
            "_view_module_version": "1.2.0",
            "_view_name": "LayoutView",
            "align_content": null,
            "align_items": null,
            "align_self": null,
            "border": null,
            "bottom": null,
            "display": null,
            "flex": null,
            "flex_flow": null,
            "grid_area": null,
            "grid_auto_columns": null,
            "grid_auto_flow": null,
            "grid_auto_rows": null,
            "grid_column": null,
            "grid_gap": null,
            "grid_row": null,
            "grid_template_areas": null,
            "grid_template_columns": null,
            "grid_template_rows": null,
            "height": null,
            "justify_content": null,
            "justify_items": null,
            "left": null,
            "margin": null,
            "max_height": null,
            "max_width": null,
            "min_height": null,
            "min_width": null,
            "object_fit": null,
            "object_position": null,
            "order": null,
            "overflow": null,
            "overflow_x": null,
            "overflow_y": null,
            "padding": null,
            "right": null,
            "top": null,
            "visibility": null,
            "width": null
          }
        },
        "d5b15269673e4aa9bc7601b081a5d56f": {
          "model_module": "@jupyter-widgets/controls",
          "model_name": "ProgressStyleModel",
          "model_module_version": "1.5.0",
          "state": {
            "_model_module": "@jupyter-widgets/controls",
            "_model_module_version": "1.5.0",
            "_model_name": "ProgressStyleModel",
            "_view_count": null,
            "_view_module": "@jupyter-widgets/base",
            "_view_module_version": "1.2.0",
            "_view_name": "StyleView",
            "bar_color": null,
            "description_width": ""
          }
        },
        "97533556d96c425eac4cf59dbfa47752": {
          "model_module": "@jupyter-widgets/base",
          "model_name": "LayoutModel",
          "model_module_version": "1.2.0",
          "state": {
            "_model_module": "@jupyter-widgets/base",
            "_model_module_version": "1.2.0",
            "_model_name": "LayoutModel",
            "_view_count": null,
            "_view_module": "@jupyter-widgets/base",
            "_view_module_version": "1.2.0",
            "_view_name": "LayoutView",
            "align_content": null,
            "align_items": null,
            "align_self": null,
            "border": null,
            "bottom": null,
            "display": null,
            "flex": null,
            "flex_flow": null,
            "grid_area": null,
            "grid_auto_columns": null,
            "grid_auto_flow": null,
            "grid_auto_rows": null,
            "grid_column": null,
            "grid_gap": null,
            "grid_row": null,
            "grid_template_areas": null,
            "grid_template_columns": null,
            "grid_template_rows": null,
            "height": null,
            "justify_content": null,
            "justify_items": null,
            "left": null,
            "margin": null,
            "max_height": null,
            "max_width": null,
            "min_height": null,
            "min_width": null,
            "object_fit": null,
            "object_position": null,
            "order": null,
            "overflow": null,
            "overflow_x": null,
            "overflow_y": null,
            "padding": null,
            "right": null,
            "top": null,
            "visibility": null,
            "width": null
          }
        },
        "77f223c6bf6446c59319a7bc3e1bdc77": {
          "model_module": "@jupyter-widgets/controls",
          "model_name": "DescriptionStyleModel",
          "model_module_version": "1.5.0",
          "state": {
            "_model_module": "@jupyter-widgets/controls",
            "_model_module_version": "1.5.0",
            "_model_name": "DescriptionStyleModel",
            "_view_count": null,
            "_view_module": "@jupyter-widgets/base",
            "_view_module_version": "1.2.0",
            "_view_name": "StyleView",
            "description_width": ""
          }
        },
        "8a5bea196ae342ed94723ea108c6787c": {
          "model_module": "@jupyter-widgets/controls",
          "model_name": "HBoxModel",
          "model_module_version": "1.5.0",
          "state": {
            "_dom_classes": [],
            "_model_module": "@jupyter-widgets/controls",
            "_model_module_version": "1.5.0",
            "_model_name": "HBoxModel",
            "_view_count": null,
            "_view_module": "@jupyter-widgets/controls",
            "_view_module_version": "1.5.0",
            "_view_name": "HBoxView",
            "box_style": "",
            "children": [
              "IPY_MODEL_27b6eaa6c32f49a9b9c44841bb4f528b",
              "IPY_MODEL_ada77023030b48fb955d17e5650e30ba",
              "IPY_MODEL_7b05c199de3843d99323d82ebd7e7087"
            ],
            "layout": "IPY_MODEL_ffa0c95443a546e989b4b4ac6811e179"
          }
        },
        "27b6eaa6c32f49a9b9c44841bb4f528b": {
          "model_module": "@jupyter-widgets/controls",
          "model_name": "HTMLModel",
          "model_module_version": "1.5.0",
          "state": {
            "_dom_classes": [],
            "_model_module": "@jupyter-widgets/controls",
            "_model_module_version": "1.5.0",
            "_model_name": "HTMLModel",
            "_view_count": null,
            "_view_module": "@jupyter-widgets/controls",
            "_view_module_version": "1.5.0",
            "_view_name": "HTMLView",
            "description": "",
            "description_tooltip": null,
            "layout": "IPY_MODEL_11e77b99ecef4aaf959f4d6ecea38db9",
            "placeholder": "​",
            "style": "IPY_MODEL_7fc2ee21e81045038a0d99994c7f6d31",
            "value": "Downloading (…)solve/main/vocab.txt: 100%"
          }
        },
        "ada77023030b48fb955d17e5650e30ba": {
          "model_module": "@jupyter-widgets/controls",
          "model_name": "FloatProgressModel",
          "model_module_version": "1.5.0",
          "state": {
            "_dom_classes": [],
            "_model_module": "@jupyter-widgets/controls",
            "_model_module_version": "1.5.0",
            "_model_name": "FloatProgressModel",
            "_view_count": null,
            "_view_module": "@jupyter-widgets/controls",
            "_view_module_version": "1.5.0",
            "_view_name": "ProgressView",
            "bar_style": "success",
            "description": "",
            "description_tooltip": null,
            "layout": "IPY_MODEL_5d492068688b43e986735733a097b3f8",
            "max": 213450,
            "min": 0,
            "orientation": "horizontal",
            "style": "IPY_MODEL_cb525d2206b14bc6b32d19701b12fa66",
            "value": 213450
          }
        },
        "7b05c199de3843d99323d82ebd7e7087": {
          "model_module": "@jupyter-widgets/controls",
          "model_name": "HTMLModel",
          "model_module_version": "1.5.0",
          "state": {
            "_dom_classes": [],
            "_model_module": "@jupyter-widgets/controls",
            "_model_module_version": "1.5.0",
            "_model_name": "HTMLModel",
            "_view_count": null,
            "_view_module": "@jupyter-widgets/controls",
            "_view_module_version": "1.5.0",
            "_view_name": "HTMLView",
            "description": "",
            "description_tooltip": null,
            "layout": "IPY_MODEL_9076614463594ddbb8a6a00e812525c7",
            "placeholder": "​",
            "style": "IPY_MODEL_97e4adad0b874d0a9cf3ba5ac6a5c266",
            "value": " 213k/213k [00:00&lt;00:00, 4.39MB/s]"
          }
        },
        "ffa0c95443a546e989b4b4ac6811e179": {
          "model_module": "@jupyter-widgets/base",
          "model_name": "LayoutModel",
          "model_module_version": "1.2.0",
          "state": {
            "_model_module": "@jupyter-widgets/base",
            "_model_module_version": "1.2.0",
            "_model_name": "LayoutModel",
            "_view_count": null,
            "_view_module": "@jupyter-widgets/base",
            "_view_module_version": "1.2.0",
            "_view_name": "LayoutView",
            "align_content": null,
            "align_items": null,
            "align_self": null,
            "border": null,
            "bottom": null,
            "display": null,
            "flex": null,
            "flex_flow": null,
            "grid_area": null,
            "grid_auto_columns": null,
            "grid_auto_flow": null,
            "grid_auto_rows": null,
            "grid_column": null,
            "grid_gap": null,
            "grid_row": null,
            "grid_template_areas": null,
            "grid_template_columns": null,
            "grid_template_rows": null,
            "height": null,
            "justify_content": null,
            "justify_items": null,
            "left": null,
            "margin": null,
            "max_height": null,
            "max_width": null,
            "min_height": null,
            "min_width": null,
            "object_fit": null,
            "object_position": null,
            "order": null,
            "overflow": null,
            "overflow_x": null,
            "overflow_y": null,
            "padding": null,
            "right": null,
            "top": null,
            "visibility": null,
            "width": null
          }
        },
        "11e77b99ecef4aaf959f4d6ecea38db9": {
          "model_module": "@jupyter-widgets/base",
          "model_name": "LayoutModel",
          "model_module_version": "1.2.0",
          "state": {
            "_model_module": "@jupyter-widgets/base",
            "_model_module_version": "1.2.0",
            "_model_name": "LayoutModel",
            "_view_count": null,
            "_view_module": "@jupyter-widgets/base",
            "_view_module_version": "1.2.0",
            "_view_name": "LayoutView",
            "align_content": null,
            "align_items": null,
            "align_self": null,
            "border": null,
            "bottom": null,
            "display": null,
            "flex": null,
            "flex_flow": null,
            "grid_area": null,
            "grid_auto_columns": null,
            "grid_auto_flow": null,
            "grid_auto_rows": null,
            "grid_column": null,
            "grid_gap": null,
            "grid_row": null,
            "grid_template_areas": null,
            "grid_template_columns": null,
            "grid_template_rows": null,
            "height": null,
            "justify_content": null,
            "justify_items": null,
            "left": null,
            "margin": null,
            "max_height": null,
            "max_width": null,
            "min_height": null,
            "min_width": null,
            "object_fit": null,
            "object_position": null,
            "order": null,
            "overflow": null,
            "overflow_x": null,
            "overflow_y": null,
            "padding": null,
            "right": null,
            "top": null,
            "visibility": null,
            "width": null
          }
        },
        "7fc2ee21e81045038a0d99994c7f6d31": {
          "model_module": "@jupyter-widgets/controls",
          "model_name": "DescriptionStyleModel",
          "model_module_version": "1.5.0",
          "state": {
            "_model_module": "@jupyter-widgets/controls",
            "_model_module_version": "1.5.0",
            "_model_name": "DescriptionStyleModel",
            "_view_count": null,
            "_view_module": "@jupyter-widgets/base",
            "_view_module_version": "1.2.0",
            "_view_name": "StyleView",
            "description_width": ""
          }
        },
        "5d492068688b43e986735733a097b3f8": {
          "model_module": "@jupyter-widgets/base",
          "model_name": "LayoutModel",
          "model_module_version": "1.2.0",
          "state": {
            "_model_module": "@jupyter-widgets/base",
            "_model_module_version": "1.2.0",
            "_model_name": "LayoutModel",
            "_view_count": null,
            "_view_module": "@jupyter-widgets/base",
            "_view_module_version": "1.2.0",
            "_view_name": "LayoutView",
            "align_content": null,
            "align_items": null,
            "align_self": null,
            "border": null,
            "bottom": null,
            "display": null,
            "flex": null,
            "flex_flow": null,
            "grid_area": null,
            "grid_auto_columns": null,
            "grid_auto_flow": null,
            "grid_auto_rows": null,
            "grid_column": null,
            "grid_gap": null,
            "grid_row": null,
            "grid_template_areas": null,
            "grid_template_columns": null,
            "grid_template_rows": null,
            "height": null,
            "justify_content": null,
            "justify_items": null,
            "left": null,
            "margin": null,
            "max_height": null,
            "max_width": null,
            "min_height": null,
            "min_width": null,
            "object_fit": null,
            "object_position": null,
            "order": null,
            "overflow": null,
            "overflow_x": null,
            "overflow_y": null,
            "padding": null,
            "right": null,
            "top": null,
            "visibility": null,
            "width": null
          }
        },
        "cb525d2206b14bc6b32d19701b12fa66": {
          "model_module": "@jupyter-widgets/controls",
          "model_name": "ProgressStyleModel",
          "model_module_version": "1.5.0",
          "state": {
            "_model_module": "@jupyter-widgets/controls",
            "_model_module_version": "1.5.0",
            "_model_name": "ProgressStyleModel",
            "_view_count": null,
            "_view_module": "@jupyter-widgets/base",
            "_view_module_version": "1.2.0",
            "_view_name": "StyleView",
            "bar_color": null,
            "description_width": ""
          }
        },
        "9076614463594ddbb8a6a00e812525c7": {
          "model_module": "@jupyter-widgets/base",
          "model_name": "LayoutModel",
          "model_module_version": "1.2.0",
          "state": {
            "_model_module": "@jupyter-widgets/base",
            "_model_module_version": "1.2.0",
            "_model_name": "LayoutModel",
            "_view_count": null,
            "_view_module": "@jupyter-widgets/base",
            "_view_module_version": "1.2.0",
            "_view_name": "LayoutView",
            "align_content": null,
            "align_items": null,
            "align_self": null,
            "border": null,
            "bottom": null,
            "display": null,
            "flex": null,
            "flex_flow": null,
            "grid_area": null,
            "grid_auto_columns": null,
            "grid_auto_flow": null,
            "grid_auto_rows": null,
            "grid_column": null,
            "grid_gap": null,
            "grid_row": null,
            "grid_template_areas": null,
            "grid_template_columns": null,
            "grid_template_rows": null,
            "height": null,
            "justify_content": null,
            "justify_items": null,
            "left": null,
            "margin": null,
            "max_height": null,
            "max_width": null,
            "min_height": null,
            "min_width": null,
            "object_fit": null,
            "object_position": null,
            "order": null,
            "overflow": null,
            "overflow_x": null,
            "overflow_y": null,
            "padding": null,
            "right": null,
            "top": null,
            "visibility": null,
            "width": null
          }
        },
        "97e4adad0b874d0a9cf3ba5ac6a5c266": {
          "model_module": "@jupyter-widgets/controls",
          "model_name": "DescriptionStyleModel",
          "model_module_version": "1.5.0",
          "state": {
            "_model_module": "@jupyter-widgets/controls",
            "_model_module_version": "1.5.0",
            "_model_name": "DescriptionStyleModel",
            "_view_count": null,
            "_view_module": "@jupyter-widgets/base",
            "_view_module_version": "1.2.0",
            "_view_name": "StyleView",
            "description_width": ""
          }
        },
        "85bb849573cc465f8b9ea0446e69a2ae": {
          "model_module": "@jupyter-widgets/controls",
          "model_name": "HBoxModel",
          "model_module_version": "1.5.0",
          "state": {
            "_dom_classes": [],
            "_model_module": "@jupyter-widgets/controls",
            "_model_module_version": "1.5.0",
            "_model_name": "HBoxModel",
            "_view_count": null,
            "_view_module": "@jupyter-widgets/controls",
            "_view_module_version": "1.5.0",
            "_view_name": "HBoxView",
            "box_style": "",
            "children": [
              "IPY_MODEL_a42347b6947d4d6caa55a51511bcdfdf",
              "IPY_MODEL_ff01abceaf434163ab72e4872cc90789",
              "IPY_MODEL_c467ab6158d34205a18757d00fe7b6b7"
            ],
            "layout": "IPY_MODEL_94e26f7947df4975b37f9c56baf12711"
          }
        },
        "a42347b6947d4d6caa55a51511bcdfdf": {
          "model_module": "@jupyter-widgets/controls",
          "model_name": "HTMLModel",
          "model_module_version": "1.5.0",
          "state": {
            "_dom_classes": [],
            "_model_module": "@jupyter-widgets/controls",
            "_model_module_version": "1.5.0",
            "_model_name": "HTMLModel",
            "_view_count": null,
            "_view_module": "@jupyter-widgets/controls",
            "_view_module_version": "1.5.0",
            "_view_name": "HTMLView",
            "description": "",
            "description_tooltip": null,
            "layout": "IPY_MODEL_6c872abeb9ed45419e82649eb1302aea",
            "placeholder": "​",
            "style": "IPY_MODEL_8a9b314f359943e98f482fab39f99de7",
            "value": "Downloading (…)/main/tokenizer.json: 100%"
          }
        },
        "ff01abceaf434163ab72e4872cc90789": {
          "model_module": "@jupyter-widgets/controls",
          "model_name": "FloatProgressModel",
          "model_module_version": "1.5.0",
          "state": {
            "_dom_classes": [],
            "_model_module": "@jupyter-widgets/controls",
            "_model_module_version": "1.5.0",
            "_model_name": "FloatProgressModel",
            "_view_count": null,
            "_view_module": "@jupyter-widgets/controls",
            "_view_module_version": "1.5.0",
            "_view_name": "ProgressView",
            "bar_style": "success",
            "description": "",
            "description_tooltip": null,
            "layout": "IPY_MODEL_20a55ab0ef9d44e095f1505f50dce945",
            "max": 435797,
            "min": 0,
            "orientation": "horizontal",
            "style": "IPY_MODEL_67cc1a98ac204aac8cf18a4e42c4d3f6",
            "value": 435797
          }
        },
        "c467ab6158d34205a18757d00fe7b6b7": {
          "model_module": "@jupyter-widgets/controls",
          "model_name": "HTMLModel",
          "model_module_version": "1.5.0",
          "state": {
            "_dom_classes": [],
            "_model_module": "@jupyter-widgets/controls",
            "_model_module_version": "1.5.0",
            "_model_name": "HTMLModel",
            "_view_count": null,
            "_view_module": "@jupyter-widgets/controls",
            "_view_module_version": "1.5.0",
            "_view_name": "HTMLView",
            "description": "",
            "description_tooltip": null,
            "layout": "IPY_MODEL_64c99aede49a462baa6a152120a921de",
            "placeholder": "​",
            "style": "IPY_MODEL_eeba793bc1f94213ae2b483750e8a472",
            "value": " 436k/436k [00:00&lt;00:00, 9.21MB/s]"
          }
        },
        "94e26f7947df4975b37f9c56baf12711": {
          "model_module": "@jupyter-widgets/base",
          "model_name": "LayoutModel",
          "model_module_version": "1.2.0",
          "state": {
            "_model_module": "@jupyter-widgets/base",
            "_model_module_version": "1.2.0",
            "_model_name": "LayoutModel",
            "_view_count": null,
            "_view_module": "@jupyter-widgets/base",
            "_view_module_version": "1.2.0",
            "_view_name": "LayoutView",
            "align_content": null,
            "align_items": null,
            "align_self": null,
            "border": null,
            "bottom": null,
            "display": null,
            "flex": null,
            "flex_flow": null,
            "grid_area": null,
            "grid_auto_columns": null,
            "grid_auto_flow": null,
            "grid_auto_rows": null,
            "grid_column": null,
            "grid_gap": null,
            "grid_row": null,
            "grid_template_areas": null,
            "grid_template_columns": null,
            "grid_template_rows": null,
            "height": null,
            "justify_content": null,
            "justify_items": null,
            "left": null,
            "margin": null,
            "max_height": null,
            "max_width": null,
            "min_height": null,
            "min_width": null,
            "object_fit": null,
            "object_position": null,
            "order": null,
            "overflow": null,
            "overflow_x": null,
            "overflow_y": null,
            "padding": null,
            "right": null,
            "top": null,
            "visibility": null,
            "width": null
          }
        },
        "6c872abeb9ed45419e82649eb1302aea": {
          "model_module": "@jupyter-widgets/base",
          "model_name": "LayoutModel",
          "model_module_version": "1.2.0",
          "state": {
            "_model_module": "@jupyter-widgets/base",
            "_model_module_version": "1.2.0",
            "_model_name": "LayoutModel",
            "_view_count": null,
            "_view_module": "@jupyter-widgets/base",
            "_view_module_version": "1.2.0",
            "_view_name": "LayoutView",
            "align_content": null,
            "align_items": null,
            "align_self": null,
            "border": null,
            "bottom": null,
            "display": null,
            "flex": null,
            "flex_flow": null,
            "grid_area": null,
            "grid_auto_columns": null,
            "grid_auto_flow": null,
            "grid_auto_rows": null,
            "grid_column": null,
            "grid_gap": null,
            "grid_row": null,
            "grid_template_areas": null,
            "grid_template_columns": null,
            "grid_template_rows": null,
            "height": null,
            "justify_content": null,
            "justify_items": null,
            "left": null,
            "margin": null,
            "max_height": null,
            "max_width": null,
            "min_height": null,
            "min_width": null,
            "object_fit": null,
            "object_position": null,
            "order": null,
            "overflow": null,
            "overflow_x": null,
            "overflow_y": null,
            "padding": null,
            "right": null,
            "top": null,
            "visibility": null,
            "width": null
          }
        },
        "8a9b314f359943e98f482fab39f99de7": {
          "model_module": "@jupyter-widgets/controls",
          "model_name": "DescriptionStyleModel",
          "model_module_version": "1.5.0",
          "state": {
            "_model_module": "@jupyter-widgets/controls",
            "_model_module_version": "1.5.0",
            "_model_name": "DescriptionStyleModel",
            "_view_count": null,
            "_view_module": "@jupyter-widgets/base",
            "_view_module_version": "1.2.0",
            "_view_name": "StyleView",
            "description_width": ""
          }
        },
        "20a55ab0ef9d44e095f1505f50dce945": {
          "model_module": "@jupyter-widgets/base",
          "model_name": "LayoutModel",
          "model_module_version": "1.2.0",
          "state": {
            "_model_module": "@jupyter-widgets/base",
            "_model_module_version": "1.2.0",
            "_model_name": "LayoutModel",
            "_view_count": null,
            "_view_module": "@jupyter-widgets/base",
            "_view_module_version": "1.2.0",
            "_view_name": "LayoutView",
            "align_content": null,
            "align_items": null,
            "align_self": null,
            "border": null,
            "bottom": null,
            "display": null,
            "flex": null,
            "flex_flow": null,
            "grid_area": null,
            "grid_auto_columns": null,
            "grid_auto_flow": null,
            "grid_auto_rows": null,
            "grid_column": null,
            "grid_gap": null,
            "grid_row": null,
            "grid_template_areas": null,
            "grid_template_columns": null,
            "grid_template_rows": null,
            "height": null,
            "justify_content": null,
            "justify_items": null,
            "left": null,
            "margin": null,
            "max_height": null,
            "max_width": null,
            "min_height": null,
            "min_width": null,
            "object_fit": null,
            "object_position": null,
            "order": null,
            "overflow": null,
            "overflow_x": null,
            "overflow_y": null,
            "padding": null,
            "right": null,
            "top": null,
            "visibility": null,
            "width": null
          }
        },
        "67cc1a98ac204aac8cf18a4e42c4d3f6": {
          "model_module": "@jupyter-widgets/controls",
          "model_name": "ProgressStyleModel",
          "model_module_version": "1.5.0",
          "state": {
            "_model_module": "@jupyter-widgets/controls",
            "_model_module_version": "1.5.0",
            "_model_name": "ProgressStyleModel",
            "_view_count": null,
            "_view_module": "@jupyter-widgets/base",
            "_view_module_version": "1.2.0",
            "_view_name": "StyleView",
            "bar_color": null,
            "description_width": ""
          }
        },
        "64c99aede49a462baa6a152120a921de": {
          "model_module": "@jupyter-widgets/base",
          "model_name": "LayoutModel",
          "model_module_version": "1.2.0",
          "state": {
            "_model_module": "@jupyter-widgets/base",
            "_model_module_version": "1.2.0",
            "_model_name": "LayoutModel",
            "_view_count": null,
            "_view_module": "@jupyter-widgets/base",
            "_view_module_version": "1.2.0",
            "_view_name": "LayoutView",
            "align_content": null,
            "align_items": null,
            "align_self": null,
            "border": null,
            "bottom": null,
            "display": null,
            "flex": null,
            "flex_flow": null,
            "grid_area": null,
            "grid_auto_columns": null,
            "grid_auto_flow": null,
            "grid_auto_rows": null,
            "grid_column": null,
            "grid_gap": null,
            "grid_row": null,
            "grid_template_areas": null,
            "grid_template_columns": null,
            "grid_template_rows": null,
            "height": null,
            "justify_content": null,
            "justify_items": null,
            "left": null,
            "margin": null,
            "max_height": null,
            "max_width": null,
            "min_height": null,
            "min_width": null,
            "object_fit": null,
            "object_position": null,
            "order": null,
            "overflow": null,
            "overflow_x": null,
            "overflow_y": null,
            "padding": null,
            "right": null,
            "top": null,
            "visibility": null,
            "width": null
          }
        },
        "eeba793bc1f94213ae2b483750e8a472": {
          "model_module": "@jupyter-widgets/controls",
          "model_name": "DescriptionStyleModel",
          "model_module_version": "1.5.0",
          "state": {
            "_model_module": "@jupyter-widgets/controls",
            "_model_module_version": "1.5.0",
            "_model_name": "DescriptionStyleModel",
            "_view_count": null,
            "_view_module": "@jupyter-widgets/base",
            "_view_module_version": "1.2.0",
            "_view_name": "StyleView",
            "description_width": ""
          }
        },
        "29fe622a7e624250be600dbbcaf1488f": {
          "model_module": "@jupyter-widgets/controls",
          "model_name": "HBoxModel",
          "model_module_version": "1.5.0",
          "state": {
            "_dom_classes": [],
            "_model_module": "@jupyter-widgets/controls",
            "_model_module_version": "1.5.0",
            "_model_name": "HBoxModel",
            "_view_count": null,
            "_view_module": "@jupyter-widgets/controls",
            "_view_module_version": "1.5.0",
            "_view_name": "HBoxView",
            "box_style": "",
            "children": [
              "IPY_MODEL_992ef171c6904f59bd3b0fb5a7963973",
              "IPY_MODEL_f4bef986532e4803b78176f814450cbd",
              "IPY_MODEL_e7b3d41e0fb249e7bc5a633c071ad5e2"
            ],
            "layout": "IPY_MODEL_89b5debba8f74d0f8109d3b6724c9a1a"
          }
        },
        "992ef171c6904f59bd3b0fb5a7963973": {
          "model_module": "@jupyter-widgets/controls",
          "model_name": "HTMLModel",
          "model_module_version": "1.5.0",
          "state": {
            "_dom_classes": [],
            "_model_module": "@jupyter-widgets/controls",
            "_model_module_version": "1.5.0",
            "_model_name": "HTMLModel",
            "_view_count": null,
            "_view_module": "@jupyter-widgets/controls",
            "_view_module_version": "1.5.0",
            "_view_name": "HTMLView",
            "description": "",
            "description_tooltip": null,
            "layout": "IPY_MODEL_0208b83ecfcc42dc8a242abf79009c52",
            "placeholder": "​",
            "style": "IPY_MODEL_fa75862d973d46a0ae9eb899047242bf",
            "value": "Downloading (…)&quot;pytorch_model.bin&quot;;: 100%"
          }
        },
        "f4bef986532e4803b78176f814450cbd": {
          "model_module": "@jupyter-widgets/controls",
          "model_name": "FloatProgressModel",
          "model_module_version": "1.5.0",
          "state": {
            "_dom_classes": [],
            "_model_module": "@jupyter-widgets/controls",
            "_model_module_version": "1.5.0",
            "_model_name": "FloatProgressModel",
            "_view_count": null,
            "_view_module": "@jupyter-widgets/controls",
            "_view_module_version": "1.5.0",
            "_view_name": "ProgressView",
            "bar_style": "success",
            "description": "",
            "description_tooltip": null,
            "layout": "IPY_MODEL_00c90b9676ad4900b8dc41e69801d2cf",
            "max": 435779157,
            "min": 0,
            "orientation": "horizontal",
            "style": "IPY_MODEL_1c117610b73143d1a21ae6594080dfce",
            "value": 435779157
          }
        },
        "e7b3d41e0fb249e7bc5a633c071ad5e2": {
          "model_module": "@jupyter-widgets/controls",
          "model_name": "HTMLModel",
          "model_module_version": "1.5.0",
          "state": {
            "_dom_classes": [],
            "_model_module": "@jupyter-widgets/controls",
            "_model_module_version": "1.5.0",
            "_model_name": "HTMLModel",
            "_view_count": null,
            "_view_module": "@jupyter-widgets/controls",
            "_view_module_version": "1.5.0",
            "_view_name": "HTMLView",
            "description": "",
            "description_tooltip": null,
            "layout": "IPY_MODEL_38964ac4e448465c88e138ecd94bd5cd",
            "placeholder": "​",
            "style": "IPY_MODEL_1c7da0ef1807465fb276e926fc4b85de",
            "value": " 436M/436M [00:02&lt;00:00, 140MB/s]"
          }
        },
        "89b5debba8f74d0f8109d3b6724c9a1a": {
          "model_module": "@jupyter-widgets/base",
          "model_name": "LayoutModel",
          "model_module_version": "1.2.0",
          "state": {
            "_model_module": "@jupyter-widgets/base",
            "_model_module_version": "1.2.0",
            "_model_name": "LayoutModel",
            "_view_count": null,
            "_view_module": "@jupyter-widgets/base",
            "_view_module_version": "1.2.0",
            "_view_name": "LayoutView",
            "align_content": null,
            "align_items": null,
            "align_self": null,
            "border": null,
            "bottom": null,
            "display": null,
            "flex": null,
            "flex_flow": null,
            "grid_area": null,
            "grid_auto_columns": null,
            "grid_auto_flow": null,
            "grid_auto_rows": null,
            "grid_column": null,
            "grid_gap": null,
            "grid_row": null,
            "grid_template_areas": null,
            "grid_template_columns": null,
            "grid_template_rows": null,
            "height": null,
            "justify_content": null,
            "justify_items": null,
            "left": null,
            "margin": null,
            "max_height": null,
            "max_width": null,
            "min_height": null,
            "min_width": null,
            "object_fit": null,
            "object_position": null,
            "order": null,
            "overflow": null,
            "overflow_x": null,
            "overflow_y": null,
            "padding": null,
            "right": null,
            "top": null,
            "visibility": null,
            "width": null
          }
        },
        "0208b83ecfcc42dc8a242abf79009c52": {
          "model_module": "@jupyter-widgets/base",
          "model_name": "LayoutModel",
          "model_module_version": "1.2.0",
          "state": {
            "_model_module": "@jupyter-widgets/base",
            "_model_module_version": "1.2.0",
            "_model_name": "LayoutModel",
            "_view_count": null,
            "_view_module": "@jupyter-widgets/base",
            "_view_module_version": "1.2.0",
            "_view_name": "LayoutView",
            "align_content": null,
            "align_items": null,
            "align_self": null,
            "border": null,
            "bottom": null,
            "display": null,
            "flex": null,
            "flex_flow": null,
            "grid_area": null,
            "grid_auto_columns": null,
            "grid_auto_flow": null,
            "grid_auto_rows": null,
            "grid_column": null,
            "grid_gap": null,
            "grid_row": null,
            "grid_template_areas": null,
            "grid_template_columns": null,
            "grid_template_rows": null,
            "height": null,
            "justify_content": null,
            "justify_items": null,
            "left": null,
            "margin": null,
            "max_height": null,
            "max_width": null,
            "min_height": null,
            "min_width": null,
            "object_fit": null,
            "object_position": null,
            "order": null,
            "overflow": null,
            "overflow_x": null,
            "overflow_y": null,
            "padding": null,
            "right": null,
            "top": null,
            "visibility": null,
            "width": null
          }
        },
        "fa75862d973d46a0ae9eb899047242bf": {
          "model_module": "@jupyter-widgets/controls",
          "model_name": "DescriptionStyleModel",
          "model_module_version": "1.5.0",
          "state": {
            "_model_module": "@jupyter-widgets/controls",
            "_model_module_version": "1.5.0",
            "_model_name": "DescriptionStyleModel",
            "_view_count": null,
            "_view_module": "@jupyter-widgets/base",
            "_view_module_version": "1.2.0",
            "_view_name": "StyleView",
            "description_width": ""
          }
        },
        "00c90b9676ad4900b8dc41e69801d2cf": {
          "model_module": "@jupyter-widgets/base",
          "model_name": "LayoutModel",
          "model_module_version": "1.2.0",
          "state": {
            "_model_module": "@jupyter-widgets/base",
            "_model_module_version": "1.2.0",
            "_model_name": "LayoutModel",
            "_view_count": null,
            "_view_module": "@jupyter-widgets/base",
            "_view_module_version": "1.2.0",
            "_view_name": "LayoutView",
            "align_content": null,
            "align_items": null,
            "align_self": null,
            "border": null,
            "bottom": null,
            "display": null,
            "flex": null,
            "flex_flow": null,
            "grid_area": null,
            "grid_auto_columns": null,
            "grid_auto_flow": null,
            "grid_auto_rows": null,
            "grid_column": null,
            "grid_gap": null,
            "grid_row": null,
            "grid_template_areas": null,
            "grid_template_columns": null,
            "grid_template_rows": null,
            "height": null,
            "justify_content": null,
            "justify_items": null,
            "left": null,
            "margin": null,
            "max_height": null,
            "max_width": null,
            "min_height": null,
            "min_width": null,
            "object_fit": null,
            "object_position": null,
            "order": null,
            "overflow": null,
            "overflow_x": null,
            "overflow_y": null,
            "padding": null,
            "right": null,
            "top": null,
            "visibility": null,
            "width": null
          }
        },
        "1c117610b73143d1a21ae6594080dfce": {
          "model_module": "@jupyter-widgets/controls",
          "model_name": "ProgressStyleModel",
          "model_module_version": "1.5.0",
          "state": {
            "_model_module": "@jupyter-widgets/controls",
            "_model_module_version": "1.5.0",
            "_model_name": "ProgressStyleModel",
            "_view_count": null,
            "_view_module": "@jupyter-widgets/base",
            "_view_module_version": "1.2.0",
            "_view_name": "StyleView",
            "bar_color": null,
            "description_width": ""
          }
        },
        "38964ac4e448465c88e138ecd94bd5cd": {
          "model_module": "@jupyter-widgets/base",
          "model_name": "LayoutModel",
          "model_module_version": "1.2.0",
          "state": {
            "_model_module": "@jupyter-widgets/base",
            "_model_module_version": "1.2.0",
            "_model_name": "LayoutModel",
            "_view_count": null,
            "_view_module": "@jupyter-widgets/base",
            "_view_module_version": "1.2.0",
            "_view_name": "LayoutView",
            "align_content": null,
            "align_items": null,
            "align_self": null,
            "border": null,
            "bottom": null,
            "display": null,
            "flex": null,
            "flex_flow": null,
            "grid_area": null,
            "grid_auto_columns": null,
            "grid_auto_flow": null,
            "grid_auto_rows": null,
            "grid_column": null,
            "grid_gap": null,
            "grid_row": null,
            "grid_template_areas": null,
            "grid_template_columns": null,
            "grid_template_rows": null,
            "height": null,
            "justify_content": null,
            "justify_items": null,
            "left": null,
            "margin": null,
            "max_height": null,
            "max_width": null,
            "min_height": null,
            "min_width": null,
            "object_fit": null,
            "object_position": null,
            "order": null,
            "overflow": null,
            "overflow_x": null,
            "overflow_y": null,
            "padding": null,
            "right": null,
            "top": null,
            "visibility": null,
            "width": null
          }
        },
        "1c7da0ef1807465fb276e926fc4b85de": {
          "model_module": "@jupyter-widgets/controls",
          "model_name": "DescriptionStyleModel",
          "model_module_version": "1.5.0",
          "state": {
            "_model_module": "@jupyter-widgets/controls",
            "_model_module_version": "1.5.0",
            "_model_name": "DescriptionStyleModel",
            "_view_count": null,
            "_view_module": "@jupyter-widgets/base",
            "_view_module_version": "1.2.0",
            "_view_name": "StyleView",
            "description_width": ""
          }
        }
      }
    }
  },
  "cells": [
    {
      "cell_type": "markdown",
      "source": [
        "#Libraries and initialization"
      ],
      "metadata": {
        "id": "isMGgszBBDrP"
      }
    },
    {
      "cell_type": "code",
      "execution_count": null,
      "metadata": {
        "colab": {
          "base_uri": "https://localhost:8080/"
        },
        "id": "FjTHy5uUO3zG",
        "outputId": "3ba334a4-546e-438f-f6e3-834f3485b39c"
      },
      "outputs": [
        {
          "output_type": "stream",
          "name": "stdout",
          "text": [
            "Looking in indexes: https://pypi.org/simple, https://us-python.pkg.dev/colab-wheels/public/simple/\n",
            "Requirement already satisfied: transformers in /usr/local/lib/python3.8/dist-packages (4.26.0)\n",
            "Requirement already satisfied: packaging>=20.0 in /usr/local/lib/python3.8/dist-packages (from transformers) (23.0)\n",
            "Requirement already satisfied: filelock in /usr/local/lib/python3.8/dist-packages (from transformers) (3.9.0)\n",
            "Requirement already satisfied: requests in /usr/local/lib/python3.8/dist-packages (from transformers) (2.25.1)\n",
            "Requirement already satisfied: tqdm>=4.27 in /usr/local/lib/python3.8/dist-packages (from transformers) (4.64.1)\n",
            "Requirement already satisfied: numpy>=1.17 in /usr/local/lib/python3.8/dist-packages (from transformers) (1.21.6)\n",
            "Requirement already satisfied: regex!=2019.12.17 in /usr/local/lib/python3.8/dist-packages (from transformers) (2022.6.2)\n",
            "Requirement already satisfied: huggingface-hub<1.0,>=0.11.0 in /usr/local/lib/python3.8/dist-packages (from transformers) (0.12.0)\n",
            "Requirement already satisfied: pyyaml>=5.1 in /usr/local/lib/python3.8/dist-packages (from transformers) (6.0)\n",
            "Requirement already satisfied: tokenizers!=0.11.3,<0.14,>=0.11.1 in /usr/local/lib/python3.8/dist-packages (from transformers) (0.13.2)\n",
            "Requirement already satisfied: typing-extensions>=3.7.4.3 in /usr/local/lib/python3.8/dist-packages (from huggingface-hub<1.0,>=0.11.0->transformers) (4.4.0)\n",
            "Requirement already satisfied: urllib3<1.27,>=1.21.1 in /usr/local/lib/python3.8/dist-packages (from requests->transformers) (1.24.3)\n",
            "Requirement already satisfied: chardet<5,>=3.0.2 in /usr/local/lib/python3.8/dist-packages (from requests->transformers) (4.0.0)\n",
            "Requirement already satisfied: certifi>=2017.4.17 in /usr/local/lib/python3.8/dist-packages (from requests->transformers) (2022.12.7)\n",
            "Requirement already satisfied: idna<3,>=2.5 in /usr/local/lib/python3.8/dist-packages (from requests->transformers) (2.10)\n"
          ]
        }
      ],
      "source": [
        "#install transformers module\n",
        "!pip install transformers"
      ]
    },
    {
      "cell_type": "code",
      "source": [
        "#install crf module\n",
        "!pip install pytorch-crf"
      ],
      "metadata": {
        "id": "mkQKU3wamLkh",
        "colab": {
          "base_uri": "https://localhost:8080/"
        },
        "outputId": "a0c1b570-15d7-41a2-d3cc-7cfc4acf4f0f"
      },
      "execution_count": null,
      "outputs": [
        {
          "output_type": "stream",
          "name": "stdout",
          "text": [
            "Looking in indexes: https://pypi.org/simple, https://us-python.pkg.dev/colab-wheels/public/simple/\n",
            "Requirement already satisfied: pytorch-crf in /usr/local/lib/python3.8/dist-packages (0.7.2)\n"
          ]
        }
      ]
    },
    {
      "cell_type": "code",
      "source": [
        "#import libraries\n",
        "\n",
        "import copy\n",
        "import csv\n",
        "import json\n",
        "import spacy\n",
        "import torch\n",
        "import torch.nn as nn\n",
        "import torch.nn.functional as F\n",
        "from torchcrf import CRF\n",
        "import numpy as np\n",
        "from torch.nn.utils.rnn import pad_sequence\n",
        "from torch.utils.data import Dataset, DataLoader\n",
        "from typing import *\n",
        "import string\n",
        "import matplotlib.pyplot as plt\n",
        "from sklearn.model_selection import train_test_split\n",
        "from sklearn.metrics import confusion_matrix\n",
        "from transformers import AutoTokenizer, AutoModel\n",
        "from sklearn.svm import SVC\n",
        "from sklearn.metrics import accuracy_score"
      ],
      "metadata": {
        "id": "C9tYQ6KzPEkL"
      },
      "execution_count": null,
      "outputs": []
    },
    {
      "cell_type": "code",
      "source": [
        "#Path of data\n",
        "from google.colab import drive\n",
        "drive.mount('/content/drive')"
      ],
      "metadata": {
        "colab": {
          "base_uri": "https://localhost:8080/"
        },
        "id": "fEknpMjJyzHv",
        "outputId": "4b1f34e6-d51c-4028-9c0c-1ddea04b7a08"
      },
      "execution_count": null,
      "outputs": [
        {
          "output_type": "stream",
          "name": "stdout",
          "text": [
            "Drive already mounted at /content/drive; to attempt to forcibly remount, call drive.mount(\"/content/drive\", force_remount=True).\n"
          ]
        }
      ]
    },
    {
      "cell_type": "code",
      "source": [
        "#paths of train data and dev data\n",
        "pth_train = \"/content/drive/MyDrive/data/train.tsv\"\n",
        "pth_dev = \"/content/drive/MyDrive/data/dev.tsv\""
      ],
      "metadata": {
        "id": "qFv-9IAuyrrG"
      },
      "execution_count": null,
      "outputs": []
    },
    {
      "cell_type": "markdown",
      "source": [
        "#Utility functions\n",
        "\n",
        "Fuctions common to more than one section below"
      ],
      "metadata": {
        "id": "LI1mV258n4In"
      }
    },
    {
      "cell_type": "code",
      "source": [
        "#function usaed by dataloader to add pad to the input if input varaiable are 4\n",
        "def collate_fn4(batch):\n",
        "\n",
        "  #add pad to input\n",
        "  input_batch = [item[0][\"input_ids\"] for item in batch]\n",
        "  input_batch = pad_sequence(input_batch, batch_first = True, padding_value=0)\n",
        "\n",
        "  #add pad to the mask\n",
        "  mask_batch = [item[0][\"attention_mask\"] for item in batch]\n",
        "  mask_batch = pad_sequence(mask_batch, batch_first = True, padding_value=0)\n",
        "\n",
        "  #add pad to labels\n",
        "  y_batch = [item[1] for item in batch]\n",
        "  #y_batch = pad_sequence(y_batch, batch_first = True, padding_value=0) #Comment only for Conference resolution task\n",
        "\n",
        "  #third variable with no need of pad\n",
        "  p_batch = [item[2] for item in batch]\n",
        "\n",
        "  #third variable with no need of pad\n",
        "  q_batch = [item[3] for item in batch]\n",
        "  \n",
        "  #recompact dictionary\n",
        "  new_x = {\"input_ids\":input_batch, \"attention_mask\":mask_batch}\n",
        "\n",
        "  return (new_x, y_batch, p_batch, q_batch)\n",
        "\n",
        "#function usaed by dataloader to add pad to the input if input varaiable are 3\n",
        "def collate_fn3(batch):\n",
        "\n",
        "  #add pad to input\n",
        "  input_batch = [item[0][\"input_ids\"] for item in batch]\n",
        "  input_batch = pad_sequence(input_batch, batch_first = True, padding_value=0)\n",
        "\n",
        "  #add pad to the mask\n",
        "  mask_batch = [item[0][\"attention_mask\"] for item in batch]\n",
        "  mask_batch = pad_sequence(mask_batch, batch_first = True, padding_value=0)\n",
        "\n",
        "  #add pad to labels\n",
        "  y_batch = [item[1] for item in batch]\n",
        "  #y_batch = pad_sequence(y_batch, batch_first = True, padding_value=0) #Comment only for Conference resolution task\n",
        "\n",
        "  #third variable with no need of pad\n",
        "  p_batch = [item[2] for item in batch]\n",
        "  \n",
        "  #recompact dictionary\n",
        "  new_x = {\"input_ids\":input_batch, \"attention_mask\":mask_batch}\n",
        "\n",
        "  return (new_x, y_batch, p_batch)\n",
        "\n",
        "#function usaed by dataloader to add pad to the input if input varaiable are 2\n",
        "def collate_fn2(batch):\n",
        "\n",
        "  #add pad to input\n",
        "  input_batch = [item[0][\"input_ids\"] for item in batch]\n",
        "  input_batch = pad_sequence(input_batch, batch_first = True, padding_value=0)\n",
        "\n",
        "  #add pad to the mask\n",
        "  mask_batch = [item[0][\"attention_mask\"] for item in batch]\n",
        "  mask_batch = pad_sequence(mask_batch, batch_first = True, padding_value=0)\n",
        "\n",
        "  #add pad to labels\n",
        "  y_batch = [item[1] for item in batch]\n",
        "  #y_batch = pad_sequence(y_batch, batch_first = True, padding_value=0) #Comment only for Conference resolution task\n",
        "  \n",
        "  #recompact dictionary\n",
        "  new_x = {\"input_ids\":input_batch, \"attention_mask\":mask_batch}\n",
        "  #new_x = {\"input_ids\":input_batch, \"attention_mask\":mask_batch,  \"token_type_ids\":token_type_ids}\n",
        "\n",
        "  return (new_x,y_batch)\n",
        "\n",
        "\"\"\"\n",
        "- args:\n",
        "  - x: list of tokens (padding will be added)\n",
        "  - y: list of labels (padding will be added)\n",
        "  - p: third variable to store other data if needed (optional) (padding no added)\n",
        "  - p: fourth variable to store other data if needed (optional) (padding no added)\n",
        "  - batch_size: # of data for each batch (default is 32)\n",
        "  - flag to enable/disable shuffle of data (default is True)\n",
        "\n",
        "-output:\n",
        "  - Dataloader\n",
        "\"\"\"\n",
        "\n",
        "def create_dataset(x,y, p=None, q=None, batch_size=32, shuffle_flag=True):\n",
        "  dataset = []\n",
        "\n",
        "  #dataset woth 2 variables to zip\n",
        "  if p is None and q is None:\n",
        "    dataset = [(data,label) for data,label in zip(x,y)]\n",
        "    return DataLoader(dataset, batch_size, shuffle=shuffle_flag, collate_fn=collate_fn2)\n",
        "\n",
        "  #dataset woth 3 variables to zip\n",
        "  elif p is not None and q is None:\n",
        "    dataset = [(data,label,app1) for data,label,app1 in zip(x,y,p)]\n",
        "    return DataLoader(dataset, batch_size, shuffle=shuffle_flag, collate_fn=collate_fn3)\n",
        "\n",
        "  #dataset woth 4 variables to zip\n",
        "  elif p is not None and q is not None:\n",
        "    dataset = [(data,label,app1,app2) for data,label,app1,app2 in zip(x,y,p,q)]\n",
        "    return DataLoader(dataset, batch_size, shuffle=shuffle_flag, collate_fn=collate_fn4)"
      ],
      "metadata": {
        "id": "qXT4qdTrn6j6"
      },
      "execution_count": null,
      "outputs": []
    },
    {
      "cell_type": "code",
      "source": [
        "'''\n",
        "Function to tokenize the set and save the index of each token with their offset\n",
        "- args:\n",
        "  - texts: list of list of texts [text1, ..., textN]\n",
        "\n",
        "-output:\n",
        "  - tokens_id: list of list of dictionaries with \"key: index of token, values: (token, offset of token)\"\n",
        "  - tokens_off: list of list of dictionaries with \"key: offset of token, values: (token, index of token)\"\n",
        "'''\n",
        "\n",
        "def find_index_offsets(texts):\n",
        "\n",
        "  tokens_off = []\n",
        "  tokens_id = []  \n",
        "\n",
        "  #load a pre-trained model to do tokanization\n",
        "  nlp = spacy.load(\"en_core_web_sm\")\n",
        "  \n",
        "  for t in texts:\n",
        "    doc = nlp(t)\n",
        "    token_id = {}\n",
        "    token_off = {}\n",
        "    #for each token found by the pre-trained model tokanization\n",
        "    #take index of token, token, offset of token\n",
        "    for i, token in enumerate(doc):\n",
        "        token_id.update({i:(token.text, str(token.idx))}) #{index of token: (token, offset of token)}\n",
        "        token_off.update({token.idx: (token.text, i)})    #{offset of token: (token, index of token)}\n",
        "    tokens_id.append(token_id)\n",
        "    tokens_off.append(token_off)\n",
        "\n",
        "  #chek if lenghts of lists match\n",
        "  assert len(texts) == len(tokens_off) == len(tokens_id)\n",
        "\n",
        "  return tokens_id, tokens_off"
      ],
      "metadata": {
        "id": "ChmRMp4_b62o"
      },
      "execution_count": null,
      "outputs": []
    },
    {
      "cell_type": "code",
      "source": [
        "#plot the losses \n",
        "\n",
        "'''\n",
        "- args:\n",
        "  - train_loss: list of losses\n",
        "  - validation_loss: list of losses\n",
        "  - title: name (stirng)\n",
        "\n",
        "-output:\n",
        "  - plot a graphic\n",
        "'''\n",
        "\n",
        "def plot_train_trend(train_loss: list, validation_loss: list, title: str):\n",
        "\n",
        "  plt.plot(range(len(train_loss)),train_loss)\n",
        "  plt.plot(range(len(validation_loss)),validation_loss)\n",
        "  plt.title(title)\n",
        "  plt.xlabel('Epochs')\n",
        "  plt.ylabel('Loss')\n",
        "  plt.legend(['Train loss', 'Validation loss'], loc='upper left')\n",
        "  plt.show"
      ],
      "metadata": {
        "id": "mukVqopRn6dg"
      },
      "execution_count": null,
      "outputs": []
    },
    {
      "cell_type": "code",
      "source": [
        "#plot a confusion matrix\n",
        "\n",
        "'''\n",
        "- args:\n",
        "  - y: array of true labels\n",
        "  - pred: array of predictions\n",
        "  - classes: list of strings (names of the classes)\n",
        "\n",
        "-output:\n",
        "  - plot a graphic\n",
        "'''\n",
        "\n",
        "def plot_confusion_matrix(y: np.array, pred: np.array, classes: list):\n",
        "  \n",
        "  print('Confusion Matrix')\n",
        "  cm = confusion_matrix(y, pred)\n",
        "  fig, ax = plt.subplots(figsize=(7,7))\n",
        "  im = ax.imshow(cm, interpolation='nearest', cmap=plt.cm.Blues)\n",
        "  cbar = ax.figure.colorbar(im, ax=ax, ticks=[0, 0.5, 1])\n",
        "  cbar.ax.set_yticklabels(['0', '0.5', '1'])\n",
        "  ax.set(xticks=np.arange(cm.shape[1]), yticks=np.arange(cm.shape[0]), xticklabels=classes, yticklabels=classes,\n",
        "           title='Test set',\n",
        "           ylabel='True label',\n",
        "           xlabel='Predicted label')\n",
        "  for i in range(cm.shape[0]):\n",
        "    for j in range(cm.shape[1]):\n",
        "        ax.text(j, i, format((cm[i, j]/(cm[i,0]+cm[i, 1]))*100, '.2f'), ha=\"center\", va=\"center\", fontsize=14)\n",
        "  fig.tight_layout()"
      ],
      "metadata": {
        "id": "7FRSXxdx-Nrt"
      },
      "execution_count": null,
      "outputs": []
    },
    {
      "cell_type": "markdown",
      "source": [
        "#Read data\n",
        "\n",
        "Read data from dataset"
      ],
      "metadata": {
        "id": "aE1db-yxjDsD"
      }
    },
    {
      "cell_type": "code",
      "source": [
        "'''\n",
        "Function to read data from csv files\n",
        "- args:\n",
        "  - pth: path to the file of data\n",
        "\n",
        "-output:\n",
        "  - texts: list of texts [text1, ... textN]\n",
        "  - pronouns: list of ambiguous pronouns and offset in the text [(pronoun1,offset), ... ,(pronounN,offset)]\n",
        "  - entities: list of couples of entities, with the offset in the text and the label TRUE or FALSE [((entityA,offset,TRUE),(entityB,offset,FALSE)),...]\n",
        "'''\n",
        "\n",
        "def read_data(pth):\n",
        "\n",
        "  texts = []\n",
        "  pronouns = []\n",
        "  entities = []\n",
        "\n",
        "  with open(pth) as file:\n",
        "\n",
        "    tsv_file = csv.reader(file, delimiter=\"\\t\")\n",
        "\n",
        "    #Loop to read data from files\n",
        "    for line in tsv_file:\n",
        "\n",
        "      texts.append(line[1]) # [text1,....textN]\n",
        "      pronouns.append((line[2],line[3])) #[(pronoun1,offset), ... ,(pronounN,offset)]\n",
        "      entity1 = (line[4],line[5],line[6]) #(entityA,offset,TRUE)\n",
        "      entity2 = (line[7],line[8],line[9]) #(entityB,offset,FALSE)\n",
        "      entities.append((entity1,entity2)) #[((entityA,offset,TRUE),(entityB,offset,FALSE)),...]\n",
        "\n",
        "    #check iflenghts of lists match\n",
        "    assert len(texts) == len(pronouns) == len(entities)\n",
        "\n",
        "    return texts, pronouns, entities "
      ],
      "metadata": {
        "id": "njaTLzfxP-RV"
      },
      "execution_count": null,
      "outputs": []
    },
    {
      "cell_type": "code",
      "source": [
        "#read data\n",
        "texts, pronouns, entities = read_data(pth_train)\n",
        "texts_dev, pronouns_dev, entities_dev = read_data(pth_dev)"
      ],
      "metadata": {
        "id": "PNJuNC4Au8h0"
      },
      "execution_count": null,
      "outputs": []
    },
    {
      "cell_type": "code",
      "source": [
        "#remove from data first line of the csv file (present only in dev set)\n",
        "texts_dev.pop(0)\n",
        "pronouns_dev.pop(0)\n",
        "entities_dev.pop(0)"
      ],
      "metadata": {
        "colab": {
          "base_uri": "https://localhost:8080/"
        },
        "id": "5KvL_g7oPIze",
        "outputId": "976ae62e-b309-4fe8-f158-5c95e589be84"
      },
      "execution_count": null,
      "outputs": [
        {
          "output_type": "execute_result",
          "data": {
            "text/plain": [
              "(('A', 'A-offset', 'A-coref'), ('B', 'B-offset', 'B-coref'))"
            ]
          },
          "metadata": {},
          "execution_count": 12
        }
      ]
    },
    {
      "cell_type": "markdown",
      "source": [
        "#**Ambiguous Pronoun Identification**"
      ],
      "metadata": {
        "id": "YUZ2nZUOoOqe"
      }
    },
    {
      "cell_type": "markdown",
      "source": [
        "##Pre-process and data organization"
      ],
      "metadata": {
        "id": "eoQ1tnC5BK7g"
      }
    },
    {
      "cell_type": "code",
      "source": [
        "'''\n",
        "Function to find all the pronouns in the text\n",
        "- args:\n",
        "  - texts: list of texts [text1, ... textN]\n",
        "-output:\n",
        "  - tokens: list of list of tokens for each text [[token1,...,tokenM], ..., [token1,...,tokenM]]\n",
        "  - pronouns: list of dictionaries of pronouns in the text with their offset in the text,\n",
        "              key of dictionary is the position of token in which it is [k1: (p1, offset), ... ,k2:(pN,offset)]\n",
        "'''\n",
        "\n",
        "def find_pronouns(texts):\n",
        "\n",
        "  pronouns = []\n",
        "  tokens = []  \n",
        "\n",
        "  #load a pre-trained model to do POS TAGGING\n",
        "  nlp = spacy.load(\"en_core_web_sm\")\n",
        "  \n",
        "  for t in texts:\n",
        "    doc = nlp(t)\n",
        "    pron = {}\n",
        "    token_text = []\n",
        "    #for each token found by the pre-trained model tokanization\n",
        "    #take it if it is a pronoun: number of token, token, offset of token\n",
        "    for i, token in enumerate(doc):\n",
        "        token_text.append(str(token))\n",
        "        if token.pos_ == \"PRON\":\n",
        "            pron.update({i:(token.text, str(token.idx))}) #{index of pronoun: (pronoun, offset)}\n",
        "    tokens.append(token_text)\n",
        "    pronouns.append(pron)\n",
        "\n",
        "  #check if leghts of lists match\n",
        "  assert len(texts) == len(pronouns) == len(tokens)\n",
        "\n",
        "  return tokens, pronouns"
      ],
      "metadata": {
        "id": "7tsLup9lBJKV"
      },
      "execution_count": null,
      "outputs": []
    },
    {
      "cell_type": "code",
      "source": [
        "'''\n",
        "Function to organazie input with respectve labels\n",
        "- args:\n",
        "  - tokens: list of list of tokens of each text [[token1,...,tokenM], ..., [token1,...,tokenM]]\n",
        "  - pronouns: list of dictionaries of pronouns in the text with their offset in the text,\n",
        "  - ident_pron: list of dictionaries of pronouns in the text with their offset in the text,\n",
        "                key of dictionary is the position of token in which it is [k1: (p1, offset), ... ,k2:(pN,offset)]\n",
        "  - true_pron: list of ambiguous pronouns\n",
        "\n",
        "-output:\n",
        "  - new_input: list of list of dictionaries with \"input_ids\" and \"attention_mask\" of each text\n",
        "  - labels: list of labels indicating the ambiguous pronoun of each text\n",
        "'''\n",
        "\n",
        "def organize_data(tokens, ident_pron, true_pron):\n",
        "\n",
        "  #Load Transformer tokenizer\n",
        "  tokenizer = AutoTokenizer.from_pretrained(\"bert-base-cased\")\n",
        "\n",
        "  #tokens of text\n",
        "  new_input = []\n",
        "  masks = []\n",
        "  for t in tokens:  \n",
        "    input_ids = []\n",
        "    mask = []\n",
        "    for ti in t:\n",
        "      #convert tokns in input ids for the transformer\n",
        "      input_ids.append(torch.tensor(tokenizer(ti)[0].ids[1]))\n",
        "    input_ids = torch.stack(input_ids)\n",
        "    #associate a mask (made by all '1', 0s will be added when create batches)\n",
        "    mask = torch.ones(input_ids.shape[0])\n",
        "    new_input.append({\"input_ids\":input_ids,\n",
        "                      \"attention_mask\":mask})\n",
        "  #labels\n",
        "  labels = []\n",
        "  for i, ip, p in zip(new_input,ident_pron,true_pron):\n",
        "    #initialize to all zeros\n",
        "    label = [0 for _ in range(i[\"input_ids\"].shape[0])]\n",
        "    key = [k for k in ip.keys() if ip[k] == p]\n",
        "    #Put '1' in corrispondence of the ambiguous pronoun\n",
        "    label[key[0]] = 1\n",
        "    labels.append(torch.tensor(label))\n",
        "\n",
        "  #check if lenghts of lists match\n",
        "  assert len(new_input) == len(labels)\n",
        "\n",
        "  return new_input, labels"
      ],
      "metadata": {
        "id": "u_uO2CtWjrOf"
      },
      "execution_count": null,
      "outputs": []
    },
    {
      "cell_type": "code",
      "source": [
        "#find tokens and pronouns of each text\n",
        "tokens, identified_pronouns = find_pronouns(texts.copy())\n",
        "tokens_dev, identified_pronouns_dev = find_pronouns(texts_dev.copy())"
      ],
      "metadata": {
        "id": "lTHVHICVGJYR"
      },
      "execution_count": null,
      "outputs": []
    },
    {
      "cell_type": "code",
      "source": [
        "#organize data for dataset\n",
        "new_input, labels = organize_data(tokens, identified_pronouns, pronouns)\n",
        "new_input_dev, labels_dev = organize_data(tokens_dev, identified_pronouns_dev, pronouns_dev)"
      ],
      "metadata": {
        "id": "sWVa3z4P6oDX",
        "colab": {
          "base_uri": "https://localhost:8080/",
          "height": 145,
          "referenced_widgets": [
            "2c5cf901e8e441c1b03bc37ef7db56b1",
            "dc148f816740433db287787074d6afe2",
            "688adf4f82b34f7493da8a32a80e0254",
            "5d0f7cebd4e34c859f84a41a89a0ffb3",
            "d9fd35d73d8a46c3ad13550d65dd9cd4",
            "58c9f2d8cb4a49f8ad2e482852e7ff09",
            "5431ee4ea21247dd88d2af7dc9cb2cd9",
            "5e776b5d55834e93b491d99f4a482b75",
            "a1987ac2baf747c88e50db45568fa7d5",
            "cfd3fcffe1a24e6ab772335599feddf6",
            "219010f8e8ce44d7a8208c9b0ce0d01d",
            "2f8016700b8d4c75968b2e537f6aeee9",
            "a2869913536b4b9e87c72d84a6d54148",
            "558396fc054349759ea90c25597e53bf",
            "61a87a0c6c8a45a1bfcae31e82a03127",
            "69cc39265c7e4ad982e3a7ad4d6bb53a",
            "5651f741d8e04d1082885b39005d9c48",
            "c50290572ee3467cb626a52b85d736e7",
            "c29a8bc8cad74ba49c3ab9d85f58463c",
            "d5b15269673e4aa9bc7601b081a5d56f",
            "97533556d96c425eac4cf59dbfa47752",
            "77f223c6bf6446c59319a7bc3e1bdc77",
            "8a5bea196ae342ed94723ea108c6787c",
            "27b6eaa6c32f49a9b9c44841bb4f528b",
            "ada77023030b48fb955d17e5650e30ba",
            "7b05c199de3843d99323d82ebd7e7087",
            "ffa0c95443a546e989b4b4ac6811e179",
            "11e77b99ecef4aaf959f4d6ecea38db9",
            "7fc2ee21e81045038a0d99994c7f6d31",
            "5d492068688b43e986735733a097b3f8",
            "cb525d2206b14bc6b32d19701b12fa66",
            "9076614463594ddbb8a6a00e812525c7",
            "97e4adad0b874d0a9cf3ba5ac6a5c266",
            "85bb849573cc465f8b9ea0446e69a2ae",
            "a42347b6947d4d6caa55a51511bcdfdf",
            "ff01abceaf434163ab72e4872cc90789",
            "c467ab6158d34205a18757d00fe7b6b7",
            "94e26f7947df4975b37f9c56baf12711",
            "6c872abeb9ed45419e82649eb1302aea",
            "8a9b314f359943e98f482fab39f99de7",
            "20a55ab0ef9d44e095f1505f50dce945",
            "67cc1a98ac204aac8cf18a4e42c4d3f6",
            "64c99aede49a462baa6a152120a921de",
            "eeba793bc1f94213ae2b483750e8a472"
          ]
        },
        "outputId": "48656580-21d2-4cd4-f3fa-6b6adf909243"
      },
      "execution_count": null,
      "outputs": [
        {
          "output_type": "display_data",
          "data": {
            "text/plain": [
              "Downloading (…)okenizer_config.json:   0%|          | 0.00/29.0 [00:00<?, ?B/s]"
            ],
            "application/vnd.jupyter.widget-view+json": {
              "version_major": 2,
              "version_minor": 0,
              "model_id": "2c5cf901e8e441c1b03bc37ef7db56b1"
            }
          },
          "metadata": {}
        },
        {
          "output_type": "display_data",
          "data": {
            "text/plain": [
              "Downloading (…)lve/main/config.json:   0%|          | 0.00/570 [00:00<?, ?B/s]"
            ],
            "application/vnd.jupyter.widget-view+json": {
              "version_major": 2,
              "version_minor": 0,
              "model_id": "2f8016700b8d4c75968b2e537f6aeee9"
            }
          },
          "metadata": {}
        },
        {
          "output_type": "display_data",
          "data": {
            "text/plain": [
              "Downloading (…)solve/main/vocab.txt:   0%|          | 0.00/213k [00:00<?, ?B/s]"
            ],
            "application/vnd.jupyter.widget-view+json": {
              "version_major": 2,
              "version_minor": 0,
              "model_id": "8a5bea196ae342ed94723ea108c6787c"
            }
          },
          "metadata": {}
        },
        {
          "output_type": "display_data",
          "data": {
            "text/plain": [
              "Downloading (…)/main/tokenizer.json:   0%|          | 0.00/436k [00:00<?, ?B/s]"
            ],
            "application/vnd.jupyter.widget-view+json": {
              "version_major": 2,
              "version_minor": 0,
              "model_id": "85bb849573cc465f8b9ea0446e69a2ae"
            }
          },
          "metadata": {}
        }
      ]
    },
    {
      "cell_type": "code",
      "source": [
        "#organize dataset with batches\n",
        "BATCH = 32\n",
        "\n",
        "#split training set into train and validation to train and to evaluate the model\n",
        "x_train, x_val, p_train, p_val, y_train, y_val = train_test_split(new_input, identified_pronouns, labels, test_size = 0.1, random_state = 43)\n",
        "\n",
        "#Define dataset from data for the input of the model\n",
        "dataset_train = create_dataset(x_train, y_train,  p_train, batch_size=BATCH, shuffle_flag=True)\n",
        "dataset_val = create_dataset(x_val, y_val, p_val, batch_size=BATCH, shuffle_flag=True)\n",
        "dataset_dev = create_dataset(new_input_dev, labels_dev, identified_pronouns_dev, batch_size=BATCH, shuffle_flag=True)"
      ],
      "metadata": {
        "id": "5k6ewONvPu_P"
      },
      "execution_count": null,
      "outputs": []
    },
    {
      "cell_type": "markdown",
      "source": [
        "##Train and test functions"
      ],
      "metadata": {
        "id": "vwjqZv_3nsRQ"
      }
    },
    {
      "cell_type": "code",
      "source": [
        "#train function\n",
        "\n",
        "'''\n",
        "- args:\n",
        "  - model: an instance eof the model\n",
        "  - optimizer: an instance of the optimizer\n",
        "  - data_train: dataset for train \n",
        "  - data_val: dataset for validation\n",
        "  - loss_f: loss function\n",
        "  - epochs: (int) numer of epochs (default is 10)\n",
        "  - train_loss: list of train losses if the training continue from previous one, None otherwise\n",
        "  - val_loss: list of validation losses if the training continue from previous one, None otherwise\n",
        "\n",
        "-output:\n",
        "  - tot_loss_train: list of train losses\n",
        "  - tot_loss_val: list of validation losses\n",
        "'''\n",
        "\n",
        "def train(model, optimizer, data_train, data_val, loss_f, epochs: int = 10, train_loss = None, val_loss = None):\n",
        "\n",
        "    #To store losses if call the train to continue a previous training or start new one\n",
        "    if train_loss == None and val_loss == None: \n",
        "      tot_loss_train = []\n",
        "      tot_loss_val = []\n",
        "      epochs_done = 0\n",
        "    else:\n",
        "      tot_loss_train = train_loss\n",
        "      tot_loss_val = val_loss\n",
        "      assert len(tot_loss_train) == len(tot_loss_val)\n",
        "      epochs_done = len(tot_loss_train)\n",
        "\n",
        "    #Variables for early stopping\n",
        "    best_validation_loss = float('inf')\n",
        "    counter = 0\n",
        "    patience = 5\n",
        "    \n",
        "    #main loop\n",
        "    for epoch in range(epochs):\n",
        "\n",
        "        print(\"\\nepoch: \"+str(epoch+1+epochs_done)+\"/\"+str(epochs+epochs_done))\n",
        "\n",
        "        #training loop\n",
        "        print(\"Training...\")\n",
        "        loss_train = []\n",
        "\n",
        "        #process data\n",
        "        for x, y, p in data_train:\n",
        "            optimizer.zero_grad()\n",
        "            input = {k: v.to(device) for k, v in x.items()}\n",
        "            out = model(input,p) #predictions\n",
        "            out = out.type(torch.float).to(device)\n",
        "            y = y.type(torch.float).to(device)\n",
        "            y.requires_grad=True\n",
        "            loss = loss_f(out, y) #compute loss\n",
        "            loss_train.append(loss.item())\n",
        "            loss.backward()\n",
        "            optimizer.step()\n",
        "\n",
        "        #loss of the batch\n",
        "        lt = sum(loss_train)/len(loss_train)\n",
        "\n",
        "        tot_loss_train.append(lt)\n",
        "        print(\"Train Loss: \"+str(lt))\n",
        "\n",
        "        #validation loop\n",
        "        print(\"Validating...\")\n",
        "        loss_val = []\n",
        "\n",
        "        #process data\n",
        "        for x, y, p in data_val:\n",
        "          with torch.no_grad():\n",
        "            input = {k: v.to(device) for k, v in x.items()}\n",
        "            out = model(input,p) #predictions\n",
        "            out = out.type(torch.float).to(device)\n",
        "            y = y.type(torch.float).to(device)\n",
        "            y.requires_grad=True\n",
        "            loss = loss_f(out, y) #compute loss\n",
        "            loss_val.append(loss.item())\n",
        "\n",
        "        #loss of the batch\n",
        "        lv = sum(loss_val)/len(loss_val)\n",
        "\n",
        "        tot_loss_val.append(lv)\n",
        "        print(\"Validation Loss: \"+str(lv)+\"\\n\")\n",
        "\n",
        "        #Early Stopping\n",
        "        if lv < best_validation_loss:\n",
        "          best_validation_loss = lv\n",
        "          counter = 0\n",
        "        else:\n",
        "          counter = counter+1\n",
        "        if counter >= patience:\n",
        "          break\n",
        "    \n",
        "    return tot_loss_train, tot_loss_val"
      ],
      "metadata": {
        "id": "jHHxBEBleCa7"
      },
      "execution_count": null,
      "outputs": []
    },
    {
      "cell_type": "code",
      "source": [
        "#test function\n",
        "\n",
        "'''\n",
        "- input:\n",
        "  - model: an instance of the model\n",
        "  - dataloader: dataset for test\n",
        "\n",
        "- output:\n",
        "  - true: list of true labels (int)\n",
        "  - pred: list of predictions (int)\n",
        "'''\n",
        "\n",
        "def test(model: nn.Module, dataloader: DataLoader):\n",
        "\n",
        "  num_correctly = 0   #number of correctly predicted\n",
        "  pred = []           #list of predictions\n",
        "  true = []           #list of true labels\n",
        "  device = \"cuda\"\n",
        "\n",
        "  for x, y, p in dataloader:\n",
        "\n",
        "      #predict data\n",
        "      with torch.no_grad():\n",
        "          input = {k: v.to(device) for k, v in x.items()}\n",
        "          out = model(input,p) #predictions\n",
        "          out = torch.round(out).to(device)\n",
        "\n",
        "      #check the predictions with true labels to compute Accuracy\n",
        "      for elem_pred, elem_true in zip(out.to(device), y.to(device)):\n",
        "\n",
        "          elem_pred = torch.argmax(elem_pred).item() #take the element\n",
        "          elem_true = torch.argmax(elem_true).item() #take the element\n",
        "            \n",
        "          #comparison between prediction and truth\n",
        "          if elem_pred == elem_true: \n",
        "            num_correctly += 1\n",
        "\n",
        "          true.append(elem_true)\n",
        "          pred.append(elem_pred)\n",
        "\n",
        "  print(\"Identified correctly: \"+str(num_correctly))\n",
        "  print(\"Tot: \"+str(len(true)))\n",
        "  acc = num_correctly/len(true)\n",
        "  print(f'# accuracy: {acc:.4f}')\n",
        "  \n",
        "  return true, pred"
      ],
      "metadata": {
        "id": "dWObkE0E0h3T"
      },
      "execution_count": null,
      "outputs": []
    },
    {
      "cell_type": "markdown",
      "source": [
        "##Model"
      ],
      "metadata": {
        "id": "hZ2ELfBYnyw0"
      }
    },
    {
      "cell_type": "code",
      "source": [
        "#Model for Ambiguous Pronoun Identification\n",
        "class AmbiguousPronounIdentification(torch.nn.Module):\n",
        "\n",
        "    def __init__(self, n_hidden, classes, language_model_name=\"bert-base-cased\"):\n",
        "        super(AmbiguousPronounIdentification, self).__init__()\n",
        "\n",
        "        #Transformer model\n",
        "        self.transformer_model = AutoModel.from_pretrained(language_model_name, output_hidden_states=True)\n",
        "\n",
        "        #Freeze Transformer\n",
        "        for param in self.transformer_model.parameters():\n",
        "          param.requires_grad = False\n",
        "\n",
        "        #Number of features in output from the transformer\n",
        "        self.embedding_dim = self.transformer_model.config.hidden_size\n",
        "\n",
        "        #Additive feature to represent where is a predicate\n",
        "        self.add_features = 1\n",
        "\n",
        "        #BiLSTM layer\n",
        "        self.lstm = nn.LSTM(self.embedding_dim, n_hidden, bidirectional=True, num_layers = 2, dropout=0.3, batch_first = True)\n",
        "\n",
        "        #Linear classifier\n",
        "        self.hidden1 = torch.nn.Linear(2*n_hidden+self.add_features, classes)\n",
        "        #self.hidden2 = torch.nn.Linear(n_hidden, classes)\n",
        "\n",
        "    def forward(self, input_ids: torch.Tensor = None, pronouns: list = None):\n",
        "\n",
        "        out = self.transformer_model(**input_ids)\n",
        "        out = torch.stack(out.hidden_states[-2:], dim=0).mean(dim=0)\n",
        "        out, _ = self.lstm(out)\n",
        "        \n",
        "        #associate '1' in correspondence with the identified pronouns and '0' otherwise\n",
        "        new_out = []\n",
        "        for oi,pi in zip(out, pronouns):\n",
        "          o = []\n",
        "          for i in range(oi.shape[0]):\n",
        "            #concatenate '1' if the token is a predicate, '0' otherwise\n",
        "            if i in pi.keys():\n",
        "              o.append(torch.cat((oi[i,:], torch.ones(1).to(device))))\n",
        "            else:\n",
        "              o.append(torch.cat((oi[i,:], torch.zeros(1).to(device))))\n",
        "          out = torch.stack(o)\n",
        "          #collect each element of the batch\n",
        "          new_out.append(out)\n",
        "        new_out = torch.stack(new_out)\n",
        "\n",
        "        \n",
        "        out = self.hidden1(new_out)\n",
        "        #out = torch.relu(out)\n",
        "        #out = nn.Dropout(0.3)(out)\n",
        "        #out = self.hidden2(out)\n",
        "        out = torch.sigmoid(out)\n",
        "\n",
        "        return out.squeeze(-1)"
      ],
      "metadata": {
        "id": "vLWYiko6Is0u"
      },
      "execution_count": null,
      "outputs": []
    },
    {
      "cell_type": "markdown",
      "source": [
        "###Training and test 1\n",
        "\n",
        "* Batch size used: 32\n",
        "* Epochs of training: 10\n",
        "* Loss function: Mean Squared Error\n",
        "* Activation function: sigmoid\n",
        "* 2 BiLSTM layer\n",
        "* 1 linear layer of the classifier\n",
        "* Transformer \"bert-base-cased\" not finetuned\n",
        "* Adam Optimizer"
      ],
      "metadata": {
        "id": "wripBlr5Focg"
      }
    },
    {
      "cell_type": "code",
      "source": [
        "#HYPERPARAMETERS\n",
        "N_HIDDEN = 200\n",
        "N_CLASSES = 1\n",
        "EPOCHS = 50\n",
        "LOSS = nn.MSELoss()"
      ],
      "metadata": {
        "id": "Q3gB0z8jsK7q"
      },
      "execution_count": null,
      "outputs": []
    },
    {
      "cell_type": "code",
      "source": [
        "#instance of the model and optimizer\n",
        "device = \"cuda\" if torch.cuda.is_available() else \"cpu\"\n",
        "model = AmbiguousPronounIdentification(N_HIDDEN,N_CLASSES)\n",
        "model.to(device)\n",
        "optimizer = torch.optim.Adam(model.parameters())"
      ],
      "metadata": {
        "colab": {
          "base_uri": "https://localhost:8080/",
          "height": 120,
          "referenced_widgets": [
            "29fe622a7e624250be600dbbcaf1488f",
            "992ef171c6904f59bd3b0fb5a7963973",
            "f4bef986532e4803b78176f814450cbd",
            "e7b3d41e0fb249e7bc5a633c071ad5e2",
            "89b5debba8f74d0f8109d3b6724c9a1a",
            "0208b83ecfcc42dc8a242abf79009c52",
            "fa75862d973d46a0ae9eb899047242bf",
            "00c90b9676ad4900b8dc41e69801d2cf",
            "1c117610b73143d1a21ae6594080dfce",
            "38964ac4e448465c88e138ecd94bd5cd",
            "1c7da0ef1807465fb276e926fc4b85de"
          ]
        },
        "id": "hREr1oBTfMva",
        "outputId": "3e7a5900-1c45-4147-fa1f-133280fb2820"
      },
      "execution_count": null,
      "outputs": [
        {
          "output_type": "display_data",
          "data": {
            "text/plain": [
              "Downloading (…)\"pytorch_model.bin\";:   0%|          | 0.00/436M [00:00<?, ?B/s]"
            ],
            "application/vnd.jupyter.widget-view+json": {
              "version_major": 2,
              "version_minor": 0,
              "model_id": "29fe622a7e624250be600dbbcaf1488f"
            }
          },
          "metadata": {}
        },
        {
          "output_type": "stream",
          "name": "stderr",
          "text": [
            "Some weights of the model checkpoint at bert-base-cased were not used when initializing BertModel: ['cls.predictions.transform.dense.bias', 'cls.predictions.transform.LayerNorm.bias', 'cls.seq_relationship.weight', 'cls.predictions.transform.LayerNorm.weight', 'cls.predictions.transform.dense.weight', 'cls.predictions.bias', 'cls.predictions.decoder.weight', 'cls.seq_relationship.bias']\n",
            "- This IS expected if you are initializing BertModel from the checkpoint of a model trained on another task or with another architecture (e.g. initializing a BertForSequenceClassification model from a BertForPreTraining model).\n",
            "- This IS NOT expected if you are initializing BertModel from the checkpoint of a model that you expect to be exactly identical (initializing a BertForSequenceClassification model from a BertForSequenceClassification model).\n"
          ]
        }
      ]
    },
    {
      "cell_type": "code",
      "source": [
        "#Train the model\n",
        "model.train()\n",
        "loss_train, loss_val = train(model, optimizer, dataset_train, dataset_val, LOSS, EPOCHS)"
      ],
      "metadata": {
        "colab": {
          "base_uri": "https://localhost:8080/"
        },
        "id": "ueiPjg-PsoSh",
        "outputId": "1156d74c-8848-4536-b18a-9209b7fb91d4"
      },
      "execution_count": null,
      "outputs": [
        {
          "output_type": "stream",
          "name": "stdout",
          "text": [
            "\n",
            "epoch: 1/50\n",
            "Training...\n",
            "Train Loss: 0.010766449017340645\n",
            "Validating...\n",
            "Validation Loss: 0.007576766982674598\n",
            "\n",
            "\n",
            "epoch: 2/50\n",
            "Training...\n",
            "Train Loss: 0.006718887533882962\n",
            "Validating...\n",
            "Validation Loss: 0.007298959791660309\n",
            "\n",
            "\n",
            "epoch: 3/50\n",
            "Training...\n",
            "Train Loss: 0.006809525780708474\n",
            "Validating...\n",
            "Validation Loss: 0.007302890857681632\n",
            "\n",
            "\n",
            "epoch: 4/50\n",
            "Training...\n",
            "Train Loss: 0.006618208161500447\n",
            "Validating...\n",
            "Validation Loss: 0.0072780120186507705\n",
            "\n",
            "\n",
            "epoch: 5/50\n",
            "Training...\n",
            "Train Loss: 0.006731753023889135\n",
            "Validating...\n",
            "Validation Loss: 0.007191216060891748\n",
            "\n",
            "\n",
            "epoch: 6/50\n",
            "Training...\n",
            "Train Loss: 0.004953692919191192\n",
            "Validating...\n",
            "Validation Loss: 0.00300870897481218\n",
            "\n",
            "\n",
            "epoch: 7/50\n",
            "Training...\n",
            "Train Loss: 0.002257366431877017\n",
            "Validating...\n",
            "Validation Loss: 0.002653092925902456\n",
            "\n",
            "\n",
            "epoch: 8/50\n",
            "Training...\n",
            "Train Loss: 0.0018480903708704693\n",
            "Validating...\n",
            "Validation Loss: 0.0021252977196127175\n",
            "\n",
            "\n",
            "epoch: 9/50\n",
            "Training...\n",
            "Train Loss: 0.0013697487007662216\n",
            "Validating...\n",
            "Validation Loss: 0.0015789696713909506\n",
            "\n",
            "\n",
            "epoch: 10/50\n",
            "Training...\n",
            "Train Loss: 0.001050791358027388\n",
            "Validating...\n",
            "Validation Loss: 0.0013988206861540674\n",
            "\n",
            "\n",
            "epoch: 11/50\n",
            "Training...\n",
            "Train Loss: 0.0007847690286272315\n",
            "Validating...\n",
            "Validation Loss: 0.001369100995361805\n",
            "\n",
            "\n",
            "epoch: 12/50\n",
            "Training...\n",
            "Train Loss: 0.0006624985687641824\n",
            "Validating...\n",
            "Validation Loss: 0.0013269949937239288\n",
            "\n",
            "\n",
            "epoch: 13/50\n",
            "Training...\n",
            "Train Loss: 0.0005630464741604074\n",
            "Validating...\n",
            "Validation Loss: 0.0011683418590109796\n",
            "\n",
            "\n",
            "epoch: 14/50\n",
            "Training...\n",
            "Train Loss: 0.0004932180512910503\n",
            "Validating...\n",
            "Validation Loss: 0.0014085174887441098\n",
            "\n",
            "\n",
            "epoch: 15/50\n",
            "Training...\n",
            "Train Loss: 0.00041013469400401364\n",
            "Validating...\n",
            "Validation Loss: 0.0013720479269977658\n",
            "\n",
            "\n",
            "epoch: 16/50\n",
            "Training...\n",
            "Train Loss: 0.0003968208540326861\n",
            "Validating...\n",
            "Validation Loss: 0.0012314835970755667\n",
            "\n",
            "\n",
            "epoch: 17/50\n",
            "Training...\n",
            "Train Loss: 0.00034994070950179935\n",
            "Validating...\n",
            "Validation Loss: 0.001442221830075141\n",
            "\n",
            "\n",
            "epoch: 18/50\n",
            "Training...\n",
            "Train Loss: 0.0003358908518909148\n",
            "Validating...\n",
            "Validation Loss: 0.0012259634269867093\n",
            "\n"
          ]
        }
      ]
    },
    {
      "cell_type": "code",
      "source": [
        "#Test the model\n",
        "model.eval()\n",
        "true, predictions = test(model, dataset_dev)"
      ],
      "metadata": {
        "colab": {
          "base_uri": "https://localhost:8080/"
        },
        "id": "Kk1gO0yRsFGs",
        "outputId": "f2a98068-fb13-486f-b350-2cbedb1e1eff"
      },
      "execution_count": null,
      "outputs": [
        {
          "output_type": "stream",
          "name": "stdout",
          "text": [
            "Identified correctly: 388\n",
            "Tot: 454\n",
            "# accuracy: 0.8546\n"
          ]
        }
      ]
    },
    {
      "cell_type": "code",
      "source": [
        "plot_train_trend(loss_train, loss_val, \"Ambiguous Pronoun Identification\")"
      ],
      "metadata": {
        "colab": {
          "base_uri": "https://localhost:8080/",
          "height": 295
        },
        "id": "wACTS2dC8SJr",
        "outputId": "36e64a4d-389a-4eb3-f7ec-45d6165117fb"
      },
      "execution_count": null,
      "outputs": [
        {
          "output_type": "display_data",
          "data": {
            "text/plain": [
              "<Figure size 432x288 with 1 Axes>"
            ],
            "image/png": "[encoded data removed]"
          },
          "metadata": {
            "needs_background": "light"
          }
        }
      ]
    },
    {
      "cell_type": "code",
      "source": [
        "#TO SAVE A MODEL\n",
        "pth_model = \"/content/drive/MyDrive/modelPronIdent.pt\"\n",
        "torch.save(model, pth_model, pickle_protocol=4)"
      ],
      "metadata": {
        "id": "XyTBhqsfyIsY"
      },
      "execution_count": null,
      "outputs": []
    },
    {
      "cell_type": "markdown",
      "source": [
        "###Training and test 2\n",
        "\n",
        "* Batch size used: 32\n",
        "* Epochs of training: 10\n",
        "* Loss function: Mean Squared Error\n",
        "* Activation function: sigmoid\n",
        "* 2 BiLSTM layer\n",
        "* 1 linear layer of the classifier\n",
        "* Transformer \"bert-base-cased\" finetuned\n",
        "* Adam Optimizer"
      ],
      "metadata": {
        "id": "VrePlIYRGMvD"
      }
    },
    {
      "cell_type": "code",
      "source": [
        "#HYPERPARAMETERS\n",
        "N_HIDDEN = 200\n",
        "N_CLASSES = 1\n",
        "EPOCHS = 50\n",
        "LOSS = nn.MSELoss()"
      ],
      "metadata": {
        "id": "I1ktFyuVGQiQ"
      },
      "execution_count": null,
      "outputs": []
    },
    {
      "cell_type": "code",
      "source": [
        "#instance of the model and optimizer\n",
        "device = \"cuda\" if torch.cuda.is_available() else \"cpu\"\n",
        "model2 = AmbiguousPronounIdentification(N_HIDDEN,N_CLASSES)\n",
        "model2.to(device)\n",
        "optimizer = torch.optim.Adam(model2.parameters())"
      ],
      "metadata": {
        "colab": {
          "base_uri": "https://localhost:8080/"
        },
        "id": "HoyKqeTRGRbk",
        "outputId": "c923b905-576b-456a-f2d5-a7699a4e05ba"
      },
      "execution_count": null,
      "outputs": [
        {
          "output_type": "stream",
          "name": "stderr",
          "text": [
            "Some weights of the model checkpoint at bert-base-cased were not used when initializing BertModel: ['cls.seq_relationship.weight', 'cls.predictions.transform.dense.bias', 'cls.predictions.transform.LayerNorm.weight', 'cls.predictions.decoder.weight', 'cls.predictions.transform.dense.weight', 'cls.seq_relationship.bias', 'cls.predictions.bias', 'cls.predictions.transform.LayerNorm.bias']\n",
            "- This IS expected if you are initializing BertModel from the checkpoint of a model trained on another task or with another architecture (e.g. initializing a BertForSequenceClassification model from a BertForPreTraining model).\n",
            "- This IS NOT expected if you are initializing BertModel from the checkpoint of a model that you expect to be exactly identical (initializing a BertForSequenceClassification model from a BertForSequenceClassification model).\n"
          ]
        }
      ]
    },
    {
      "cell_type": "code",
      "source": [
        "#Train the model\n",
        "model2.train()\n",
        "loss_train, loss_val = train(model2, optimizer, dataset_train, dataset_val, LOSS, EPOCHS)"
      ],
      "metadata": {
        "colab": {
          "base_uri": "https://localhost:8080/"
        },
        "id": "ooPGVNkQPOQB",
        "outputId": "eb02881d-bf20-42b6-b60e-2d41bd906ad3"
      },
      "execution_count": null,
      "outputs": [
        {
          "output_type": "stream",
          "name": "stdout",
          "text": [
            "\n",
            "epoch: 1/50\n",
            "Training...\n",
            "Train Loss: 0.01360224893261843\n",
            "Validating...\n",
            "Validation Loss: 0.0073534735478460785\n",
            "\n",
            "\n",
            "epoch: 2/50\n",
            "Training...\n",
            "Train Loss: 0.006809082199983737\n",
            "Validating...\n",
            "Validation Loss: 0.007261363416910171\n",
            "\n",
            "\n",
            "epoch: 3/50\n",
            "Training...\n",
            "Train Loss: 0.006746556998833138\n",
            "Validating...\n",
            "Validation Loss: 0.007680592220276594\n",
            "\n",
            "\n",
            "epoch: 4/50\n",
            "Training...\n",
            "Train Loss: 0.006766196091056747\n",
            "Validating...\n",
            "Validation Loss: 0.007273732963949442\n",
            "\n",
            "\n",
            "epoch: 5/50\n",
            "Training...\n",
            "Train Loss: 0.00678847788778298\n",
            "Validating...\n",
            "Validation Loss: 0.007369366940110922\n",
            "\n",
            "\n",
            "epoch: 6/50\n",
            "Training...\n",
            "Train Loss: 0.0067510220003040395\n",
            "Validating...\n",
            "Validation Loss: 0.007179484469816089\n",
            "\n",
            "\n",
            "epoch: 7/50\n",
            "Training...\n",
            "Train Loss: 0.006679329980055199\n",
            "Validating...\n",
            "Validation Loss: 0.007194415153935552\n",
            "\n",
            "\n",
            "epoch: 8/50\n",
            "Training...\n",
            "Train Loss: 0.006679690267671557\n",
            "Validating...\n",
            "Validation Loss: 0.0072586183901876215\n",
            "\n",
            "\n",
            "epoch: 9/50\n",
            "Training...\n",
            "Train Loss: 0.0064404491718639345\n",
            "Validating...\n",
            "Validation Loss: 0.005984286870807409\n",
            "\n",
            "\n",
            "epoch: 10/50\n",
            "Training...\n",
            "Train Loss: 0.00498295042609029\n",
            "Validating...\n",
            "Validation Loss: 0.005014791525900364\n",
            "\n",
            "\n",
            "epoch: 11/50\n",
            "Training...\n",
            "Train Loss: 0.004619259159902439\n",
            "Validating...\n",
            "Validation Loss: 0.004745482839643956\n",
            "\n",
            "\n",
            "epoch: 12/50\n",
            "Training...\n",
            "Train Loss: 0.004116059089189067\n",
            "Validating...\n",
            "Validation Loss: 0.004554169648326933\n",
            "\n",
            "\n",
            "epoch: 13/50\n",
            "Training...\n",
            "Train Loss: 0.0037131433964104335\n",
            "Validating...\n",
            "Validation Loss: 0.004217007872648537\n",
            "\n",
            "\n",
            "epoch: 14/50\n",
            "Training...\n",
            "Train Loss: 0.0035396530607934382\n",
            "Validating...\n",
            "Validation Loss: 0.003600085084326565\n",
            "\n",
            "\n",
            "epoch: 15/50\n",
            "Training...\n",
            "Train Loss: 0.0032667820684283097\n",
            "Validating...\n",
            "Validation Loss: 0.0036317474208772183\n",
            "\n",
            "\n",
            "epoch: 16/50\n",
            "Training...\n",
            "Train Loss: 0.0033127708086634383\n",
            "Validating...\n",
            "Validation Loss: 0.003919891314581037\n",
            "\n",
            "\n",
            "epoch: 17/50\n",
            "Training...\n",
            "Train Loss: 0.003202178825021667\n",
            "Validating...\n",
            "Validation Loss: 0.003910644678398967\n",
            "\n",
            "\n",
            "epoch: 18/50\n",
            "Training...\n",
            "Train Loss: 0.003231314562863725\n",
            "Validating...\n",
            "Validation Loss: 0.0034112643217667936\n",
            "\n",
            "\n",
            "epoch: 19/50\n",
            "Training...\n",
            "Train Loss: 0.002954067407614168\n",
            "Validating...\n",
            "Validation Loss: 0.0036075544776394963\n",
            "\n",
            "\n",
            "epoch: 20/50\n",
            "Training...\n",
            "Train Loss: 0.002963632987538243\n",
            "Validating...\n",
            "Validation Loss: 0.003888780646957457\n",
            "\n",
            "\n",
            "epoch: 21/50\n",
            "Training...\n",
            "Train Loss: 0.002910229441819384\n",
            "Validating...\n",
            "Validation Loss: 0.0032732463674619793\n",
            "\n",
            "\n",
            "epoch: 22/50\n",
            "Training...\n",
            "Train Loss: 0.0029358606949886853\n",
            "Validating...\n",
            "Validation Loss: 0.003350621904246509\n",
            "\n",
            "\n",
            "epoch: 23/50\n",
            "Training...\n",
            "Train Loss: 0.0032024008851936634\n",
            "Validating...\n",
            "Validation Loss: 0.0034070433583110573\n",
            "\n",
            "\n",
            "epoch: 24/50\n",
            "Training...\n",
            "Train Loss: 0.002993043509366758\n",
            "Validating...\n",
            "Validation Loss: 0.003929569199681282\n",
            "\n",
            "\n",
            "epoch: 25/50\n",
            "Training...\n",
            "Train Loss: 0.0028892050154835864\n",
            "Validating...\n",
            "Validation Loss: 0.003826995729468763\n",
            "\n",
            "\n",
            "epoch: 26/50\n",
            "Training...\n",
            "Train Loss: 0.002786488870761412\n",
            "Validating...\n",
            "Validation Loss: 0.0031605998519808054\n",
            "\n",
            "\n",
            "epoch: 27/50\n",
            "Training...\n",
            "Train Loss: 0.0028478540206218466\n",
            "Validating...\n",
            "Validation Loss: 0.0032509907381609083\n",
            "\n",
            "\n",
            "epoch: 28/50\n",
            "Training...\n",
            "Train Loss: 0.0028104003258597327\n",
            "Validating...\n",
            "Validation Loss: 0.0034926791209727525\n",
            "\n",
            "\n",
            "epoch: 29/50\n",
            "Training...\n",
            "Train Loss: 0.002762699075152769\n",
            "Validating...\n",
            "Validation Loss: 0.003786936472170055\n",
            "\n",
            "\n",
            "epoch: 30/50\n",
            "Training...\n",
            "Train Loss: 0.00285929840277223\n",
            "Validating...\n",
            "Validation Loss: 0.0031923947157338262\n",
            "\n",
            "\n",
            "epoch: 31/50\n",
            "Training...\n",
            "Train Loss: 0.0027108514927985036\n",
            "Validating...\n",
            "Validation Loss: 0.0036565786926075817\n",
            "\n"
          ]
        }
      ]
    },
    {
      "cell_type": "code",
      "source": [
        "#Test the model\n",
        "model2.eval()\n",
        "true, predictions = test(model2, dataset_dev)"
      ],
      "metadata": {
        "colab": {
          "base_uri": "https://localhost:8080/"
        },
        "id": "DF3MvVQwbiXk",
        "outputId": "b24694aa-6e7d-40ca-a87a-d0800ff28763"
      },
      "execution_count": null,
      "outputs": [
        {
          "output_type": "stream",
          "name": "stdout",
          "text": [
            "Identified correctly: 256\n",
            "Tot: 454\n",
            "# accuracy: 0.5639\n"
          ]
        }
      ]
    },
    {
      "cell_type": "code",
      "source": [
        "plot_train_trend(loss_train, loss_val, \"Ambiguous Pronoun Identification\")"
      ],
      "metadata": {
        "colab": {
          "base_uri": "https://localhost:8080/",
          "height": 295
        },
        "id": "WfV5O37XZmFB",
        "outputId": "3cea22ca-60fc-4440-fd75-3af667e80fd3"
      },
      "execution_count": null,
      "outputs": [
        {
          "output_type": "display_data",
          "data": {
            "text/plain": [
              "<Figure size 432x288 with 1 Axes>"
            ],
            "image/png": "[encoded data removed]"
          },
          "metadata": {
            "needs_background": "light"
          }
        }
      ]
    },
    {
      "cell_type": "markdown",
      "source": [
        "###Training and test 3\n",
        "\n",
        "* Batch size used: 64/128\n",
        "* Epochs of training: 10\n",
        "* Loss function: Mean Squared Error\n",
        "* Activation function: sigmoid\n",
        "* 2 BiLSTM layer\n",
        "* 1 linear layer of the classifier\n",
        "* Transformer \"bert-base-cased\" not finetuned\n",
        "* Adam Optimizer"
      ],
      "metadata": {
        "id": "1F1bS4u1ZmjV"
      }
    },
    {
      "cell_type": "code",
      "source": [
        "#HYPERPARAMETERS\n",
        "N_HIDDEN = 200\n",
        "N_CLASSES = 1\n",
        "EPOCHS = 50\n",
        "LOSS = nn.MSELoss()"
      ],
      "metadata": {
        "id": "cQE_i8tIZtcW"
      },
      "execution_count": null,
      "outputs": []
    },
    {
      "cell_type": "code",
      "source": [
        "#instance of the model and optimizer\n",
        "device = \"cuda\" if torch.cuda.is_available() else \"cpu\"\n",
        "model3 = AmbiguousPronounIdentification(N_HIDDEN,N_CLASSES)\n",
        "model3.to(device)\n",
        "optimizer = torch.optim.Adam(model3.parameters())"
      ],
      "metadata": {
        "colab": {
          "base_uri": "https://localhost:8080/"
        },
        "id": "P94rV9zSZtXL",
        "outputId": "86b78f75-b4ed-4a08-968d-98f02923fb32"
      },
      "execution_count": null,
      "outputs": [
        {
          "output_type": "stream",
          "name": "stderr",
          "text": [
            "Some weights of the model checkpoint at bert-base-cased were not used when initializing BertModel: ['cls.seq_relationship.weight', 'cls.predictions.transform.dense.weight', 'cls.predictions.transform.LayerNorm.weight', 'cls.predictions.transform.dense.bias', 'cls.seq_relationship.bias', 'cls.predictions.bias', 'cls.predictions.decoder.weight', 'cls.predictions.transform.LayerNorm.bias']\n",
            "- This IS expected if you are initializing BertModel from the checkpoint of a model trained on another task or with another architecture (e.g. initializing a BertForSequenceClassification model from a BertForPreTraining model).\n",
            "- This IS NOT expected if you are initializing BertModel from the checkpoint of a model that you expect to be exactly identical (initializing a BertForSequenceClassification model from a BertForSequenceClassification model).\n"
          ]
        }
      ]
    },
    {
      "cell_type": "markdown",
      "source": [
        "Batch_size = 64"
      ],
      "metadata": {
        "id": "BQ-dYAj6Sf5N"
      }
    },
    {
      "cell_type": "code",
      "source": [
        "#Train the model\n",
        "model3.train()\n",
        "loss_train, loss_val = train(model3, optimizer, dataset_train, dataset_val, LOSS, EPOCHS)"
      ],
      "metadata": {
        "colab": {
          "base_uri": "https://localhost:8080/"
        },
        "id": "Xnr1FMsNZtGG",
        "outputId": "66554df1-9b08-4d04-ffd5-714161646584"
      },
      "execution_count": null,
      "outputs": [
        {
          "output_type": "stream",
          "name": "stdout",
          "text": [
            "\n",
            "epoch: 1/50\n",
            "Training...\n",
            "Train Loss: 0.014524136112223184\n",
            "Validating...\n",
            "Validation Loss: 0.006851189956068993\n",
            "\n",
            "\n",
            "epoch: 2/50\n",
            "Training...\n",
            "Train Loss: 0.006104181038735564\n",
            "Validating...\n",
            "Validation Loss: 0.006814208533614874\n",
            "\n",
            "\n",
            "epoch: 3/50\n",
            "Training...\n",
            "Train Loss: 0.006195006036567826\n",
            "Validating...\n",
            "Validation Loss: 0.00655402485281229\n",
            "\n",
            "\n",
            "epoch: 4/50\n",
            "Training...\n",
            "Train Loss: 0.006174141622343382\n",
            "Validating...\n",
            "Validation Loss: 0.007162394747138023\n",
            "\n",
            "\n",
            "epoch: 5/50\n",
            "Training...\n",
            "Train Loss: 0.006244745392482294\n",
            "Validating...\n",
            "Validation Loss: 0.006714187376201153\n",
            "\n",
            "\n",
            "epoch: 6/50\n",
            "Training...\n",
            "Train Loss: 0.006101191076341756\n",
            "Validating...\n",
            "Validation Loss: 0.006737722456455231\n",
            "\n",
            "\n",
            "epoch: 7/50\n",
            "Training...\n",
            "Train Loss: 0.006023099997925551\n",
            "Validating...\n",
            "Validation Loss: 0.0065018139779567715\n",
            "\n",
            "\n",
            "epoch: 8/50\n",
            "Training...\n",
            "Train Loss: 0.0061615459339389965\n",
            "Validating...\n",
            "Validation Loss: 0.006593232695013285\n",
            "\n",
            "\n",
            "epoch: 9/50\n",
            "Training...\n",
            "Train Loss: 0.006161815865874984\n",
            "Validating...\n",
            "Validation Loss: 0.006499223131686449\n",
            "\n",
            "\n",
            "epoch: 10/50\n",
            "Training...\n",
            "Train Loss: 0.006082101096940595\n",
            "Validating...\n",
            "Validation Loss: 0.006886639632284641\n",
            "\n",
            "\n",
            "epoch: 11/50\n",
            "Training...\n",
            "Train Loss: 0.006038156099790751\n",
            "Validating...\n",
            "Validation Loss: 0.006797038204967976\n",
            "\n",
            "\n",
            "epoch: 12/50\n",
            "Training...\n",
            "Train Loss: 0.006128883671535309\n",
            "Validating...\n",
            "Validation Loss: 0.006693329196423292\n",
            "\n",
            "\n",
            "epoch: 13/50\n",
            "Training...\n",
            "Train Loss: 0.006040898747309003\n",
            "Validating...\n",
            "Validation Loss: 0.00680904183536768\n",
            "\n",
            "\n",
            "epoch: 14/50\n",
            "Training...\n",
            "Train Loss: 0.006140580254628561\n",
            "Validating...\n",
            "Validation Loss: 0.006577414739876985\n",
            "\n"
          ]
        }
      ]
    },
    {
      "cell_type": "code",
      "source": [
        "#Test the model\n",
        "model3.eval()\n",
        "true, predictions = test(model3, dataset_dev)"
      ],
      "metadata": {
        "colab": {
          "base_uri": "https://localhost:8080/"
        },
        "id": "4fyGHtEyZtAq",
        "outputId": "45344c53-6550-4bac-c36c-6e6d388a304a"
      },
      "execution_count": null,
      "outputs": [
        {
          "output_type": "stream",
          "name": "stdout",
          "text": [
            "Identified correctly: 0\n",
            "Tot: 454\n",
            "# accuracy: 0.0000\n"
          ]
        }
      ]
    },
    {
      "cell_type": "code",
      "source": [
        "plot_train_trend(loss_train, loss_val, \"Ambiguous Pronoun Identification\")"
      ],
      "metadata": {
        "colab": {
          "base_uri": "https://localhost:8080/",
          "height": 295
        },
        "id": "zo9Q6ajLZs8l",
        "outputId": "8d3ea334-a8d1-47e3-8976-7b3e7ef9f398"
      },
      "execution_count": null,
      "outputs": [
        {
          "output_type": "display_data",
          "data": {
            "text/plain": [
              "<Figure size 432x288 with 1 Axes>"
            ],
            "image/png": "[encoded data removed]"
          },
          "metadata": {
            "needs_background": "light"
          }
        }
      ]
    },
    {
      "cell_type": "markdown",
      "source": [
        "Batch_size = 128"
      ],
      "metadata": {
        "id": "NSGR2D2lPtMT"
      }
    },
    {
      "cell_type": "code",
      "source": [
        "#Train the model\n",
        "model3.train()\n",
        "loss_train, loss_val = train(model3, optimizer, dataset_train, dataset_val, LOSS, EPOCHS)"
      ],
      "metadata": {
        "colab": {
          "base_uri": "https://localhost:8080/"
        },
        "id": "hnOKCe0iPpzh",
        "outputId": "e78c3447-f72d-4ac5-e85f-096de474a3b1"
      },
      "execution_count": null,
      "outputs": [
        {
          "output_type": "stream",
          "name": "stdout",
          "text": [
            "\n",
            "epoch: 1/50\n",
            "Training...\n",
            "Train Loss: 0.023246664278717202\n",
            "Validating...\n",
            "Validation Loss: 0.006788699422031641\n",
            "\n",
            "\n",
            "epoch: 2/50\n",
            "Training...\n",
            "Train Loss: 0.005486728930422528\n",
            "Validating...\n",
            "Validation Loss: 0.006363961845636368\n",
            "\n",
            "\n",
            "epoch: 3/50\n",
            "Training...\n",
            "Train Loss: 0.005546394280496646\n",
            "Validating...\n",
            "Validation Loss: 0.006670208647847176\n",
            "\n",
            "\n",
            "epoch: 4/50\n",
            "Training...\n",
            "Train Loss: 0.005777110409160907\n",
            "Validating...\n",
            "Validation Loss: 0.006707731944819291\n",
            "\n",
            "\n",
            "epoch: 5/50\n",
            "Training...\n",
            "Train Loss: 0.005652734724042768\n",
            "Validating...\n",
            "Validation Loss: 0.006347721442580223\n",
            "\n",
            "\n",
            "epoch: 6/50\n",
            "Training...\n",
            "Train Loss: 0.005524674155326052\n",
            "Validating...\n",
            "Validation Loss: 0.006959673948585987\n",
            "\n",
            "\n",
            "epoch: 7/50\n",
            "Training...\n",
            "Train Loss: 0.005445265507494862\n",
            "Validating...\n",
            "Validation Loss: 0.00686988312130173\n",
            "\n",
            "\n",
            "epoch: 8/50\n",
            "Training...\n",
            "Train Loss: 0.005485240930945359\n",
            "Validating...\n",
            "Validation Loss: 0.006616642388204734\n",
            "\n",
            "\n",
            "epoch: 9/50\n",
            "Training...\n",
            "Train Loss: 0.005377723602578044\n",
            "Validating...\n",
            "Validation Loss: 0.006535279254118602\n",
            "\n",
            "\n",
            "epoch: 10/50\n",
            "Training...\n",
            "Train Loss: 0.00562761480581354\n",
            "Validating...\n",
            "Validation Loss: 0.006479948448638122\n",
            "\n"
          ]
        }
      ]
    },
    {
      "cell_type": "code",
      "source": [
        "#Test the model\n",
        "model3.eval()\n",
        "true, predictions = test(model3, dataset_dev)"
      ],
      "metadata": {
        "colab": {
          "base_uri": "https://localhost:8080/"
        },
        "id": "c4BEqAVbPsfc",
        "outputId": "e6f8f217-6f71-4ef1-c556-e8e62535ba9f"
      },
      "execution_count": null,
      "outputs": [
        {
          "output_type": "stream",
          "name": "stdout",
          "text": [
            "Identified correctly: 0\n",
            "Tot: 454\n",
            "# accuracy: 0.0000\n"
          ]
        }
      ]
    },
    {
      "cell_type": "markdown",
      "source": [
        "#**Entities Identification**"
      ],
      "metadata": {
        "id": "0Ea9HFoBtqHA"
      }
    },
    {
      "cell_type": "markdown",
      "source": [
        "##Pre-process and data organization"
      ],
      "metadata": {
        "id": "UZ2F5r2V2szm"
      }
    },
    {
      "cell_type": "code",
      "source": [
        "'''\n",
        "Function to find all the pronouns in the text\n",
        "- args:\n",
        "  - texts: list of texts [text1, ... textN]\n",
        "  - pronouns: list of (pronoun, offset) of each text\n",
        "  - entities: list of [(entityA,offset,True/False),(entityB,offset,True/False)]\n",
        "\n",
        "-output:\n",
        "  - new_input: list with each element organized as: {\"input_ids\":ids of tokens of each text, \"attention_mask\": mask}\n",
        "  - labels: list with each element organized as: [0,0,...,1,2,0,..1,...,0] where 1 and 2 correspond to entities, 0 to other tokens;\n",
        "            in particular 1 correspond to B (Beginning), 2 to I (Inside), 0 to O (Outside) of BIO tagging \n",
        "'''\n",
        "\n",
        "def organize_data(texts, pronouns, entities):\n",
        "\n",
        "  #tokenizer from Bert\n",
        "  tokenizer = AutoTokenizer.from_pretrained(\"bert-base-cased\")\n",
        "\n",
        "  #store dictionaries with index and offsets of tokens\n",
        "  tokens_ids, tokens_offset = find_index_offsets(texts)\n",
        "\n",
        "  #input data\n",
        "  new_input = []\n",
        "  for t_id,p in zip(tokens_ids,pronouns):\n",
        "    tokens = [t[0] for t in t_id.values()]\n",
        "\n",
        "    #Add special token to represent the input as \"text [SEP] pronoun [SEP]\"\n",
        "    tokens.append(\"[SEP]\")\n",
        "    tokens.append(p[0][0])\n",
        "    tokens.append(\"[SEP]\")\n",
        "\n",
        "    #Build the dictionary with input_ids and mask for each text\n",
        "    input_ids = []\n",
        "    mask = []\n",
        "    for ti in tokens:\n",
        "      #covert a token into the correspondet id\n",
        "      input_ids.append(torch.tensor(tokenizer(ti)[0].ids[1]))\n",
        "    input_ids = torch.stack(input_ids)\n",
        "    mask = torch.ones(input_ids.shape[0])\n",
        "    new_input.append({\"input_ids\":input_ids,\n",
        "                      \"attention_mask\":mask})\n",
        "    \n",
        "  #labels\n",
        "  labels = []\n",
        "  for t,ent in zip(tokens_offset,entities):\n",
        "\n",
        "    label = [0.0 for _ in range(len(t)+3)]\n",
        "    for e in ent:\n",
        "\n",
        "      #split the entity to check if it is made by one or more tokens\n",
        "      entity_tokens = e[0].split(\" \")\n",
        "      #take the offset of entity to find the correspondet token in the text (whit the tokens_offset dictionary)\n",
        "      index = int(e[1])\n",
        "     \n",
        "      if index in t.keys():\n",
        "        i = index\n",
        "      #if the index of token is not present (probably due to a mismatch of tokenization)\n",
        "      #then take the first avaiable token on the left of the text\n",
        "      else:\n",
        "        app_index=index-1\n",
        "        while app_index not in t.keys():\n",
        "          app_index-=1\n",
        "        i = app_index\n",
        "\n",
        "      #Add 1 (B) for the first token of the entity, 2 (I) for the nexts (if there are)\n",
        "      label[t[i][1]] = 1.0\n",
        "      if len(entity_tokens)>1:\n",
        "        for j in range(1,len(entity_tokens)):\n",
        "          label[t[i][1]+j] = 2.0\n",
        "\n",
        "    labels.append(torch.tensor(label, requires_grad=True))\n",
        "\n",
        "  #check if lenghts of lists match\n",
        "  assert len(new_input) == len(labels) == len(tokens_ids)\n",
        "\n",
        "  return new_input, labels, tokens_ids"
      ],
      "metadata": {
        "id": "jy60UTy5IbJN"
      },
      "execution_count": null,
      "outputs": []
    },
    {
      "cell_type": "code",
      "source": [
        "#Read input and labels\n",
        "new_input, labels, tokens_ids = organize_data(texts, pronouns, entities)\n",
        "new_input_dev, labels_dev, tokens_ids_dev = organize_data(texts_dev, pronouns_dev, entities_dev)"
      ],
      "metadata": {
        "id": "TcDW8Ba0JqZS",
        "colab": {
          "base_uri": "https://localhost:8080/",
          "height": 145,
          "referenced_widgets": [
            "7d7718f7227b49a68c5d1e5ca64c9f50",
            "9773e9d660664d57ba1fcc0a7448418a",
            "0bf2d5f101764ddeb2ecc6c47e7390b9",
            "ca9221cf9e1549dd86567b87a304eca2",
            "ba46328b22a946ba99f6f32397c8c7ac",
            "9a7cd0a67f334cb7904c606892de072c",
            "88e69bbef3a04024ac51848c9a5b5db7",
            "03ce95b9b7794967b5ee3b108d21235d",
            "32b86b005c13476c9002374cf4af27d7",
            "e4ef11700ab84f949a97795bce12071c",
            "22ab9d0d3c5540ff8783034d7bdc2b7f",
            "d646064858bc4cf0a960dc4cab733620",
            "6b3f662b754d4a878afdd408455b486c",
            "d1a48bd799a041449ffb257ebe297762",
            "8709e07c456140d7a22ca248e1c9ca36",
            "2b8d108188f24fd6bade6065be76a11b",
            "c760aa31fee14ab3a6bf181cd4c800bb",
            "80b4a84d6046402698b85372e5c3caa2",
            "6cd11476cff748ca9212acceea07432f",
            "e70054e4a4314730abc54789e58e58db",
            "d7a5579f61dd4604aee41ca8a3a85f93",
            "e2bd344d835748dda5a11e265ccb1024",
            "9c0f48d4c0c54157b45632bb9168f1cb",
            "b3888515839048309678c33046151300",
            "0da5c1648284407b847a83ca7241b556",
            "d7da79672d2443cd9d09be581d22b867",
            "299e8985b60c4f8da22112a66b44267f",
            "7076d78979f74f508f836de11916e535",
            "0ed7574180f344cd8aff8ce7631155d5",
            "700e2c3012e04c1d914da20ec01e0c2c",
            "2584c716606e493899332576da1bd249",
            "03250bb6f8aa48f0991611067066e0fa",
            "e84566a7bd514568b0f3a64fc6cdbf0f",
            "733ab836e31d4c588a44a837e9e59830",
            "302a3f3a8dff44a3860a6cb1c9df5e53",
            "20cbab132887483f9f7870b4904740ce",
            "c5a1b510d60f46139f481802c9b657ab",
            "ba9ab6a80fd24c0f870f9661ed4d4aeb",
            "65d9cf7cb54e4112b432f506b258bfd8",
            "8ba3306547854c6fa1163be862c2fa03",
            "3b0834ae508a4f1d852b9f3e19565500",
            "7d28850827ed4b2db19efff1fd6c5aeb",
            "403abd8fcf514602a2648f17b12423ff",
            "0947ad70ac1f431a910b883662e0b54e"
          ]
        },
        "outputId": "cfff2ded-d953-437f-bf89-68bf46951175"
      },
      "execution_count": null,
      "outputs": [
        {
          "output_type": "display_data",
          "data": {
            "text/plain": [
              "Downloading (…)okenizer_config.json:   0%|          | 0.00/29.0 [00:00<?, ?B/s]"
            ],
            "application/vnd.jupyter.widget-view+json": {
              "version_major": 2,
              "version_minor": 0,
              "model_id": "7d7718f7227b49a68c5d1e5ca64c9f50"
            }
          },
          "metadata": {}
        },
        {
          "output_type": "display_data",
          "data": {
            "text/plain": [
              "Downloading (…)lve/main/config.json:   0%|          | 0.00/570 [00:00<?, ?B/s]"
            ],
            "application/vnd.jupyter.widget-view+json": {
              "version_major": 2,
              "version_minor": 0,
              "model_id": "d646064858bc4cf0a960dc4cab733620"
            }
          },
          "metadata": {}
        },
        {
          "output_type": "display_data",
          "data": {
            "text/plain": [
              "Downloading (…)solve/main/vocab.txt:   0%|          | 0.00/213k [00:00<?, ?B/s]"
            ],
            "application/vnd.jupyter.widget-view+json": {
              "version_major": 2,
              "version_minor": 0,
              "model_id": "9c0f48d4c0c54157b45632bb9168f1cb"
            }
          },
          "metadata": {}
        },
        {
          "output_type": "display_data",
          "data": {
            "text/plain": [
              "Downloading (…)/main/tokenizer.json:   0%|          | 0.00/436k [00:00<?, ?B/s]"
            ],
            "application/vnd.jupyter.widget-view+json": {
              "version_major": 2,
              "version_minor": 0,
              "model_id": "733ab836e31d4c588a44a837e9e59830"
            }
          },
          "metadata": {}
        }
      ]
    },
    {
      "cell_type": "code",
      "source": [
        "#Store the index of the ambiguous pronoun for each text\n",
        "\n",
        "#train set\n",
        "index_pronouns = []\n",
        "found = False\n",
        "for t,p in zip(tokens_ids,pronouns):\n",
        "  for k,v in t.items():\n",
        "    if p==v: \n",
        "      index_pronouns.append(k) #take the key for which the value correspon between tokens\n",
        "\n",
        "#dev set\n",
        "index_pronouns_dev = []\n",
        "found = False\n",
        "for t,p in zip(tokens_ids_dev,pronouns_dev):\n",
        "  for k,v in t.items():\n",
        "    if p==v:\n",
        "      index_pronouns_dev.append(k) #take the key for which the value correspon between tokens"
      ],
      "metadata": {
        "id": "mVsY3HAgBmS1"
      },
      "execution_count": null,
      "outputs": []
    },
    {
      "cell_type": "code",
      "source": [
        "#organize dataset with batches\n",
        "BATCH = 32\n",
        "\n",
        "#split training set into train and validation to train and to evaluate the model\n",
        "x_train, x_val, y_train, y_val, i_train, i_val = train_test_split(new_input, labels, index_pronouns, test_size = 0.1, random_state = 43)\n",
        "\n",
        "#Define dataset from data for the input of the model\n",
        "dataset_train = create_dataset(x_train, y_train, i_train, batch_size=BATCH, shuffle_flag=True)\n",
        "dataset_val = create_dataset(x_val, y_val, i_val, batch_size=BATCH, shuffle_flag=True)\n",
        "dataset_dev = create_dataset(new_input_dev, labels_dev, tokens_ids_dev, index_pronouns_dev, batch_size=BATCH, shuffle_flag=False)"
      ],
      "metadata": {
        "id": "d8SrFUJ-2MCl"
      },
      "execution_count": null,
      "outputs": []
    },
    {
      "cell_type": "markdown",
      "source": [
        "##Train and test functions"
      ],
      "metadata": {
        "id": "wyL_wxg_3YKc"
      }
    },
    {
      "cell_type": "code",
      "source": [
        "#train function\n",
        "\n",
        "'''\n",
        "- args:\n",
        "  - model: an instance eof the model\n",
        "  - optimizer: an instance of the optimizer\n",
        "  - data_train: dataset for train \n",
        "  - data_val: dataset for validation\n",
        "  - loss_f: loss function\n",
        "  - classes: number of classes for classsficcation\n",
        "  - epochs: (int) numer of epochs (default is 10)\n",
        "  - train_loss: list of train losses if the training continue from previous one, None otherwise\n",
        "  - val_loss: list of validation losses if the training continue from previous one, None otherwise\n",
        "\n",
        "-output:\n",
        "  - tot_loss_train: list of train losses\n",
        "  - tot_loss_val: list of validation losses\n",
        "'''\n",
        "\n",
        "def train(model, optimizer, data_train, data_val, loss_f, n_classes, epochs: int = 10, train_loss = None, val_loss = None):\n",
        "\n",
        "    #To store losses if call the train to continue a previous training or start new one\n",
        "    if train_loss == None and val_loss == None: \n",
        "      tot_loss_train = []\n",
        "      tot_loss_val = []\n",
        "      epochs_done = 0\n",
        "    else:\n",
        "      tot_loss_train = train_loss\n",
        "      tot_loss_val = val_loss\n",
        "      assert len(tot_loss_train) == len(tot_loss_val)\n",
        "      epochs_done = len(tot_loss_train)\n",
        "\n",
        "    #Variables for early stopping\n",
        "    best_validation_loss = float('inf')\n",
        "    counter = 0\n",
        "    patience = 5\n",
        "    \n",
        "    #main loop\n",
        "    for epoch in range(epochs):\n",
        "\n",
        "        print(\"\\nepoch: \"+str(epoch+1+epochs_done)+\"/\"+str(epochs+epochs_done))\n",
        "\n",
        "        #training loop\n",
        "        print(\"Training...\")\n",
        "        loss_train = []\n",
        "\n",
        "        #process data\n",
        "        for x, y, p in data_train:\n",
        "            optimizer.zero_grad()\n",
        "            input = {k: v.to(device) for k, v in x.items()}\n",
        "            y = y.type(torch.long).to(device)\n",
        "            out = model(input,p,y)\n",
        "            #loss = loss_f(out.view(-1, n_classes), y.view(-1)) #De-comment if use Cross Entropy Loss\n",
        "            loss = out #comment if use Cross Entropy Loss\n",
        "            loss_train.append(loss.item())\n",
        "            loss.backward()\n",
        "            optimizer.step()\n",
        "\n",
        "        #loss of the batch\n",
        "        lt = sum(loss_train)/len(loss_train)\n",
        "\n",
        "        tot_loss_train.append(lt)\n",
        "        print(\"Train Loss: \"+str(lt))\n",
        "\n",
        "        #validation loop\n",
        "        print(\"Validating...\")\n",
        "        loss_val = []\n",
        "\n",
        "        #process data\n",
        "        for x, y, p in data_val:\n",
        "          with torch.no_grad():\n",
        "            input = {k: v.to(device) for k, v in x.items()}\n",
        "            out = model(input,p)\n",
        "            y = y.type(torch.long).to(device)\n",
        "            #loss = loss_f(out.view(-1, n_classes), y.view(-1)) #De-comment if use Cross Entropy Loss\n",
        "            loss = loss_f(out, y) #comment if use Cross Entropy Loss\n",
        "            loss_val.append(loss)\n",
        "\n",
        "        #loss of the batch\n",
        "        lv = sum(loss_val)/len(loss_val)\n",
        "\n",
        "        tot_loss_val.append(lv)\n",
        "        print(\"Validation Loss: \"+str(lv)+\"\\n\")\n",
        "\n",
        "        #Early Stopping\n",
        "        if lv < best_validation_loss:\n",
        "          best_validation_loss = lv\n",
        "          counter = 0\n",
        "        else:\n",
        "          counter = counter+1\n",
        "        if counter >= patience:\n",
        "          break\n",
        "    \n",
        "    return tot_loss_train, tot_loss_val"
      ],
      "metadata": {
        "id": "o5WCmDaS45Lf"
      },
      "execution_count": null,
      "outputs": []
    },
    {
      "cell_type": "code",
      "source": [
        "#test function\n",
        "\n",
        "'''\n",
        "- input:\n",
        "  - model: an instance of the model\n",
        "  - dataloader: dataset for test\n",
        "  - true_labels: list of list of couple of entities\n",
        "\n",
        "- output:\n",
        "  - true: list of true labels (int)\n",
        "  - pred: list of predictions (int)\n",
        "'''\n",
        "\n",
        "def test(model: nn.Module, dataloader: DataLoader, true_labels):\n",
        "\n",
        "  num_correctly = 0   #number of correctly predicted (true positives)\n",
        "  pred = []           #list of predictions\n",
        "  true = []           #list of true labels\n",
        "  n_gold = 0\n",
        "  count_ones = []\n",
        "\n",
        "  total_entities = []\n",
        "  #take data, labels, list of dictionaries with {index: (token, offset)}, index of pronouns\n",
        "  for x, y, t, p in dataloader:\n",
        "\n",
        "      #predict data\n",
        "      with torch.no_grad():\n",
        "          input = {k: v.to(device) for k, v in x.items()}\n",
        "          out = model(input, p)\n",
        "          #out = torch.argmax(out, -1) #De-comment if not use CRF\n",
        "\n",
        "      #check the predictions with true labels to compute Accuracy\n",
        "      for elem_pred, ti in zip(out,t):\n",
        "\n",
        "          found_entities = [None,None]\n",
        "\n",
        "          for i in range(len(elem_pred)):\n",
        "\n",
        "            #take each element of predictions\n",
        "            e = elem_pred[i]\n",
        "\n",
        "            #if the predicted element is 1 (B)\n",
        "            if e==1:\n",
        "              #look for first entity\n",
        "              if found_entities[0] is None:\n",
        "                try:\n",
        "                  ent1,off1 = ti[i]\n",
        "                except KeyError: #ignore if that index is not present\n",
        "                  pass\n",
        "                try:\n",
        "                  c = 1\n",
        "                  #if the predicted element is 2 (I) and follow (B)\n",
        "                  while elem_pred[i+c]==2:\n",
        "                    try:\n",
        "                      ent1 += \" \"+ti[i+c][0]\n",
        "                    except KeyError: #ignore if that index is not present\n",
        "                      pass\n",
        "                    c+=1\n",
        "                except IndexError:#ignore if that index is not present\n",
        "                  pass\n",
        "                found_entities[0] = (ent1,off1)\n",
        "\n",
        "              #look for second entity\n",
        "              elif found_entities[1] is None:\n",
        "                try:\n",
        "                  ent2,off2 = ti[i]\n",
        "                except KeyError: #ignore if that index is not present\n",
        "                  pass\n",
        "                try:\n",
        "                  c = 1\n",
        "                  #if the predicted element is 2 (I) and follow (B)\n",
        "                  while elem_pred[i+c]==2:\n",
        "                    try:\n",
        "                      ent2 += \" \"+ti[i+c][0]\n",
        "                    except KeyError: #ignore if that index is not present\n",
        "                      pass\n",
        "                    c+=1\n",
        "                except IndexError: #ignore if that index is not present\n",
        "                  pass\n",
        "                found_entities[1] = (ent2,off2)\n",
        "            else:\n",
        "              continue #ignore if the token is predicte as 0 (Outside)\n",
        "\n",
        "          total_entities.append(found_entities)\n",
        "\n",
        "  #take the entities to set it as: [(\"entityA\", offsetA),(entityB, offsetB)]\n",
        "  new_entities = []\n",
        "  for i in true_labels:\n",
        "    new_entities.append([(i[0][0],i[0][1]),(i[1][0],i[1][1])])\n",
        "\n",
        "  #Check how many predictions are correct\n",
        "  num_correctly=0\n",
        "  tot = 0\n",
        "  for p,t in zip(total_entities,new_entities):\n",
        "    if p[0]==t[0] or p[0]==t[1]:\n",
        "      num_correctly+=1\n",
        "    if p[1]==t[0] or p[1]==t[1]:\n",
        "      num_correctly+=1\n",
        "    tot+=2\n",
        "\n",
        "  acc = num_correctly/tot\n",
        "  print(\"Entities identified correctly: \"+str(num_correctly))\n",
        "  print(\"Tot entities to found: \"+str(tot))\n",
        "  print(f'# Accuracy: {acc:.4f}')\n",
        "\n",
        "  return total_entities"
      ],
      "metadata": {
        "id": "YEYd4uZTMebe"
      },
      "execution_count": null,
      "outputs": []
    },
    {
      "cell_type": "code",
      "source": [
        "#A loss function for validation data (check how many predictions are correct)\n",
        "def loss_crf_function(pred, y):\n",
        "  count = 0\n",
        "  for pi,yi in zip(pred,y):\n",
        "    for i,j in zip(pi,yi):\n",
        "      if i!=j:\n",
        "        count+=1\n",
        "  return count/len(pred)"
      ],
      "metadata": {
        "id": "lwrJdPr2iv2Y"
      },
      "execution_count": null,
      "outputs": []
    },
    {
      "cell_type": "markdown",
      "source": [
        "##Model"
      ],
      "metadata": {
        "id": "AjrEwNOo3eTf"
      }
    },
    {
      "cell_type": "code",
      "source": [
        "class EntitiesIdentification(torch.nn.Module):\n",
        "\n",
        "    def __init__(self, n_hidden, classes, language_model_name=\"bert-base-cased\"):\n",
        "        super(EntitiesIdentification, self).__init__()\n",
        "\n",
        "        #Transformer model\n",
        "        self.transformer_model = AutoModel.from_pretrained(language_model_name, output_hidden_states=True)\n",
        "\n",
        "        #Freeze Transformer\n",
        "        #for param in self.transformer_model.parameters():\n",
        "          #param.requires_grad = False\n",
        "\n",
        "        #Number of features in output from the transformer\n",
        "        self.embedding_dim = self.transformer_model.config.hidden_size\n",
        "\n",
        "        #Additive feature to represent where is a predicate\n",
        "        self.add_features = 10\n",
        "\n",
        "        #BiLSTM layer\n",
        "        self.lstm = nn.LSTM(self.embedding_dim, n_hidden, bidirectional=True, num_layers = 2, dropout=0.3, batch_first = True)\n",
        "\n",
        "        #Linear classifier\n",
        "        self.hidden1 = torch.nn.Linear(2*n_hidden+self.add_features, n_hidden)\n",
        "        self.hidden2 = torch.nn.Linear(n_hidden, classes)\n",
        "\n",
        "        #CRF layer\n",
        "        self.crf = CRF(classes, batch_first = True)\n",
        "\n",
        "    def forward(self, input: torch.Tensor=None, index_pronouns=None, tags=None):\n",
        "\n",
        "        masks = []\n",
        "        for m in input[\"attention_mask\"]:\n",
        "          masks.append(m.type(torch.bool))\n",
        "        masks = torch.stack(masks)\n",
        "\n",
        "        out = self.transformer_model(**input)\n",
        "        out = torch.stack(out.hidden_states[-4:], dim=0).mean(dim=0)\n",
        "        out, _ = self.lstm(out)\n",
        "\n",
        "        #associate '1' in correspondence with the ambiguous pronoun, '0' otherwise\n",
        "        new_out = []\n",
        "        for oi,pi in zip(out, index_pronouns):\n",
        "          o = []\n",
        "          for i in range(oi.shape[0]):\n",
        "            if i == pi:\n",
        "              o.append(torch.cat((oi[i,:], torch.ones(self.add_features).to(device))))\n",
        "            else:\n",
        "              o.append(torch.cat((oi[i,:], torch.zeros(self.add_features).to(device))))\n",
        "          out = torch.stack(o)\n",
        "          new_out.append(out)\n",
        "        new_out = torch.stack(new_out)\n",
        "\n",
        "        #classifier\n",
        "        out = self.hidden1(new_out)\n",
        "        out = torch.relu(out)\n",
        "        out = nn.Dropout(0.3)(out)\n",
        "        out = self.hidden2(out)\n",
        "        out = F.log_softmax(out,-1)\n",
        "\n",
        "        #CRF layer\n",
        "        if tags is not None:\n",
        "          loss = self.crf(out, tags, mask=masks, reduction=\"mean\") #for training mode\n",
        "          return -loss\n",
        "        else:\n",
        "          out = self.crf.decode(out) #for evaluation mode\n",
        "          return out"
      ],
      "metadata": {
        "id": "FPaKsqLhk9zy"
      },
      "execution_count": null,
      "outputs": []
    },
    {
      "cell_type": "markdown",
      "source": [
        "###Training and test 1\n",
        "\n",
        "* Batch size used: 32\n",
        "* Epochs of training: 50\n",
        "* Loss function: cross_entropy\n",
        "* Activation function: sigmoid\n",
        "* 2 BiLSTM layer\n",
        "* 1 linear layer of the classifier\n",
        "* Transformer \"bert-base-cased\" not finetuned\n",
        "* Adam Optimizer"
      ],
      "metadata": {
        "id": "gt6F54tP3mDW"
      }
    },
    {
      "cell_type": "code",
      "source": [
        "#HYPERPARAMETERS\n",
        "N_HIDDEN = 200\n",
        "N_CLASSES = 3\n",
        "EPOCHS = 10\n",
        "LOSS = F.cross_entropy"
      ],
      "metadata": {
        "id": "ik72_Xrz3p8r"
      },
      "execution_count": null,
      "outputs": []
    },
    {
      "cell_type": "code",
      "source": [
        "#instance of the model and optimizer\n",
        "device = \"cuda\" if torch.cuda.is_available() else \"cpu\"\n",
        "model = EntitiesIdentification(N_HIDDEN,N_CLASSES)\n",
        "model.to(device)\n",
        "optimizer = torch.optim.Adam(model.parameters())"
      ],
      "metadata": {
        "id": "uiRMw3tM3w3x",
        "colab": {
          "base_uri": "https://localhost:8080/"
        },
        "outputId": "e0a66d36-19a5-4223-bd00-d8bc2743e8f6"
      },
      "execution_count": null,
      "outputs": [
        {
          "output_type": "stream",
          "name": "stderr",
          "text": [
            "Some weights of the model checkpoint at bert-base-cased were not used when initializing BertModel: ['cls.seq_relationship.weight', 'cls.seq_relationship.bias', 'cls.predictions.decoder.weight', 'cls.predictions.transform.LayerNorm.weight', 'cls.predictions.transform.dense.weight', 'cls.predictions.bias', 'cls.predictions.transform.dense.bias', 'cls.predictions.transform.LayerNorm.bias']\n",
            "- This IS expected if you are initializing BertModel from the checkpoint of a model trained on another task or with another architecture (e.g. initializing a BertForSequenceClassification model from a BertForPreTraining model).\n",
            "- This IS NOT expected if you are initializing BertModel from the checkpoint of a model that you expect to be exactly identical (initializing a BertForSequenceClassification model from a BertForSequenceClassification model).\n"
          ]
        }
      ]
    },
    {
      "cell_type": "code",
      "source": [
        "#Train the model\n",
        "model.train()\n",
        "loss_train, loss_val = train(model, optimizer, dataset_train, dataset_val, LOSS, N_CLASSES, 40, loss_train, loss_val)"
      ],
      "metadata": {
        "id": "6tc1rUvg3wdX",
        "colab": {
          "base_uri": "https://localhost:8080/"
        },
        "outputId": "f1ded347-625d-415f-8f46-1e9161b93dd4"
      },
      "execution_count": null,
      "outputs": [
        {
          "output_type": "stream",
          "name": "stdout",
          "text": [
            "\n",
            "epoch: 11/50\n",
            "Training...\n",
            "Train Loss: 0.005562144200153211\n",
            "Validating...\n",
            "Validation Loss: 0.04827373214066029\n",
            "\n",
            "\n",
            "epoch: 12/50\n",
            "Training...\n",
            "Train Loss: 0.004004608048126102\n",
            "Validating...\n",
            "Validation Loss: 0.05607843156903982\n",
            "\n",
            "\n",
            "epoch: 13/50\n",
            "Training...\n",
            "Train Loss: 0.0028964083744486904\n",
            "Validating...\n",
            "Validation Loss: 0.05768437422811985\n",
            "\n",
            "\n",
            "epoch: 14/50\n",
            "Training...\n",
            "Train Loss: 0.002740764766520656\n",
            "Validating...\n",
            "Validation Loss: 0.0640962477773428\n",
            "\n",
            "\n",
            "epoch: 15/50\n",
            "Training...\n",
            "Train Loss: 0.002391659069861121\n",
            "Validating...\n",
            "Validation Loss: 0.056259777024388315\n",
            "\n",
            "\n",
            "epoch: 16/50\n",
            "Training...\n",
            "Train Loss: 0.002378090683658443\n",
            "Validating...\n",
            "Validation Loss: 0.06721407361328602\n",
            "\n",
            "\n",
            "epoch: 17/50\n",
            "Training...\n",
            "Train Loss: 0.0013889237376347677\n",
            "Validating...\n",
            "Validation Loss: 0.06369936484843493\n",
            "\n",
            "\n",
            "epoch: 18/50\n",
            "Training...\n",
            "Train Loss: 0.0012663453541737158\n",
            "Validating...\n",
            "Validation Loss: 0.06526930816471577\n",
            "\n",
            "\n",
            "epoch: 19/50\n",
            "Training...\n",
            "Train Loss: 0.0013061865000910235\n",
            "Validating...\n",
            "Validation Loss: 0.06551735810935497\n",
            "\n",
            "\n",
            "epoch: 20/50\n",
            "Training...\n",
            "Train Loss: 0.0010368751591372798\n",
            "Validating...\n",
            "Validation Loss: 0.06688619777560234\n",
            "\n",
            "\n",
            "epoch: 21/50\n",
            "Training...\n",
            "Train Loss: 0.0009445883379478748\n",
            "Validating...\n",
            "Validation Loss: 0.07287715300917626\n",
            "\n",
            "\n",
            "epoch: 22/50\n",
            "Training...\n",
            "Train Loss: 0.0007553310496030677\n",
            "Validating...\n",
            "Validation Loss: 0.06451041959226131\n",
            "\n",
            "\n",
            "epoch: 23/50\n",
            "Training...\n",
            "Train Loss: 0.0009660608585417162\n",
            "Validating...\n",
            "Validation Loss: 0.0681815717369318\n",
            "\n",
            "\n",
            "epoch: 24/50\n",
            "Training...\n",
            "Train Loss: 0.000892021381193498\n",
            "Validating...\n",
            "Validation Loss: 0.07059648893773555\n",
            "\n",
            "\n",
            "epoch: 25/50\n",
            "Training...\n",
            "Train Loss: 0.0012376638922004905\n",
            "Validating...\n",
            "Validation Loss: 0.06879117302596569\n",
            "\n",
            "\n",
            "epoch: 26/50\n",
            "Training...\n",
            "Train Loss: 0.0012288607511436566\n",
            "Validating...\n",
            "Validation Loss: 0.0600920170545578\n",
            "\n",
            "\n",
            "epoch: 27/50\n",
            "Training...\n",
            "Train Loss: 0.000819362960079589\n",
            "Validating...\n",
            "Validation Loss: 0.06760123744606972\n",
            "\n",
            "\n",
            "epoch: 28/50\n",
            "Training...\n",
            "Train Loss: 0.0007134060087350115\n",
            "Validating...\n",
            "Validation Loss: 0.07709400728344917\n",
            "\n",
            "\n",
            "epoch: 29/50\n",
            "Training...\n",
            "Train Loss: 0.000799053189364392\n",
            "Validating...\n",
            "Validation Loss: 0.07206356972455978\n",
            "\n",
            "\n",
            "epoch: 30/50\n",
            "Training...\n",
            "Train Loss: 0.00034976289915742684\n",
            "Validating...\n",
            "Validation Loss: 0.07572188600897789\n",
            "\n",
            "\n",
            "epoch: 31/50\n",
            "Training...\n",
            "Train Loss: 0.0005300966528118485\n",
            "Validating...\n",
            "Validation Loss: 0.07697959393262863\n",
            "\n",
            "\n",
            "epoch: 32/50\n",
            "Training...\n",
            "Train Loss: 0.0008308346211218603\n",
            "Validating...\n",
            "Validation Loss: 0.07181012183427811\n",
            "\n",
            "\n",
            "epoch: 33/50\n",
            "Training...\n",
            "Train Loss: 0.0010803932851344785\n",
            "Validating...\n",
            "Validation Loss: 0.06568211913108826\n",
            "\n",
            "\n",
            "epoch: 34/50\n",
            "Training...\n",
            "Train Loss: 0.0011014187333999229\n",
            "Validating...\n",
            "Validation Loss: 0.07676427531987429\n",
            "\n",
            "\n",
            "epoch: 35/50\n",
            "Training...\n",
            "Train Loss: 0.0011185791524921489\n",
            "Validating...\n",
            "Validation Loss: 0.07144210077822208\n",
            "\n",
            "\n",
            "epoch: 36/50\n",
            "Training...\n",
            "Train Loss: 0.0005973321007331833\n",
            "Validating...\n",
            "Validation Loss: 0.07361341901123523\n",
            "\n",
            "\n",
            "epoch: 37/50\n",
            "Training...\n",
            "Train Loss: 0.0004368094430152697\n",
            "Validating...\n",
            "Validation Loss: 0.077174748852849\n",
            "\n",
            "\n",
            "epoch: 38/50\n",
            "Training...\n",
            "Train Loss: 0.0005093716795432984\n",
            "Validating...\n",
            "Validation Loss: 0.07274185679852962\n",
            "\n",
            "\n",
            "epoch: 39/50\n",
            "Training...\n",
            "Train Loss: 0.001388851992712315\n",
            "Validating...\n",
            "Validation Loss: 0.07036684043705463\n",
            "\n",
            "\n",
            "epoch: 40/50\n",
            "Training...\n",
            "Train Loss: 0.00041102677686841854\n",
            "Validating...\n",
            "Validation Loss: 0.08082775101065635\n",
            "\n",
            "\n",
            "epoch: 41/50\n",
            "Training...\n",
            "Train Loss: 0.0005711586458239575\n",
            "Validating...\n",
            "Validation Loss: 0.07522727027535439\n",
            "\n",
            "\n",
            "epoch: 42/50\n",
            "Training...\n",
            "Train Loss: 0.0005829837846677572\n",
            "Validating...\n",
            "Validation Loss: 0.0779621459543705\n",
            "\n",
            "\n",
            "epoch: 43/50\n",
            "Training...\n",
            "Train Loss: 0.0004912137083973743\n",
            "Validating...\n",
            "Validation Loss: 0.07246945276856423\n",
            "\n",
            "\n",
            "epoch: 44/50\n",
            "Training...\n",
            "Train Loss: 0.0003897267229951788\n",
            "Validating...\n",
            "Validation Loss: 0.07792655564844608\n",
            "\n",
            "\n",
            "epoch: 45/50\n",
            "Training...\n",
            "Train Loss: 0.00026522865843403185\n",
            "Validating...\n",
            "Validation Loss: 0.08766431510448455\n",
            "\n",
            "\n",
            "epoch: 46/50\n",
            "Training...\n",
            "Train Loss: 0.000672648011609186\n",
            "Validating...\n",
            "Validation Loss: 0.0803595308214426\n",
            "\n",
            "\n",
            "epoch: 47/50\n",
            "Training...\n",
            "Train Loss: 0.0008249399630157688\n",
            "Validating...\n",
            "Validation Loss: 0.07104138880968094\n",
            "\n",
            "\n",
            "epoch: 48/50\n",
            "Training...\n",
            "Train Loss: 0.00042436371393919485\n",
            "Validating...\n",
            "Validation Loss: 0.08524350225925445\n",
            "\n",
            "\n",
            "epoch: 49/50\n",
            "Training...\n",
            "Train Loss: 0.00040114360169408265\n",
            "Validating...\n",
            "Validation Loss: 0.07331757824867964\n",
            "\n",
            "\n",
            "epoch: 50/50\n",
            "Training...\n",
            "Train Loss: 0.0003391576100351385\n",
            "Validating...\n",
            "Validation Loss: 0.09181897565722466\n",
            "\n"
          ]
        }
      ]
    },
    {
      "cell_type": "code",
      "source": [
        "#Test the model\n",
        "model.eval()\n",
        "ent_pred = test(model, dataset_dev, entities_dev)"
      ],
      "metadata": {
        "id": "2Kw8WppE4G7z",
        "colab": {
          "base_uri": "https://localhost:8080/"
        },
        "outputId": "e6effca2-98c5-4cf4-bcf9-d06604c139d8"
      },
      "execution_count": null,
      "outputs": [
        {
          "output_type": "stream",
          "name": "stdout",
          "text": [
            "Entities identified correctly: 541\n",
            "Tot entities to found: 908\n",
            "# Accuracy: 0.5958\n"
          ]
        }
      ]
    },
    {
      "cell_type": "code",
      "source": [
        "plot_train_trend(loss_train, loss_val, \"Entities Identification\")"
      ],
      "metadata": {
        "id": "9CyJwdaO4Gs-",
        "colab": {
          "base_uri": "https://localhost:8080/",
          "height": 295
        },
        "outputId": "c9d7586f-69b1-4596-82ef-d2f4f7f2f538"
      },
      "execution_count": null,
      "outputs": [
        {
          "output_type": "display_data",
          "data": {
            "text/plain": [
              "<Figure size 432x288 with 1 Axes>"
            ],
            "image/png": "[encoded data removed]"
          },
          "metadata": {
            "needs_background": "light"
          }
        }
      ]
    },
    {
      "cell_type": "markdown",
      "source": [
        "###Training and test 2\n",
        "\n",
        "* Batch size used: 32\n",
        "* Epochs of training: 50\n",
        "* Loss function: cross_entropy\n",
        "* Activation function: sigmoid\n",
        "* 2 BiLSTM layer\n",
        "* 2/4 linear layer of the classifier\n",
        "* Transformer \"bert-base-cased\" not finetuned\n",
        "* 1 CRF (Condition Random Field) layer\n",
        "* Adam Optimizer"
      ],
      "metadata": {
        "id": "5L95kaol39wl"
      }
    },
    {
      "cell_type": "code",
      "source": [
        "#HYPERPARAMETERS\n",
        "N_HIDDEN = 200\n",
        "N_CLASSES = 3\n",
        "EPOCHS = 50\n",
        "LOSS = loss_crf_function"
      ],
      "metadata": {
        "id": "Ocwdzlbu5m-9"
      },
      "execution_count": null,
      "outputs": []
    },
    {
      "cell_type": "code",
      "source": [
        "#instance of the model and optimizer\n",
        "device = \"cuda\" if torch.cuda.is_available() else \"cpu\"\n",
        "model2 = EntitiesIdentification(N_HIDDEN,N_CLASSES)\n",
        "model2.to(device)\n",
        "optimizer = torch.optim.Adam(model2.parameters())"
      ],
      "metadata": {
        "colab": {
          "base_uri": "https://localhost:8080/"
        },
        "id": "3q2bdcX85m3o",
        "outputId": "cf94cf8a-3680-4381-e718-af993650bd64"
      },
      "execution_count": null,
      "outputs": [
        {
          "output_type": "stream",
          "name": "stderr",
          "text": [
            "Some weights of the model checkpoint at bert-base-cased were not used when initializing BertModel: ['cls.seq_relationship.bias', 'cls.predictions.transform.dense.bias', 'cls.seq_relationship.weight', 'cls.predictions.transform.LayerNorm.bias', 'cls.predictions.transform.dense.weight', 'cls.predictions.decoder.weight', 'cls.predictions.bias', 'cls.predictions.transform.LayerNorm.weight']\n",
            "- This IS expected if you are initializing BertModel from the checkpoint of a model trained on another task or with another architecture (e.g. initializing a BertForSequenceClassification model from a BertForPreTraining model).\n",
            "- This IS NOT expected if you are initializing BertModel from the checkpoint of a model that you expect to be exactly identical (initializing a BertForSequenceClassification model from a BertForSequenceClassification model).\n"
          ]
        }
      ]
    },
    {
      "cell_type": "code",
      "source": [
        "#Train the model\n",
        "model2.train()\n",
        "loss_train, loss_val = train(model2, optimizer, dataset_train, dataset_val, LOSS, N_CLASSES, EPOCHS)"
      ],
      "metadata": {
        "colab": {
          "base_uri": "https://localhost:8080/"
        },
        "id": "zxFiRbEt8kb6",
        "outputId": "d14ac2b6-8e37-4d7c-b257-625ec0360af1"
      },
      "execution_count": null,
      "outputs": [
        {
          "output_type": "stream",
          "name": "stdout",
          "text": [
            "\n",
            "epoch: 11/50\n",
            "Training...\n",
            "Train Loss: 1.3700967332896063\n",
            "Validating...\n",
            "Validation Loss: 1.8427083333333332\n",
            "\n",
            "\n",
            "epoch: 12/50\n",
            "Training...\n",
            "Train Loss: 1.1260158756200005\n",
            "Validating...\n",
            "Validation Loss: 1.9364583333333332\n",
            "\n",
            "\n",
            "epoch: 13/50\n",
            "Training...\n",
            "Train Loss: 0.9680597666431876\n",
            "Validating...\n",
            "Validation Loss: 1.8864583333333331\n",
            "\n",
            "\n",
            "epoch: 14/50\n",
            "Training...\n",
            "Train Loss: 0.7679297780289369\n",
            "Validating...\n",
            "Validation Loss: 1.846875\n",
            "\n",
            "\n",
            "epoch: 15/50\n",
            "Training...\n",
            "Train Loss: 0.6635696884463815\n",
            "Validating...\n",
            "Validation Loss: 1.8479166666666669\n",
            "\n",
            "\n",
            "epoch: 16/50\n",
            "Training...\n",
            "Train Loss: 0.5956107844324673\n",
            "Validating...\n",
            "Validation Loss: 1.8489583333333333\n",
            "\n",
            "\n",
            "epoch: 17/50\n",
            "Training...\n",
            "Train Loss: 0.5153033601887086\n",
            "Validating...\n",
            "Validation Loss: 1.9020833333333331\n",
            "\n",
            "\n",
            "epoch: 18/50\n",
            "Training...\n",
            "Train Loss: 0.42826704786104314\n",
            "Validating...\n",
            "Validation Loss: 1.8385416666666667\n",
            "\n",
            "\n",
            "epoch: 19/50\n",
            "Training...\n",
            "Train Loss: 0.38486887698664385\n",
            "Validating...\n",
            "Validation Loss: 1.8427083333333332\n",
            "\n",
            "\n",
            "epoch: 20/50\n",
            "Training...\n",
            "Train Loss: 0.313875789282953\n",
            "Validating...\n",
            "Validation Loss: 1.86875\n",
            "\n",
            "\n",
            "epoch: 21/50\n",
            "Training...\n",
            "Train Loss: 0.3421148157733328\n",
            "Validating...\n",
            "Validation Loss: 1.684375\n",
            "\n",
            "\n",
            "epoch: 22/50\n",
            "Training...\n",
            "Train Loss: 0.29955942280152265\n",
            "Validating...\n",
            "Validation Loss: 1.8875\n",
            "\n",
            "\n",
            "epoch: 23/50\n",
            "Training...\n",
            "Train Loss: 0.2987451753195594\n",
            "Validating...\n",
            "Validation Loss: 1.8635416666666669\n",
            "\n",
            "\n",
            "epoch: 24/50\n",
            "Training...\n",
            "Train Loss: 0.21552149936118548\n",
            "Validating...\n",
            "Validation Loss: 1.7229166666666669\n",
            "\n",
            "\n",
            "epoch: 25/50\n",
            "Training...\n",
            "Train Loss: 0.21595582872190897\n",
            "Validating...\n",
            "Validation Loss: 1.9479166666666667\n",
            "\n",
            "\n",
            "epoch: 26/50\n",
            "Training...\n",
            "Train Loss: 0.2636786755612668\n",
            "Validating...\n",
            "Validation Loss: 1.8104166666666668\n",
            "\n",
            "\n",
            "epoch: 27/50\n",
            "Training...\n",
            "Train Loss: 0.2051320820389425\n",
            "Validating...\n",
            "Validation Loss: 1.8770833333333332\n",
            "\n",
            "\n",
            "epoch: 28/50\n",
            "Training...\n",
            "Train Loss: 0.22208870000698988\n",
            "Validating...\n",
            "Validation Loss: 1.8864583333333331\n",
            "\n",
            "\n",
            "epoch: 29/50\n",
            "Training...\n",
            "Train Loss: 0.20124050032566576\n",
            "Validating...\n",
            "Validation Loss: 1.8958333333333333\n",
            "\n",
            "\n",
            "epoch: 30/50\n",
            "Training...\n",
            "Train Loss: 0.1680015518603956\n",
            "Validating...\n",
            "Validation Loss: 1.81875\n",
            "\n",
            "\n",
            "epoch: 31/50\n",
            "Training...\n",
            "Train Loss: 0.17776438970776165\n",
            "Validating...\n",
            "Validation Loss: 1.8510416666666667\n",
            "\n",
            "\n",
            "epoch: 32/50\n",
            "Training...\n",
            "Train Loss: 0.1093025961507331\n",
            "Validating...\n",
            "Validation Loss: 1.9052083333333332\n",
            "\n",
            "\n",
            "epoch: 33/50\n",
            "Training...\n",
            "Train Loss: 0.15419761617394054\n",
            "Validating...\n",
            "Validation Loss: 1.859375\n",
            "\n",
            "\n",
            "epoch: 34/50\n",
            "Training...\n",
            "Train Loss: 0.19160696717307849\n",
            "Validating...\n",
            "Validation Loss: 1.9458333333333333\n",
            "\n",
            "\n",
            "epoch: 35/50\n",
            "Training...\n",
            "Train Loss: 0.20879621792803793\n",
            "Validating...\n",
            "Validation Loss: 1.8177083333333333\n",
            "\n",
            "\n",
            "epoch: 36/50\n",
            "Training...\n",
            "Train Loss: 0.11088323134052402\n",
            "Validating...\n",
            "Validation Loss: 1.8385416666666667\n",
            "\n",
            "\n",
            "epoch: 37/50\n",
            "Training...\n",
            "Train Loss: 0.13799795715467017\n",
            "Validating...\n",
            "Validation Loss: 1.921875\n",
            "\n",
            "\n",
            "epoch: 38/50\n",
            "Training...\n",
            "Train Loss: 0.14297799770446384\n",
            "Validating...\n",
            "Validation Loss: 1.8145833333333332\n",
            "\n",
            "\n",
            "epoch: 39/50\n",
            "Training...\n",
            "Train Loss: 0.17736639978692811\n",
            "Validating...\n",
            "Validation Loss: 1.8541666666666667\n",
            "\n",
            "\n",
            "epoch: 40/50\n",
            "Training...\n",
            "Train Loss: 0.12178737936979707\n",
            "Validating...\n",
            "Validation Loss: 2.0\n",
            "\n",
            "\n",
            "epoch: 41/50\n",
            "Training...\n",
            "Train Loss: 0.14040026840041667\n",
            "Validating...\n",
            "Validation Loss: 1.7875\n",
            "\n",
            "\n",
            "epoch: 42/50\n",
            "Training...\n",
            "Train Loss: 0.1592196985202677\n",
            "Validating...\n",
            "Validation Loss: 1.8291666666666668\n",
            "\n",
            "\n",
            "epoch: 43/50\n",
            "Training...\n",
            "Train Loss: 0.1445982385536327\n",
            "Validating...\n",
            "Validation Loss: 1.8729166666666668\n",
            "\n",
            "\n",
            "epoch: 44/50\n",
            "Training...\n",
            "Train Loss: 0.16387657495763372\n",
            "Validating...\n",
            "Validation Loss: 1.9427083333333333\n",
            "\n",
            "\n",
            "epoch: 45/50\n",
            "Training...\n",
            "Train Loss: 0.11193624670233797\n",
            "Validating...\n",
            "Validation Loss: 1.8364583333333333\n",
            "\n",
            "\n",
            "epoch: 46/50\n",
            "Training...\n",
            "Train Loss: 0.12989432432633988\n",
            "Validating...\n",
            "Validation Loss: 1.8479166666666669\n",
            "\n",
            "\n",
            "epoch: 47/50\n",
            "Training...\n",
            "Train Loss: 0.13502629982197986\n",
            "Validating...\n",
            "Validation Loss: 1.909375\n",
            "\n",
            "\n",
            "epoch: 48/50\n",
            "Training...\n",
            "Train Loss: 0.0911836242851089\n",
            "Validating...\n",
            "Validation Loss: 1.8166666666666669\n",
            "\n",
            "\n",
            "epoch: 49/50\n",
            "Training...\n",
            "Train Loss: 0.09241672951508971\n",
            "Validating...\n",
            "Validation Loss: 1.809375\n",
            "\n",
            "\n",
            "epoch: 50/50\n",
            "Training...\n",
            "Train Loss: 0.0740557304898496\n",
            "Validating...\n",
            "Validation Loss: 1.8291666666666668\n",
            "\n"
          ]
        }
      ]
    },
    {
      "cell_type": "code",
      "source": [
        "#Test the model\n",
        "model2.eval()\n",
        "ent_pred = test(model2, dataset_dev, entities_dev)"
      ],
      "metadata": {
        "colab": {
          "base_uri": "https://localhost:8080/"
        },
        "id": "lIGCQxdoFa4U",
        "outputId": "3d2f3153-d64a-4e47-ee99-f57f783df73c"
      },
      "execution_count": null,
      "outputs": [
        {
          "output_type": "stream",
          "name": "stdout",
          "text": [
            "Entities identified correctly: 583\n",
            "Tot entities to found: 908\n",
            "# Accuracy: 0.6421\n"
          ]
        }
      ]
    },
    {
      "cell_type": "code",
      "source": [
        "plot_train_trend(loss_train, loss_val, \"Entities Identification\")"
      ],
      "metadata": {
        "colab": {
          "base_uri": "https://localhost:8080/",
          "height": 295
        },
        "id": "-z-T-ZI4O9y9",
        "outputId": "822431ba-aeee-43b1-f3fa-9920e80a3e90"
      },
      "execution_count": null,
      "outputs": [
        {
          "output_type": "display_data",
          "data": {
            "text/plain": [
              "<Figure size 432x288 with 1 Axes>"
            ],
            "image/png": "[encoded data removed]"
          },
          "metadata": {
            "needs_background": "light"
          }
        }
      ]
    },
    {
      "cell_type": "code",
      "source": [
        "#TO SAVE A MODEL\n",
        "pth_model = \"/content/drive/MyDrive/modelEntIdent.pt\"\n",
        "torch.save(model, pth_model, pickle_protocol=4)"
      ],
      "metadata": {
        "id": "3wcm8H1oo8jo"
      },
      "execution_count": null,
      "outputs": []
    },
    {
      "cell_type": "markdown",
      "source": [
        "###Training and test 3\n",
        "* Batch size used: 32\n",
        "* Epochs of training: 50\n",
        "* Loss function: cross_entropy\n",
        "* Activation function: sigmoid\n",
        "* 2 BiLSTM layer\n",
        "* 2 linear layer of the classifier\n",
        "* Transformer \"bert-base-cased\" finetuned\n",
        "* 1 CRF (Condition Random Field) layer\n",
        "* Adam Optimizer"
      ],
      "metadata": {
        "id": "lnEgWO7BS2Ww"
      }
    },
    {
      "cell_type": "code",
      "source": [
        "#HYPERPARAMETERS\n",
        "N_HIDDEN = 200\n",
        "N_CLASSES = 3\n",
        "EPOCHS = 50\n",
        "LOSS = loss_crf_function"
      ],
      "metadata": {
        "id": "iM8kH0R6TmFi"
      },
      "execution_count": null,
      "outputs": []
    },
    {
      "cell_type": "code",
      "source": [
        "#instance of the model and optimizer\n",
        "device = \"cuda\" if torch.cuda.is_available() else \"cpu\"\n",
        "model3 = EntitiesIdentification(N_HIDDEN,N_CLASSES)\n",
        "model3.to(device)\n",
        "optimizer = torch.optim.Adam(model3.parameters(), lr=0.0001, weight_decay=0.0001)"
      ],
      "metadata": {
        "colab": {
          "base_uri": "https://localhost:8080/"
        },
        "id": "soa0aPrYCdTF",
        "outputId": "13bdb3a8-6709-4c9d-a975-d55a7e775963"
      },
      "execution_count": null,
      "outputs": [
        {
          "output_type": "stream",
          "name": "stderr",
          "text": [
            "Some weights of the model checkpoint at bert-base-cased were not used when initializing BertModel: ['cls.seq_relationship.weight', 'cls.seq_relationship.bias', 'cls.predictions.decoder.weight', 'cls.predictions.transform.LayerNorm.weight', 'cls.predictions.transform.dense.weight', 'cls.predictions.bias', 'cls.predictions.transform.dense.bias', 'cls.predictions.transform.LayerNorm.bias']\n",
            "- This IS expected if you are initializing BertModel from the checkpoint of a model trained on another task or with another architecture (e.g. initializing a BertForSequenceClassification model from a BertForPreTraining model).\n",
            "- This IS NOT expected if you are initializing BertModel from the checkpoint of a model that you expect to be exactly identical (initializing a BertForSequenceClassification model from a BertForSequenceClassification model).\n"
          ]
        }
      ]
    },
    {
      "cell_type": "code",
      "source": [
        "#Train the model\n",
        "model3.train()\n",
        "loss_train, loss_val = train(model3, optimizer, dataset_train, dataset_val, LOSS, N_CLASSES, 10)"
      ],
      "metadata": {
        "colab": {
          "base_uri": "https://localhost:8080/"
        },
        "id": "1fhqbUQLOlUN",
        "outputId": "996a71e5-ec51-466c-e8ae-1d8bcf13c191"
      },
      "execution_count": null,
      "outputs": [
        {
          "output_type": "stream",
          "name": "stdout",
          "text": [
            "\n",
            "epoch: 1/10\n",
            "Training...\n",
            "Train Loss: 26.799508330401252\n",
            "Validating...\n",
            "Validation Loss: 2.9916666666666667\n",
            "\n",
            "\n",
            "epoch: 2/10\n",
            "Training...\n",
            "Train Loss: 15.774704091689166\n",
            "Validating...\n",
            "Validation Loss: 2.9604166666666667\n",
            "\n",
            "\n",
            "epoch: 3/10\n",
            "Training...\n",
            "Train Loss: 15.723820652681239\n",
            "Validating...\n",
            "Validation Loss: 3.0072916666666667\n",
            "\n",
            "\n",
            "epoch: 4/10\n",
            "Training...\n",
            "Train Loss: 15.575294528288\n",
            "Validating...\n",
            "Validation Loss: 3.0229166666666667\n",
            "\n",
            "\n",
            "epoch: 5/10\n",
            "Training...\n",
            "Train Loss: 15.41390047634349\n",
            "Validating...\n",
            "Validation Loss: 2.970833333333333\n",
            "\n",
            "\n",
            "epoch: 6/10\n",
            "Training...\n",
            "Train Loss: 15.19307580835679\n",
            "Validating...\n",
            "Validation Loss: 2.986458333333333\n",
            "\n",
            "\n",
            "epoch: 7/10\n",
            "Training...\n",
            "Train Loss: 13.945498522590189\n",
            "Validating...\n",
            "Validation Loss: 2.9760416666666667\n",
            "\n",
            "\n",
            "epoch: 8/10\n",
            "Training...\n",
            "Train Loss: 13.208897063311408\n",
            "Validating...\n",
            "Validation Loss: 3.0125\n",
            "\n",
            "\n",
            "epoch: 9/10\n",
            "Training...\n",
            "Train Loss: 15.217200683144963\n",
            "Validating...\n",
            "Validation Loss: 2.986458333333333\n",
            "\n",
            "\n",
            "epoch: 10/10\n",
            "Training...\n",
            "Train Loss: 15.054272988263298\n",
            "Validating...\n",
            "Validation Loss: 2.9916666666666667\n",
            "\n"
          ]
        }
      ]
    },
    {
      "cell_type": "code",
      "source": [
        "#Test the model\n",
        "model3.eval()\n",
        "ent_pred = test(model3, dataset_dev, entities_dev)"
      ],
      "metadata": {
        "id": "S32MheciOjE9",
        "colab": {
          "base_uri": "https://localhost:8080/"
        },
        "outputId": "3b21dff3-dd59-44bf-efc7-7a7662a53487"
      },
      "execution_count": null,
      "outputs": [
        {
          "output_type": "stream",
          "name": "stdout",
          "text": [
            "Entities identified correctly: 0\n",
            "Tot entities to found: 908\n",
            "# Accuracy: 0.0000\n"
          ]
        }
      ]
    },
    {
      "cell_type": "code",
      "source": [
        "plot_train_trend(loss_train, loss_val, \"Entities Identification\")"
      ],
      "metadata": {
        "id": "F9liGrLfPFZi",
        "colab": {
          "base_uri": "https://localhost:8080/",
          "height": 295
        },
        "outputId": "a9a872a6-8649-44de-91e7-007b1b27efef"
      },
      "execution_count": null,
      "outputs": [
        {
          "output_type": "display_data",
          "data": {
            "text/plain": [
              "<Figure size 432x288 with 1 Axes>"
            ],
            "image/png": "[encoded data removed]"
          },
          "metadata": {
            "needs_background": "light"
          }
        }
      ]
    },
    {
      "cell_type": "markdown",
      "source": [
        "###Training and test 4\n",
        "\n",
        "* Batch size used: 32\n",
        "* Epochs of training: 50\n",
        "* Loss function: cross_entropy\n",
        "* Activation function: sigmoid\n",
        "* 2 BiLSTM layer\n",
        "* 2 linear layer of the classifier\n",
        "* Transformer \"bert-base-cased\" not finetuned\n",
        "* 1 CRF (Condition Random Field) layer\n",
        "* Adam Optimizer\n",
        "* Modify data: concatenate '1' if a token is the ambiguous pronoun, '0' othewise"
      ],
      "metadata": {
        "id": "W7T-3ILxnTCN"
      }
    },
    {
      "cell_type": "code",
      "source": [
        "#HYPERPARAMETERS\n",
        "N_HIDDEN = 200\n",
        "N_CLASSES = 3\n",
        "EPOCHS = 50\n",
        "LOSS = loss_crf_function"
      ],
      "metadata": {
        "id": "oYc2O346nWat"
      },
      "execution_count": null,
      "outputs": []
    },
    {
      "cell_type": "code",
      "source": [
        "#instance of the model and optimizer\n",
        "device = \"cuda\" if torch.cuda.is_available() else \"cpu\"\n",
        "model4 = EntitiesIdentification(N_HIDDEN,N_CLASSES)\n",
        "model4.to(device)\n",
        "optimizer = torch.optim.Adam(model4.parameters())"
      ],
      "metadata": {
        "colab": {
          "base_uri": "https://localhost:8080/"
        },
        "id": "ti5d3HQiHKmI",
        "outputId": "90eae88b-263e-436e-aa43-778242736cb1"
      },
      "execution_count": null,
      "outputs": [
        {
          "output_type": "stream",
          "name": "stderr",
          "text": [
            "Some weights of the model checkpoint at bert-base-cased were not used when initializing BertModel: ['cls.seq_relationship.bias', 'cls.predictions.transform.dense.bias', 'cls.seq_relationship.weight', 'cls.predictions.transform.LayerNorm.bias', 'cls.predictions.transform.dense.weight', 'cls.predictions.decoder.weight', 'cls.predictions.bias', 'cls.predictions.transform.LayerNorm.weight']\n",
            "- This IS expected if you are initializing BertModel from the checkpoint of a model trained on another task or with another architecture (e.g. initializing a BertForSequenceClassification model from a BertForPreTraining model).\n",
            "- This IS NOT expected if you are initializing BertModel from the checkpoint of a model that you expect to be exactly identical (initializing a BertForSequenceClassification model from a BertForSequenceClassification model).\n"
          ]
        }
      ]
    },
    {
      "cell_type": "code",
      "source": [
        "#Train the model\n",
        "model4.train()\n",
        "loss_train, loss_val = train(model4, optimizer, dataset_train, dataset_val, LOSS, N_CLASSES, 10, loss_train, loss_val)"
      ],
      "metadata": {
        "colab": {
          "base_uri": "https://localhost:8080/"
        },
        "id": "XAn4DHEKeYKv",
        "outputId": "9b1a5cf1-b0f4-4062-c85d-9fb7dd847b80"
      },
      "execution_count": null,
      "outputs": [
        {
          "output_type": "stream",
          "name": "stdout",
          "text": [
            "\n",
            "epoch: 41/50\n",
            "Training...\n",
            "Train Loss: 0.0780302412369672\n",
            "Validating...\n",
            "Validation Loss: 1.7083333333333333\n",
            "\n",
            "\n",
            "epoch: 42/50\n",
            "Training...\n",
            "Train Loss: 0.08315105723107562\n",
            "Validating...\n",
            "Validation Loss: 1.6885416666666668\n",
            "\n",
            "\n",
            "epoch: 43/50\n",
            "Training...\n",
            "Train Loss: 0.07922647386131917\n",
            "Validating...\n",
            "Validation Loss: 1.809375\n",
            "\n",
            "\n",
            "epoch: 44/50\n",
            "Training...\n",
            "Train Loss: 0.09211468384601176\n",
            "Validating...\n",
            "Validation Loss: 1.7739583333333333\n",
            "\n",
            "\n",
            "epoch: 45/50\n",
            "Training...\n",
            "Train Loss: 0.12458796455141376\n",
            "Validating...\n",
            "Validation Loss: 1.8333333333333333\n",
            "\n",
            "\n",
            "epoch: 46/50\n",
            "Training...\n",
            "Train Loss: 0.0670016901458011\n",
            "Validating...\n",
            "Validation Loss: 1.7614583333333331\n",
            "\n",
            "\n",
            "epoch: 47/50\n",
            "Training...\n",
            "Train Loss: 0.07164252042112981\n",
            "Validating...\n",
            "Validation Loss: 1.665625\n",
            "\n",
            "\n",
            "epoch: 48/50\n",
            "Training...\n",
            "Train Loss: 0.06083400402875508\n",
            "Validating...\n",
            "Validation Loss: 1.7489583333333332\n",
            "\n",
            "\n",
            "epoch: 49/50\n",
            "Training...\n",
            "Train Loss: 0.06036669804769404\n",
            "Validating...\n",
            "Validation Loss: 1.8604166666666668\n",
            "\n",
            "\n",
            "epoch: 50/50\n",
            "Training...\n",
            "Train Loss: 0.06102682707064292\n",
            "Validating...\n",
            "Validation Loss: 1.7541666666666669\n",
            "\n"
          ]
        }
      ]
    },
    {
      "cell_type": "code",
      "source": [
        "#Test the model\n",
        "model4.eval()\n",
        "ent_pred = test(model4, dataset_dev, entities_dev)"
      ],
      "metadata": {
        "colab": {
          "base_uri": "https://localhost:8080/"
        },
        "id": "YQSiejB6edhX",
        "outputId": "452c6738-0ef0-4dc4-9f64-57e7114996b1"
      },
      "execution_count": null,
      "outputs": [
        {
          "output_type": "stream",
          "name": "stdout",
          "text": [
            "Entities identified correctly: 582\n",
            "Tot entities to found: 908\n",
            "# Accuracy: 0.6410\n"
          ]
        }
      ]
    },
    {
      "cell_type": "markdown",
      "source": [
        "Add 10 epochs"
      ],
      "metadata": {
        "id": "7X82DCgXnPZg"
      }
    },
    {
      "cell_type": "code",
      "source": [
        "#Train the model\n",
        "model4.train()\n",
        "loss_train, loss_val = train(model4, optimizer, dataset_train, dataset_val, LOSS, N_CLASSES, 10, loss_train, loss_val)"
      ],
      "metadata": {
        "colab": {
          "base_uri": "https://localhost:8080/"
        },
        "id": "MKX4LppDEV9_",
        "outputId": "9e33675b-63dc-42a1-cbd2-bfca7b2255ea"
      },
      "execution_count": null,
      "outputs": [
        {
          "output_type": "stream",
          "name": "stdout",
          "text": [
            "\n",
            "epoch: 51/60\n",
            "Training...\n",
            "Train Loss: 0.04160146903904045\n",
            "Validating...\n",
            "Validation Loss: 1.5760416666666666\n",
            "\n",
            "\n",
            "epoch: 52/60\n",
            "Training...\n",
            "Train Loss: 0.042840086011325614\n",
            "Validating...\n",
            "Validation Loss: 1.7614583333333331\n",
            "\n",
            "\n",
            "epoch: 53/60\n",
            "Training...\n",
            "Train Loss: 0.07982050829073963\n",
            "Validating...\n",
            "Validation Loss: 1.7979166666666668\n",
            "\n",
            "\n",
            "epoch: 54/60\n",
            "Training...\n",
            "Train Loss: 0.07836086737978108\n",
            "Validating...\n",
            "Validation Loss: 1.8135416666666668\n",
            "\n",
            "\n",
            "epoch: 55/60\n",
            "Training...\n",
            "Train Loss: 0.10834284328362521\n",
            "Validating...\n",
            "Validation Loss: 1.6635416666666667\n",
            "\n",
            "\n",
            "epoch: 56/60\n",
            "Training...\n",
            "Train Loss: 0.10241123998866361\n",
            "Validating...\n",
            "Validation Loss: 1.834375\n",
            "\n",
            "\n",
            "epoch: 57/60\n",
            "Training...\n",
            "Train Loss: 0.10820487207349609\n",
            "Validating...\n",
            "Validation Loss: 1.7479166666666668\n",
            "\n",
            "\n",
            "epoch: 58/60\n",
            "Training...\n",
            "Train Loss: 0.0802601853495135\n",
            "Validating...\n",
            "Validation Loss: 1.728125\n",
            "\n",
            "\n",
            "epoch: 59/60\n",
            "Training...\n",
            "Train Loss: 0.030715558880611376\n",
            "Validating...\n",
            "Validation Loss: 1.6510416666666667\n",
            "\n",
            "\n",
            "epoch: 60/60\n",
            "Training...\n",
            "Train Loss: 0.06302232664516744\n",
            "Validating...\n",
            "Validation Loss: 1.8177083333333333\n",
            "\n"
          ]
        }
      ]
    },
    {
      "cell_type": "code",
      "source": [
        "#Test the model\n",
        "model4.eval()\n",
        "ent_pred = test(model4, dataset_dev, entities_dev)"
      ],
      "metadata": {
        "colab": {
          "base_uri": "https://localhost:8080/"
        },
        "id": "8J_kHlVaIOPR",
        "outputId": "6bc17872-0e42-4648-cd26-4fa7b88f9a39"
      },
      "execution_count": null,
      "outputs": [
        {
          "output_type": "stream",
          "name": "stdout",
          "text": [
            "Entities identified correctly: 574\n",
            "Tot entities to found: 908\n",
            "# Accuracy: 0.6322\n"
          ]
        }
      ]
    },
    {
      "cell_type": "code",
      "source": [
        "plot_train_trend(loss_train, loss_val, \"Entities Identification\")"
      ],
      "metadata": {
        "colab": {
          "base_uri": "https://localhost:8080/",
          "height": 295
        },
        "id": "9p1FRfcwm-pP",
        "outputId": "d85d0cd5-039a-4e13-9d92-a107aa61b297"
      },
      "execution_count": null,
      "outputs": [
        {
          "output_type": "display_data",
          "data": {
            "text/plain": [
              "<Figure size 432x288 with 1 Axes>"
            ],
            "image/png": "[encoded data removed]"
          },
          "metadata": {
            "needs_background": "light"
          }
        }
      ]
    },
    {
      "cell_type": "markdown",
      "source": [
        "#**Conference Resolution**"
      ],
      "metadata": {
        "id": "bB-rwGtYXy3N"
      }
    },
    {
      "cell_type": "markdown",
      "source": [
        "##Pre-process and organize data"
      ],
      "metadata": {
        "id": "-W3YNHh7X-OG"
      }
    },
    {
      "cell_type": "markdown",
      "source": [
        "###Organization 1\n",
        "\n",
        "Organize each text as: \"[CLS] text [SEP] pronoun [SEP] entity [SEP]\""
      ],
      "metadata": {
        "id": "mWUwWEaq72Mc"
      }
    },
    {
      "cell_type": "code",
      "source": [
        "'''\n",
        "Function to organize data for the input of the model\n",
        "\n",
        "- args:\n",
        "  - texts: list of texts [text1, ... textN]\n",
        "  - pronouns: list of (pronoun, offset) of each text\n",
        "  - entities: list of [(entityA,offset,True/False),(entityB,offset,True/False)]\n",
        "\n",
        "-output:\n",
        "  - new_input: list with each element organized as: {\"input_ids\":ids of tokens of each text, \"attention_mask\": mask}\n",
        "  - labels: list of '1' if the correspondet entity is related to the pronoun in question, '0' otherwise\n",
        "'''\n",
        "\n",
        "def organize_data(texts, pronouns, entities):\n",
        "\n",
        "  #tokenizer from Bert\n",
        "  tokenizer = AutoTokenizer.from_pretrained(\"bert-base-cased\")\n",
        "\n",
        "  #input data\n",
        "  new_input = []\n",
        "  labels = []\n",
        "\n",
        "  #Pattern of data: \"[CLS] text [SEP] pronoun [SEP] entity [SEP]\"\n",
        "  #In this casa it is considered all the text tokenized, included words tokenized as 'token1_1','##token1_2'\n",
        "  for t,p,e in zip(texts,pronouns,entities):\n",
        "\n",
        "    #first entity of dataset\n",
        "    encoded = tokenizer(t,p[0]+\"[SEP]\"+e[0][0])\n",
        "    input = {k: torch.Tensor(v) for k, v in encoded.items()}\n",
        "    new_input.append(input)\n",
        "    #correspondent label\n",
        "    if e[0][2] =='TRUE':\n",
        "      labels.append(1.0)\n",
        "    else:\n",
        "      labels.append(0.0)\n",
        "\n",
        "    #second entity of the dataset\n",
        "    encoded = tokenizer(t,p[0]+\"[SEP]\"+e[1][0])\n",
        "    input = {k: torch.Tensor(v) for k, v in encoded.items()}\n",
        "    #correspondet label\n",
        "    new_input.append(input)\n",
        "    if e[1][2] =='TRUE':\n",
        "      labels.append(1.0)\n",
        "    else:\n",
        "      labels.append(0.0)\n",
        "\n",
        "  assert len(new_input) == len(labels)\n",
        "\n",
        "  return new_input, torch.Tensor(labels)"
      ],
      "metadata": {
        "id": "ajHAylDWX5F1"
      },
      "execution_count": null,
      "outputs": []
    },
    {
      "cell_type": "code",
      "source": [
        "#Organize data\n",
        "new_input, labels = organize_data(texts,pronouns,entities)\n",
        "new_input_dev, labels_dev = organize_data(texts_dev,pronouns_dev,entities_dev)"
      ],
      "metadata": {
        "id": "zlGYKsmNcX-W"
      },
      "execution_count": null,
      "outputs": []
    },
    {
      "cell_type": "code",
      "source": [
        "#organize dataset with batches\n",
        "BATCH = 32\n",
        "\n",
        "#split training set into train and validation to train and to evaluate the model\n",
        "x_train, x_val, y_train, y_val = train_test_split(new_input, labels, test_size = 0.1, random_state = 43)\n",
        "\n",
        "#Define dataset from data for the input of the model\n",
        "dataset_train = create_dataset(x_train, y_train, batch_size=BATCH, shuffle_flag=True)\n",
        "dataset_val = create_dataset(x_val, y_val, batch_size=BATCH, shuffle_flag=True)\n",
        "dataset_dev = create_dataset(new_input_dev, labels_dev, batch_size=BATCH, shuffle_flag=False)"
      ],
      "metadata": {
        "id": "u_6551E58ExK"
      },
      "execution_count": null,
      "outputs": []
    },
    {
      "cell_type": "markdown",
      "source": [
        "###Organization 2\n",
        "\n",
        "Organize data as: \"tokens text [SEP] pronoun [SEP] entity\"\n",
        "\n",
        "This is the implementation used for the model considered"
      ],
      "metadata": {
        "id": "syHwuGA_77Hb"
      }
    },
    {
      "cell_type": "code",
      "source": [
        "'''\n",
        "Function to find the indecies of pronoun and entities in the text (number of token)\n",
        "\n",
        "- args:\n",
        "  - tokenizer\n",
        "  - tokens_ids: list of dictionaries of tokens \n",
        "  - pronouns: list of (pronoun, offset) of each text\n",
        "  - entities: list of [(entityA,offset,True/False),(entityB,offset,True/False)]\n",
        "\n",
        "-output:\n",
        "  - indicies_of_interest: couples of indicies to indicate the tokens of pronoun and entity in the text\n",
        "'''\n",
        "\n",
        "def find_indicies_of_interest(tokenizer, tokens_ids, pronouns, entities):\n",
        "\n",
        "  #Save the token index of each entity in the text \n",
        "  index_entities = []\n",
        "  found = False\n",
        "  for t,ent in zip(tokens_ids,entities):\n",
        "    for e in ent:\n",
        "      entity = (e[0].split(\" \")[0],e[1])\n",
        "      #check for the entity between the token to find its index\n",
        "      for k,v in t.items():\n",
        "        if entity==v:\n",
        "          index_entities.append(k)\n",
        "          found = True\n",
        "      if not found:\n",
        "        index_entities.append(None)\n",
        "      else:\n",
        "        found = False\n",
        "\n",
        "  #Save the token index of each pronoun in the text\n",
        "  index_pronouns = []\n",
        "  found = False\n",
        "  for t,p in zip(tokens_ids,pronouns):\n",
        "    #check for the pronoun between the token to find its index\n",
        "    for k,v in t.items():\n",
        "      if p==v:\n",
        "        #add the pronoun twice beacuse the entities list is flatten:\n",
        "        #each couple refered to the same pronoun [(entity1A,entity1B), (entity2A,entity2B), ...]\n",
        "        #beacome [entity1A, entity1B, entity2A, entity2B, ...]\n",
        "        index_pronouns.append(k)\n",
        "        index_pronouns.append(k)\n",
        "\n",
        "  #Save the indicies in coples\n",
        "  index_of_interest = []\n",
        "  #list of saved indicies become [(index pronoun1, (index entity1A, index entity1B)),\n",
        "  #                               (index pronoun2, (index entity2A, index entity2B)), ... ]\n",
        "  for i1,i2 in zip(index_entities,index_pronouns):\n",
        "    index_of_interest.append((i1,i2))\n",
        "\n",
        "  return index_of_interest"
      ],
      "metadata": {
        "id": "mGzSoGnE_BG_"
      },
      "execution_count": null,
      "outputs": []
    },
    {
      "cell_type": "code",
      "source": [
        "'''\n",
        "Function to organize data for the input of the model\n",
        "\n",
        "- args:\n",
        "  - texts: list of texts [text1, ... textN]\n",
        "  - pronouns: list of (pronoun, offset) of each text\n",
        "  - entities: list of [(entityA,offset,True/False),(entityB,offset,True/False)]\n",
        "\n",
        "-output:\n",
        "  - new_input: list with each element organized as: {\"input_ids\":ids of tokens of each text, \"attention_mask\": mask}\n",
        "  - labels: list of '1' if the correspondet entity is related to the pronoun in question, '0' otherwise\n",
        "  - indicies_of_interest: couples of indicies to indicate the tokens of pronoun and entity in the text\n",
        "  - tokens_entity: number of tokens for each entity\n",
        "'''\n",
        "\n",
        "def organize_data2(texts, pronouns, entities):\n",
        "\n",
        "  #tokenizer from Bert\n",
        "  tokenizer = AutoTokenizer.from_pretrained(\"bert-base-cased\")\n",
        "\n",
        "  #Find ids and offset of each word\n",
        "  tokens_ids, tokens_offset = find_index_offsets(texts)\n",
        "  indicies_of_interest = find_indicies_of_interest(tokenizer, tokens_ids, pronouns, entities)\n",
        "  \n",
        "  new_input = []\n",
        "  labels = []\n",
        "  tokens_entity = []\n",
        "\n",
        "  #Pattern of data: \"text [SEP] pronoun [SEP] entity\"\n",
        "  #In this casa it is considered all first token of tokenized text, (the root of the word)\n",
        "  for t_id,p,e in zip(tokens_ids,pronouns,entities):\n",
        "\n",
        "    input_ids = []\n",
        "    input_idsA = []\n",
        "    input_idsB = []\n",
        "    maskA = []\n",
        "    maskB = []\n",
        "\n",
        "    #tokenize all text\n",
        "    tokens = [t[0] for t in t_id.values()]\n",
        "    input_ids = [torch.tensor(tokenizer(ti)[0].ids[1]) for ti in tokens]\n",
        "    input_ids.append(torch.tensor(tokenizer(\"[SEP]\")[0].ids[1]))\n",
        "    input_ids.append(torch.tensor(tokenizer(p[0])[0].ids[1]))\n",
        "    input_ids.append(torch.tensor(tokenizer(\"[SEP]\")[0].ids[1]))\n",
        "\n",
        "    #add first entity\n",
        "    input_idsA = copy.deepcopy(input_ids)\n",
        "    entity = tokenizer.tokenize(e[0][0])\n",
        "    token_entity = 0\n",
        "    for i in entity:\n",
        "      #convert token into the correspondet id\n",
        "      input_idsA.append(torch.tensor(tokenizer(i)[0].ids[1]))\n",
        "      token_entity+=1\n",
        "    tokens_entity.append(token_entity)\n",
        "    input_idsA = torch.stack(input_idsA)\n",
        "    maskA = torch.ones(input_idsA.shape[0])\n",
        "    \n",
        "    #correspondet label\n",
        "    if e[0][2] =='TRUE':\n",
        "      labels.append(1.0)\n",
        "    else:\n",
        "      labels.append(0.0)\n",
        "\n",
        "    #add second entity\n",
        "    input_idsB = copy.deepcopy(input_ids)\n",
        "    entity = tokenizer.tokenize(e[1][0])\n",
        "    token_entity = 0\n",
        "    for i in entity:\n",
        "      #convert token into the correspondet id\n",
        "      input_idsB.append(torch.tensor(tokenizer(i)[0].ids[1]))\n",
        "      token_entity+=1\n",
        "    tokens_entity.append(token_entity)\n",
        "    input_idsB = torch.stack(input_idsB)\n",
        "    maskB = torch.ones(input_idsB.shape[0])\n",
        "\n",
        "    #correspondent label\n",
        "    if e[1][2] =='TRUE':\n",
        "      labels.append(1.0)\n",
        "    else:\n",
        "      labels.append(0.0)\n",
        "\n",
        "    #Add the processed data to a list for the final input shape\n",
        "    new_input.append({\"input_ids\":input_idsA,\"attention_mask\":maskA})\n",
        "    new_input.append({\"input_ids\":input_idsB,\"attention_mask\":maskB})\n",
        "\n",
        "  #check if lenghts of lists match\n",
        "  assert len(new_input) == len(labels) == len(tokens_entity)\n",
        "\n",
        "  return new_input, torch.Tensor(labels), indicies_of_interest, tokens_entity"
      ],
      "metadata": {
        "id": "l9pb3Fcpmuk4"
      },
      "execution_count": null,
      "outputs": []
    },
    {
      "cell_type": "code",
      "source": [
        "#Organize data\n",
        "new_input, labels, index_of_interest, tokens_entity = organize_data2(texts,pronouns,entities)\n",
        "new_input_dev, labels_dev, index_of_interest_dev, tokens_entity_dev = organize_data2(texts_dev,pronouns_dev,entities_dev)"
      ],
      "metadata": {
        "id": "tTSLxjDCpF7I"
      },
      "execution_count": null,
      "outputs": []
    },
    {
      "cell_type": "code",
      "source": [
        "#organize dataset with batches\n",
        "BATCH = 32\n",
        "\n",
        "#split training set into train and validation to train and to evaluate the model\n",
        "x_train, x_val, y_train, y_val, i_train, i_val, t_train, t_val = train_test_split(new_input, labels, index_of_interest, tokens_entity, test_size = 0.1, random_state = 43)\n",
        "\n",
        "#Define dataset from data for the input of the model\n",
        "dataset_train = create_dataset(x_train, y_train, i_train, t_train, batch_size=BATCH, shuffle_flag=True)\n",
        "dataset_val = create_dataset(x_val, y_val, i_val, t_val, batch_size=BATCH, shuffle_flag=True)\n",
        "dataset_dev = create_dataset(new_input_dev, labels_dev, index_of_interest_dev, tokens_entity_dev, batch_size=BATCH, shuffle_flag=False)"
      ],
      "metadata": {
        "id": "sTkkVlPXeDPc"
      },
      "execution_count": null,
      "outputs": []
    },
    {
      "cell_type": "markdown",
      "source": [
        "##Train and test functions"
      ],
      "metadata": {
        "id": "CwZ3veuEggoS"
      }
    },
    {
      "cell_type": "code",
      "source": [
        "'''\n",
        "- args:\n",
        "  - model: an instance eof the model\n",
        "  - optimizer: an instance of the optimizer\n",
        "  - data_train: dataset for train \n",
        "  - data_val: dataset for validation\n",
        "  - loss_f: loss function\n",
        "  - classes: number of classes for classsficcation\n",
        "  - epochs: (int) numer of epochs (default is 10)\n",
        "  - train_loss: list of train losses if the training continue from previous one, None otherwise\n",
        "  - val_loss: list of validation losses if the training continue from previous one, None otherwise\n",
        "\n",
        "-output:\n",
        "  - tot_loss_train: list of train losses\n",
        "  - tot_loss_val: list of validation losses\n",
        "'''\n",
        "\n",
        "def train(model, optimizer, data_train, data_val, loss_f, n_classes, epochs: int = 10, train_loss = None, val_loss = None):\n",
        "\n",
        "    #To store losses if call the train to continue a previous training or start new one\n",
        "    if train_loss == None and val_loss == None: \n",
        "      tot_loss_train = []\n",
        "      tot_loss_val = []\n",
        "      epochs_done = 0\n",
        "    else:\n",
        "      tot_loss_train = train_loss\n",
        "      tot_loss_val = val_loss\n",
        "      assert len(tot_loss_train) == len(tot_loss_val)\n",
        "      epochs_done = len(tot_loss_train)\n",
        "\n",
        "    #Variables for early stopping\n",
        "    best_validation_loss = float('inf')\n",
        "    counter = 0\n",
        "    patience = 7\n",
        "    \n",
        "    #main loop\n",
        "    for epoch in range(epochs):\n",
        "\n",
        "        print(\"\\nepoch: \"+str(epoch+1+epochs_done)+\"/\"+str(epochs+epochs_done))\n",
        "\n",
        "        #training loop\n",
        "        print(\"Training...\")\n",
        "        loss_train = []\n",
        "\n",
        "        #process data\n",
        "        for x, y, i, t in data_train:\n",
        "            optimizer.zero_grad()\n",
        "            input = {k: v.type(torch.long).to(device) for k, v in x.items()}\n",
        "            out = model(input, i, t)\n",
        "            out = out.type(torch.float).to(device)\n",
        "            y = torch.Tensor(y)\n",
        "            y = y.type(torch.float).to(device)\n",
        "            y.requires_grad=True\n",
        "            loss = loss_f(out, y)\n",
        "            loss_train.append(loss.item())\n",
        "            loss.backward()\n",
        "            optimizer.step()\n",
        "\n",
        "        #loss of the batch\n",
        "        lt = sum(loss_train)/len(loss_train)\n",
        "\n",
        "        tot_loss_train.append(lt)\n",
        "        print(\"Train Loss: \"+str(lt))\n",
        "\n",
        "        #validation loop\n",
        "        print(\"Validating...\")\n",
        "        loss_val = []\n",
        "\n",
        "        #process data\n",
        "        for x, y, i, t in data_val:\n",
        "          with torch.no_grad():\n",
        "            input = {k: v.type(torch.long).to(device) for k, v in x.items()}\n",
        "            out = model(input, i, t)\n",
        "            out = out.type(torch.float).to(device)\n",
        "            y = torch.Tensor(y)\n",
        "            y = y.type(torch.float).to(device)\n",
        "            loss = loss_f(out, y)\n",
        "            loss_val.append(loss.item())\n",
        "\n",
        "        #loss of the batch\n",
        "        lv = sum(loss_val)/len(loss_val)\n",
        "\n",
        "        tot_loss_val.append(lv)\n",
        "        print(\"Validation Loss: \"+str(lv)+\"\\n\")\n",
        "\n",
        "        #Early Stopping\n",
        "        if lv < best_validation_loss:\n",
        "          best_validation_loss = lv\n",
        "          counter = 0\n",
        "        else:\n",
        "          counter = counter+1\n",
        "        if counter >= patience:\n",
        "          break\n",
        "    \n",
        "    return tot_loss_train, tot_loss_val"
      ],
      "metadata": {
        "id": "wpF8ksazgjX8"
      },
      "execution_count": null,
      "outputs": []
    },
    {
      "cell_type": "code",
      "source": [
        "#test function\n",
        "\n",
        "'''\n",
        "- input:\n",
        "  - model: an instance of the model\n",
        "  - dataloader: dataset for test\n",
        "\n",
        "- output:\n",
        "  - true: list of true labels (int)\n",
        "  - pred: list of predictions (int)\n",
        "'''\n",
        "\n",
        "def test(model: nn.Module, dataloader: DataLoader):\n",
        "\n",
        "  true_positive = 0   #TRUE POSITIVES\n",
        "  false_positive = 0  #FALSE POSITIVES\n",
        "  true_negative = 0   #TRUE NEGATIVES\n",
        "  false_negative = 0  #FALSE NEGATIVES\n",
        "  pred = []           #list of predictions\n",
        "  true = []           #list of true labels\n",
        "  device = \"cuda\" if torch.cuda.is_available() else \"cpu\"\n",
        "\n",
        "  for x, y, i, t in dataloader:\n",
        "\n",
        "      #predict data\n",
        "      with torch.no_grad():\n",
        "          input = {k: v.type(torch.long).to(device) for k, v in x.items()}\n",
        "          out = model(input, i, t)\n",
        "          out = torch.round(out).to(device)\n",
        "\n",
        "      #check the predictions with true labels to compute Accuracy and F1\n",
        "      for elem_pred, elem_true in zip(out.to(device), y):\n",
        "\n",
        "          if elem_pred == 1 and elem_true ==1: \n",
        "            true_positive += 1\n",
        "          elif elem_pred == 0 and elem_true ==0:\n",
        "            true_negative += 1\n",
        "          elif elem_pred == 0 and elem_true ==1:\n",
        "            false_negative += 1\n",
        "          elif elem_pred == 1 and elem_true ==0:\n",
        "            false_positive += 1\n",
        "\n",
        "          true.append(elem_true)\n",
        "          pred.append(elem_pred)\n",
        "\n",
        "  tot_correctly = true_positive+true_negative #total predicted correctly\n",
        "  tot = true_positive+true_negative+false_negative+false_positive #total samples\n",
        "  acc = tot_correctly/tot #accuracy\n",
        "\n",
        "  precision = true_positive/(true_positive+false_positive) #precision\n",
        "  recall = true_positive/(true_positive+false_negative) #recall\n",
        "  F1 = 2*(precision*recall)/(precision+recall) #F1\n",
        "\n",
        "  print(\"Identified correctly: \"+str(tot_correctly))\n",
        "  print(\"Tot: \"+str(tot))\n",
        "  print(f'# Precision: {precision:.4f}')\n",
        "  print(f'# Recall: {recall:.4f}')\n",
        "  print(f'# F1: {F1:.4f}')\n",
        "  print(f'# accuracy: {acc:.4f}')\n",
        "  \n",
        "  return true, pred"
      ],
      "metadata": {
        "id": "oGt9Fxs4NUID"
      },
      "execution_count": null,
      "outputs": []
    },
    {
      "cell_type": "code",
      "source": [
        "#test function on more models for ensambling\n",
        "\n",
        "'''\n",
        "- input:\n",
        "  - model: list of instances of model\n",
        "  - dataloader: dataset for test\n",
        "\n",
        "- output:\n",
        "  - true: list of true labels (int)\n",
        "  - pred: list of predictions (int)\n",
        "'''\n",
        "\n",
        "def test_ensamble(models: list, model2: nn.Module, dataloader: DataLoader):\n",
        "\n",
        "  true_positive = 0   #TRUE POSITIVES\n",
        "  false_positive = 0  #FALSE POSITIVES\n",
        "  true_negative = 0   #TRUE NEGATIVES\n",
        "  false_negative = 0  #FALSE NEGATIVES\n",
        "  pred = []           #list of predictions\n",
        "  true = []           #list of true labels\n",
        "  device = \"cuda\" if torch.cuda.is_available() else \"cpu\"\n",
        "\n",
        "  for x, y, i, t in dataloader:\n",
        "\n",
        "      #predict data\n",
        "      with torch.no_grad():\n",
        "          input = {k: v.type(torch.long).to(device) for k, v in x.items()}\n",
        "          out = torch.zeros(input[\"input_ids\"].shape[0]).to(device)\n",
        "          #predict the output for each model in the input list\n",
        "          for model in models:\n",
        "            out += model(input, i, t)\n",
        "          out = out/len(models) #mean of predictions\n",
        "          out = torch.round(out)\n",
        "\n",
        "      #check the predictions with true labels to compute Accuracy and F1\n",
        "      for elem_pred, elem_true in zip(out.to(device), y):\n",
        "\n",
        "          if elem_pred == 1 and elem_true ==1: \n",
        "            true_positive += 1\n",
        "          elif elem_pred == 0 and elem_true ==0:\n",
        "            true_negative += 1\n",
        "          elif elem_pred == 0 and elem_true ==1:\n",
        "            false_negative += 1\n",
        "          elif elem_pred == 1 and elem_true ==0:\n",
        "            false_positive += 1\n",
        "\n",
        "          true.append(elem_true)\n",
        "          pred.append(elem_pred)\n",
        "\n",
        "  tot_correctly = true_positive+true_negative #total predicted correctly\n",
        "  tot = true_positive+true_negative+false_negative+false_positive #total samples\n",
        "  acc = tot_correctly/tot #accuracy\n",
        "\n",
        "  precision = true_positive/(true_positive+false_positive) #precision\n",
        "  recall = true_positive/(true_positive+false_negative) #recall\n",
        "  F1 = 2*(precision*recall)/(precision+recall) #F1\n",
        "\n",
        "  print(\"Identified correctly: \"+str(tot_correctly))\n",
        "  print(\"Tot: \"+str(tot))\n",
        "  print(f'# Precision: {precision:.4f}')\n",
        "  print(f'# Recall: {recall:.4f}')\n",
        "  print(f'# F1: {F1:.4f}')\n",
        "  print(f'# accuracy: {acc:.4f}')\n",
        "  \n",
        "  return true, pred"
      ],
      "metadata": {
        "id": "Gh-pzkb5qtsG"
      },
      "execution_count": null,
      "outputs": []
    },
    {
      "cell_type": "markdown",
      "source": [
        "##Model"
      ],
      "metadata": {
        "id": "F-RhGZTKgexm"
      }
    },
    {
      "cell_type": "code",
      "source": [
        "class ConferenceResolution(torch.nn.Module):\n",
        "\n",
        "    def __init__(self, n_hidden, classes, language_model_name=\"bert-base-cased\"):\n",
        "        super(ConferenceResolution, self).__init__()\n",
        "\n",
        "        #Transformer model\n",
        "        self.transformer_model = AutoModel.from_pretrained(language_model_name, output_hidden_states=True)\n",
        "\n",
        "        #Freeze Transformer\n",
        "        for param in self.transformer_model.parameters():\n",
        "          param.requires_grad = False\n",
        "\n",
        "        #Number of features in output from the transformer\n",
        "        self.embedding_dim = self.transformer_model.config.hidden_size\n",
        "\n",
        "        #Additive feature to represent where is a predicate\n",
        "        self.add_features = 0\n",
        "\n",
        "        #BiLSTM layer\n",
        "        self.lstm = nn.LSTM(self.embedding_dim+self.add_features, n_hidden, bidirectional=True, num_layers = 2, dropout=0.3, batch_first = True)\n",
        "\n",
        "        #Linear classifier\n",
        "        self.hidden1 = torch.nn.Linear(2*n_hidden, n_hidden)\n",
        "        self.hidden2 = torch.nn.Linear(n_hidden, classes)\n",
        "\n",
        "    def forward(self, input: torch.Tensor = None, index=None, lenghts=None):\n",
        "\n",
        "        out = self.transformer_model(**input)\n",
        "        out = torch.stack(out.hidden_states[-4:], dim=0).mean(dim=0)\n",
        "        out, _ = self.lstm(out)\n",
        "\n",
        "        new_out = []\n",
        "\n",
        "        for output,mask,i,l in zip(out,input[\"attention_mask\"],index,lenghts):\n",
        "          #take the representation without pad\n",
        "\n",
        "          new_representation = []\n",
        "          for o,m in zip(output,mask):\n",
        "            if m == 1:\n",
        "              new_representation.append(o)\n",
        "\n",
        "          #o1 = torch.stack(new_representation[-l:-1]) #to take the entity concatenated at the end (may be more tokens)\n",
        "          #o2 = new_representation[-l-2] #to take the pronoun concatenated at the end (one token)\n",
        "\n",
        "          i1 = i[0] #index of entity\n",
        "          i2 = i[1] #index of pronoun\n",
        "\n",
        "          #Entity: if the index is found, take the mean of entity tokens\n",
        "          if i1 is not None:\n",
        "            if l>1:\n",
        "              o1 = torch.stack(new_representation[i1:i1+l])\n",
        "              o1 = torch.mean(o1)\n",
        "            else:\n",
        "              o1 = new_representation[i1]\n",
        "          #otherwise take the mean of all words of the text\n",
        "          else:\n",
        "            o1 = torch.mean(output, -2)\n",
        "\n",
        "          #Pronoun: if the index is found, take the correspondet token\n",
        "          if i2 is not None:\n",
        "            o2 = new_representation[i2]\n",
        "          else:\n",
        "            #otherwise take the mean of all words of the text\n",
        "            o2 = torch.mean(output, -2)\n",
        "\n",
        "          #take the sum between pronoun and entity\n",
        "          new_out.append((o1+o2))\n",
        "\n",
        "        #transform list in tensor\n",
        "        new_out = torch.stack(new_out)\n",
        "\n",
        "        #classification\n",
        "        out = self.hidden1(new_out)\n",
        "        out = torch.relu(out)\n",
        "        out = nn.Dropout(0.3)(out)\n",
        "        out = self.hidden2(out)\n",
        "\n",
        "        #activation function\n",
        "        out = torch.sigmoid(out)\n",
        "        \n",
        "        return out.squeeze(-1)"
      ],
      "metadata": {
        "id": "hKNnyielfu60"
      },
      "execution_count": null,
      "outputs": []
    },
    {
      "cell_type": "markdown",
      "source": [
        "###Training and test 1\n",
        "\n",
        "* Batch size used: 32\n",
        "* Epochs of training: 10\n",
        "* Loss function: MSE\n",
        "* Activation function: sigmoid\n",
        "* 2 BiLSTM layer\n",
        "* 2 linear layer of the classifier\n",
        "* Transformer \"bert-base-cased\" not finetuned\n",
        "* Adam Optimizer\n",
        "* Data: \"[CLS] text [SEP] pronoun [SEP] entity [SEP]\" -> mean of all words"
      ],
      "metadata": {
        "id": "6i5z2Ewrg6_O"
      }
    },
    {
      "cell_type": "code",
      "source": [
        "#HYPERPARAMETERS\n",
        "N_HIDDEN = 200\n",
        "N_CLASSES = 1\n",
        "EPOCHS = 10\n",
        "LOSS = nn.MSELoss()"
      ],
      "metadata": {
        "id": "A55puTd6g92O"
      },
      "execution_count": null,
      "outputs": []
    },
    {
      "cell_type": "code",
      "source": [
        "#instance of the model and optimizer\n",
        "device = \"cuda\" if torch.cuda.is_available() else \"cpu\"\n",
        "model = ConferenceResolution(N_HIDDEN,N_CLASSES)\n",
        "model.to(device)\n",
        "optimizer = torch.optim.Adam(model.parameters())"
      ],
      "metadata": {
        "colab": {
          "base_uri": "https://localhost:8080/"
        },
        "id": "VRw_LM19g-3A",
        "outputId": "63fdb148-a405-46f1-d5d2-28a525765486"
      },
      "execution_count": null,
      "outputs": [
        {
          "output_type": "stream",
          "name": "stderr",
          "text": [
            "Some weights of the model checkpoint at bert-base-cased were not used when initializing BertModel: ['cls.seq_relationship.weight', 'cls.predictions.transform.dense.weight', 'cls.predictions.transform.LayerNorm.weight', 'cls.seq_relationship.bias', 'cls.predictions.decoder.weight', 'cls.predictions.transform.LayerNorm.bias', 'cls.predictions.transform.dense.bias', 'cls.predictions.bias']\n",
            "- This IS expected if you are initializing BertModel from the checkpoint of a model trained on another task or with another architecture (e.g. initializing a BertForSequenceClassification model from a BertForPreTraining model).\n",
            "- This IS NOT expected if you are initializing BertModel from the checkpoint of a model that you expect to be exactly identical (initializing a BertForSequenceClassification model from a BertForSequenceClassification model).\n"
          ]
        }
      ]
    },
    {
      "cell_type": "code",
      "source": [
        "#Train the model\n",
        "model.train()\n",
        "loss_train, loss_val = train(model, optimizer, dataset_train, dataset_val, LOSS, N_CLASSES, EPOCHS)"
      ],
      "metadata": {
        "colab": {
          "base_uri": "https://localhost:8080/"
        },
        "id": "2osdSuSzUoYL",
        "outputId": "ebb4d8ee-e736-4f3a-eafa-a95bec16ae26"
      },
      "execution_count": null,
      "outputs": [
        {
          "output_type": "stream",
          "name": "stdout",
          "text": [
            "\n",
            "epoch: 1/10\n",
            "Training...\n",
            "Train Loss: 0.24810231578420605\n",
            "Validating...\n",
            "Validation Loss: 0.2498347853359423\n",
            "\n",
            "\n",
            "epoch: 2/10\n",
            "Training...\n",
            "Train Loss: 0.239411936973679\n",
            "Validating...\n",
            "Validation Loss: 0.2116697195329164\n",
            "\n",
            "\n",
            "epoch: 3/10\n",
            "Training...\n",
            "Train Loss: 0.20296775412982737\n",
            "Validating...\n",
            "Validation Loss: 0.19832512187330345\n",
            "\n",
            "\n",
            "epoch: 4/10\n",
            "Training...\n",
            "Train Loss: 0.18721415446354792\n",
            "Validating...\n",
            "Validation Loss: 0.1869323990846935\n",
            "\n",
            "\n",
            "epoch: 5/10\n",
            "Training...\n",
            "Train Loss: 0.18025011525175275\n",
            "Validating...\n",
            "Validation Loss: 0.20054375262636887\n",
            "\n",
            "\n",
            "epoch: 6/10\n",
            "Training...\n",
            "Train Loss: 0.1736360864173731\n",
            "Validating...\n",
            "Validation Loss: 0.18034412633431585\n",
            "\n",
            "\n",
            "epoch: 7/10\n",
            "Training...\n",
            "Train Loss: 0.1657057465357188\n",
            "Validating...\n",
            "Validation Loss: 0.1847922096126958\n",
            "\n",
            "\n",
            "epoch: 8/10\n",
            "Training...\n",
            "Train Loss: 0.15986354724013593\n",
            "Validating...\n",
            "Validation Loss: 0.18135436741929306\n",
            "\n",
            "\n",
            "epoch: 9/10\n",
            "Training...\n",
            "Train Loss: 0.15221499166721422\n",
            "Validating...\n",
            "Validation Loss: 0.17778472680794566\n",
            "\n",
            "\n",
            "epoch: 10/10\n",
            "Training...\n",
            "Train Loss: 0.1459514568366948\n",
            "Validating...\n",
            "Validation Loss: 0.199807744277151\n",
            "\n"
          ]
        }
      ]
    },
    {
      "cell_type": "code",
      "source": [
        "#Test the model\n",
        "model.eval()\n",
        "true, predictions = test(model, dataset_dev)"
      ],
      "metadata": {
        "colab": {
          "base_uri": "https://localhost:8080/"
        },
        "id": "8jmOvRkKbye0",
        "outputId": "9054a365-41bb-484d-8274-26d58cc7f39e"
      },
      "execution_count": null,
      "outputs": [
        {
          "output_type": "stream",
          "name": "stdout",
          "text": [
            "Identified correctly: 643\n",
            "Tot: 908\n",
            "# Precision: 0.6320\n",
            "# Recall: 0.7755\n",
            "# F1: 0.6964\n",
            "# accuracy: 0.7081\n"
          ]
        }
      ]
    },
    {
      "cell_type": "code",
      "source": [
        "plot_train_trend(loss_train, loss_val, \"Conference Resolution\")"
      ],
      "metadata": {
        "colab": {
          "base_uri": "https://localhost:8080/",
          "height": 295
        },
        "id": "Zhjh6cJ8aqa8",
        "outputId": "5bb96195-e12d-43dd-df25-ccec5c0eb273"
      },
      "execution_count": null,
      "outputs": [
        {
          "output_type": "display_data",
          "data": {
            "text/plain": [
              "<Figure size 432x288 with 1 Axes>"
            ],
            "image/png": "[encoded data removed]"
          },
          "metadata": {
            "needs_background": "light"
          }
        }
      ]
    },
    {
      "cell_type": "code",
      "source": [
        "#TO SAVE A MODEL\n",
        "pth_model = \"/content/drive/MyDrive/modelConfResSecondTry.pt\"\n",
        "torch.save(model, pth_model, pickle_protocol=4)"
      ],
      "metadata": {
        "id": "bp48vYOcObKz"
      },
      "execution_count": null,
      "outputs": []
    },
    {
      "cell_type": "markdown",
      "source": [
        "###Training and test 2\n",
        "\n",
        "* Batch size used: 32\n",
        "* Epochs of training: 10\n",
        "* Loss function: MSE\n",
        "* Activation function: sigmoid\n",
        "* 2 BiLSTM layer\n",
        "* 2 linear layer of the classifier\n",
        "* Transformer \"bert-base-cased\" not finetuned\n",
        "* Adam Optimizer\n",
        "* Data: \"[CLS] text [SEP] pronoun [SEP] entity [SEP]\" taking only pronoun+entity"
      ],
      "metadata": {
        "id": "61rIhkfRsNWb"
      }
    },
    {
      "cell_type": "code",
      "source": [
        "#HYPERPARAMETERS\n",
        "N_HIDDEN = 200\n",
        "N_CLASSES = 1\n",
        "EPOCHS = 10\n",
        "LOSS = nn.MSELoss()"
      ],
      "metadata": {
        "id": "baG1OjmQsMHS"
      },
      "execution_count": null,
      "outputs": []
    },
    {
      "cell_type": "code",
      "source": [
        "#instance of the model and optimizer\n",
        "device = \"cuda\" if torch.cuda.is_available() else \"cpu\"\n",
        "model2 = ConferenceResolution(N_HIDDEN,N_CLASSES)\n",
        "model2.to(device)\n",
        "optimizer = torch.optim.Adam(model2.parameters())"
      ],
      "metadata": {
        "colab": {
          "base_uri": "https://localhost:8080/"
        },
        "id": "9LLno90HslQ_",
        "outputId": "5c7274c8-d559-4da9-d06f-ba321d8dce37"
      },
      "execution_count": null,
      "outputs": [
        {
          "output_type": "stream",
          "name": "stderr",
          "text": [
            "Some weights of the model checkpoint at bert-base-cased were not used when initializing BertModel: ['cls.seq_relationship.weight', 'cls.predictions.transform.dense.weight', 'cls.predictions.transform.LayerNorm.weight', 'cls.seq_relationship.bias', 'cls.predictions.decoder.weight', 'cls.predictions.transform.LayerNorm.bias', 'cls.predictions.transform.dense.bias', 'cls.predictions.bias']\n",
            "- This IS expected if you are initializing BertModel from the checkpoint of a model trained on another task or with another architecture (e.g. initializing a BertForSequenceClassification model from a BertForPreTraining model).\n",
            "- This IS NOT expected if you are initializing BertModel from the checkpoint of a model that you expect to be exactly identical (initializing a BertForSequenceClassification model from a BertForSequenceClassification model).\n"
          ]
        }
      ]
    },
    {
      "cell_type": "code",
      "source": [
        "#Train the model\n",
        "model2.train()\n",
        "loss_train, loss_val = train(model2, optimizer, dataset_train, dataset_val, LOSS, N_CLASSES, EPOCHS)"
      ],
      "metadata": {
        "colab": {
          "base_uri": "https://localhost:8080/"
        },
        "id": "P5MjB-kjspMD",
        "outputId": "b29ec131-7c21-48d3-d30d-c8e42967443c"
      },
      "execution_count": null,
      "outputs": [
        {
          "output_type": "stream",
          "name": "stdout",
          "text": [
            "\n",
            "epoch: 1/10\n",
            "Training...\n",
            "Train Loss: 0.2167968223609868\n",
            "Validating...\n",
            "Validation Loss: 0.18908646624339254\n",
            "\n",
            "\n",
            "epoch: 2/10\n",
            "Training...\n",
            "Train Loss: 0.1859327561756563\n",
            "Validating...\n",
            "Validation Loss: 0.18521500025924884\n",
            "\n",
            "\n",
            "epoch: 3/10\n",
            "Training...\n",
            "Train Loss: 0.1770631075346258\n",
            "Validating...\n",
            "Validation Loss: 0.17388791120366046\n",
            "\n",
            "\n",
            "epoch: 4/10\n",
            "Training...\n",
            "Train Loss: 0.16567896747377497\n",
            "Validating...\n",
            "Validation Loss: 0.1907833351900703\n",
            "\n",
            "\n",
            "epoch: 5/10\n",
            "Training...\n",
            "Train Loss: 0.15581442539155835\n",
            "Validating...\n",
            "Validation Loss: 0.18082314415981895\n",
            "\n",
            "\n",
            "epoch: 6/10\n",
            "Training...\n",
            "Train Loss: 0.1481353002187063\n",
            "Validating...\n",
            "Validation Loss: 0.18404228710814527\n",
            "\n",
            "\n",
            "epoch: 7/10\n",
            "Training...\n",
            "Train Loss: 0.13467176188025953\n",
            "Validating...\n",
            "Validation Loss: 0.20502103708292307\n",
            "\n",
            "\n",
            "epoch: 8/10\n",
            "Training...\n",
            "Train Loss: 0.12317386679571761\n",
            "Validating...\n",
            "Validation Loss: 0.19956420205141367\n",
            "\n",
            "\n",
            "epoch: 9/10\n",
            "Training...\n",
            "Train Loss: 0.11124613565894273\n",
            "Validating...\n",
            "Validation Loss: 0.20782892523627533\n",
            "\n",
            "\n",
            "epoch: 10/10\n",
            "Training...\n",
            "Train Loss: 0.09897199247759828\n",
            "Validating...\n",
            "Validation Loss: 0.21213437695252269\n",
            "\n"
          ]
        }
      ]
    },
    {
      "cell_type": "code",
      "source": [
        "#Test the model\n",
        "model2.eval()\n",
        "true, predictions = test(model2, dataset_dev)"
      ],
      "metadata": {
        "colab": {
          "base_uri": "https://localhost:8080/"
        },
        "id": "nip5mu2Xw1XQ",
        "outputId": "6f0cf7ff-ed75-4150-ed4c-d93633e72434"
      },
      "execution_count": null,
      "outputs": [
        {
          "output_type": "stream",
          "name": "stdout",
          "text": [
            "Identified correctly: 617\n",
            "Tot: 908\n",
            "# Precision: 0.6253\n",
            "# Recall: 0.6429\n",
            "# F1: 0.6340\n",
            "# accuracy: 0.6795\n"
          ]
        }
      ]
    },
    {
      "cell_type": "code",
      "source": [
        "plot_train_trend(loss_train, loss_val, \"Conference Resolution\")"
      ],
      "metadata": {
        "colab": {
          "base_uri": "https://localhost:8080/",
          "height": 295
        },
        "id": "2ZxNFGXI3OPU",
        "outputId": "d7783cde-453e-49c3-927d-03e4a2e4237d"
      },
      "execution_count": null,
      "outputs": [
        {
          "output_type": "display_data",
          "data": {
            "text/plain": [
              "<Figure size 432x288 with 1 Axes>"
            ],
            "image/png": "[encoded data removed]"
          },
          "metadata": {
            "needs_background": "light"
          }
        }
      ]
    },
    {
      "cell_type": "markdown",
      "source": [
        "###Training and test 3\n",
        "\n",
        "* Batch size used: 32\n",
        "* Epochs of training: 10\n",
        "* Loss function: MSE\n",
        "* Activation function: sigmoid\n",
        "* 2 BiLSTM layer\n",
        "* 2 linear layer of the classifier\n",
        "* Transformer \"bert-base-cased\" not finetuned\n",
        "* Adam Optimizer\n",
        "* Data: \"text_tokens [SEP] pronoun [SEP] entity \" taking only pronoun+entity from tokens in the text\n",
        "* **OSS.:** this block contain a confusion matrix"
      ],
      "metadata": {
        "id": "xWbr2eYS47Yy"
      }
    },
    {
      "cell_type": "code",
      "source": [
        "#HYPERPARAMETERS\n",
        "N_HIDDEN = 200\n",
        "N_CLASSES = 1\n",
        "EPOCHS = 10\n",
        "LOSS = nn.MSELoss()"
      ],
      "metadata": {
        "id": "HmIF0givbndT"
      },
      "execution_count": null,
      "outputs": []
    },
    {
      "cell_type": "code",
      "source": [
        "#instance of the model and optimizer\n",
        "device = \"cuda\" if torch.cuda.is_available() else \"cpu\"\n",
        "model3 = ConferenceResolution(N_HIDDEN,N_CLASSES)\n",
        "model3.to(device)\n",
        "optimizer = torch.optim.Adam(model3.parameters())"
      ],
      "metadata": {
        "colab": {
          "base_uri": "https://localhost:8080/",
          "height": 120,
          "referenced_widgets": [
            "e68a5b3339f4472e9e9555d4902d9fa1",
            "3b37c4a0f3424a2bbf4bec6c9a47c391",
            "fe6daf60156d469f941c443bbc105ad6",
            "d0971ec19ecd49e1990f14c04db6b608",
            "5790d654ff0940a78d1befa24c0c383f",
            "43ae8d3574ed4438bbc70f1f2837ba7b",
            "228988b0bbcb48d9aa1f50a55865e21e",
            "de43ed0ea18f43c7a0750d7fd0a15c27",
            "e02a6490b4b94624a8f319848b3c2554",
            "460f4b97c6f349c58ebd5f0d42a27462",
            "5d479dfc5c1445ee988c8bfc62bbc9b8"
          ]
        },
        "id": "QNCznZHx4-Uu",
        "outputId": "ba7287e0-86dd-419b-8f61-98d21180786b"
      },
      "execution_count": null,
      "outputs": [
        {
          "output_type": "display_data",
          "data": {
            "text/plain": [
              "Downloading (…)\"pytorch_model.bin\";:   0%|          | 0.00/501M [00:00<?, ?B/s]"
            ],
            "application/vnd.jupyter.widget-view+json": {
              "version_major": 2,
              "version_minor": 0,
              "model_id": "e68a5b3339f4472e9e9555d4902d9fa1"
            }
          },
          "metadata": {}
        },
        {
          "output_type": "stream",
          "name": "stderr",
          "text": [
            "Some weights of the model checkpoint at roberta-base were not used when initializing RobertaModel: ['lm_head.dense.bias', 'lm_head.layer_norm.bias', 'lm_head.layer_norm.weight', 'lm_head.bias', 'lm_head.decoder.weight', 'lm_head.dense.weight']\n",
            "- This IS expected if you are initializing RobertaModel from the checkpoint of a model trained on another task or with another architecture (e.g. initializing a BertForSequenceClassification model from a BertForPreTraining model).\n",
            "- This IS NOT expected if you are initializing RobertaModel from the checkpoint of a model that you expect to be exactly identical (initializing a BertForSequenceClassification model from a BertForSequenceClassification model).\n"
          ]
        }
      ]
    },
    {
      "cell_type": "code",
      "source": [
        "#Train the model\n",
        "model.train()\n",
        "loss_train, loss_val = train(model, optimizer, dataset_train, dataset_val, LOSS, N_CLASSES, EPOCHS)"
      ],
      "metadata": {
        "colab": {
          "base_uri": "https://localhost:8080/"
        },
        "id": "u9W_Uhh04-pi",
        "outputId": "bf426739-800d-41c2-a8b7-e47b65480752"
      },
      "execution_count": null,
      "outputs": [
        {
          "output_type": "stream",
          "name": "stdout",
          "text": [
            "\n",
            "epoch: 1/10\n",
            "Training...\n",
            "Train Loss: 0.21444240913412274\n",
            "Validating...\n",
            "Validation Loss: 0.14677627737584867\n",
            "\n",
            "\n",
            "epoch: 2/10\n",
            "Training...\n",
            "Train Loss: 0.14358995951844392\n",
            "Validating...\n",
            "Validation Loss: 0.15284436078448044\n",
            "\n",
            "\n",
            "epoch: 3/10\n",
            "Training...\n",
            "Train Loss: 0.11262605134287529\n",
            "Validating...\n",
            "Validation Loss: 0.1330234596603795\n",
            "\n",
            "\n",
            "epoch: 4/10\n",
            "Training...\n",
            "Train Loss: 0.07918652560363507\n",
            "Validating...\n",
            "Validation Loss: 0.13865962193200462\n",
            "\n",
            "\n",
            "epoch: 5/10\n",
            "Training...\n",
            "Train Loss: 0.05994886413392936\n",
            "Validating...\n",
            "Validation Loss: 0.1407509444183425\n",
            "\n",
            "\n",
            "epoch: 6/10\n",
            "Training...\n",
            "Train Loss: 0.03809530271069814\n",
            "Validating...\n",
            "Validation Loss: 0.13812515414074847\n",
            "\n",
            "\n",
            "epoch: 7/10\n",
            "Training...\n",
            "Train Loss: 0.030066113582646582\n",
            "Validating...\n",
            "Validation Loss: 0.14090773698530698\n",
            "\n",
            "\n",
            "epoch: 8/10\n",
            "Training...\n",
            "Train Loss: 0.024640372685399925\n",
            "Validating...\n",
            "Validation Loss: 0.1277250424027443\n",
            "\n",
            "\n",
            "epoch: 9/10\n",
            "Training...\n",
            "Train Loss: 0.02299232282349461\n",
            "Validating...\n",
            "Validation Loss: 0.1298167310459049\n",
            "\n",
            "\n",
            "epoch: 10/10\n",
            "Training...\n",
            "Train Loss: 0.01761415533492362\n",
            "Validating...\n",
            "Validation Loss: 0.1339019478151673\n",
            "\n"
          ]
        }
      ]
    },
    {
      "cell_type": "code",
      "source": [
        "#Test the model\n",
        "model3.eval()\n",
        "true, predictions = test(model3, dataset_dev)"
      ],
      "metadata": {
        "id": "lfNS9d9BWBtN",
        "colab": {
          "base_uri": "https://localhost:8080/"
        },
        "outputId": "3f9ab22b-4829-4c49-d693-dc3b1e5a0790"
      },
      "execution_count": null,
      "outputs": [
        {
          "output_type": "stream",
          "name": "stdout",
          "text": [
            "Identified correctly: 733\n",
            "Tot: 908\n",
            "# Precision: 0.7494\n",
            "# Recall: 0.8316\n",
            "# F1: 0.7884\n",
            "# accuracy: 0.8073\n"
          ]
        }
      ]
    },
    {
      "cell_type": "code",
      "source": [
        "#TO SAVE A MODEL\n",
        "pth_model = \"/content/drive/MyDrive/modelEntRes.pt\"\n",
        "torch.save(model, pth_model, pickle_protocol=4)"
      ],
      "metadata": {
        "id": "HB0SOf0YhFiT"
      },
      "execution_count": null,
      "outputs": []
    },
    {
      "cell_type": "code",
      "source": [
        "plot_train_trend(loss_train, loss_val, \"Conference Resolution\")"
      ],
      "metadata": {
        "colab": {
          "base_uri": "https://localhost:8080/",
          "height": 295
        },
        "id": "OwALh9FDbU30",
        "outputId": "f9a1b491-01a9-4312-dc2d-fe8944502987"
      },
      "execution_count": null,
      "outputs": [
        {
          "output_type": "display_data",
          "data": {
            "text/plain": [
              "<Figure size 432x288 with 1 Axes>"
            ],
            "image/png": "[encoded data removed]"
          },
          "metadata": {
            "needs_background": "light"
          }
        }
      ]
    },
    {
      "cell_type": "code",
      "source": [
        "#confusion matrix\n",
        "plot_confusion_matrix(np.array(true), np.array(predictions), ['True','False'])"
      ],
      "metadata": {
        "colab": {
          "base_uri": "https://localhost:8080/",
          "height": 530
        },
        "id": "4rLATwEK_bWP",
        "outputId": "9e1753cf-4a24-493c-8048-5cc4be8fafac"
      },
      "execution_count": null,
      "outputs": [
        {
          "output_type": "stream",
          "name": "stdout",
          "text": [
            "Confusion Matrix\n"
          ]
        },
        {
          "output_type": "display_data",
          "data": {
            "text/plain": [
              "<Figure size 504x504 with 2 Axes>"
            ],
            "image/png": "[encoded data removed]"
          },
          "metadata": {
            "needs_background": "light"
          }
        }
      ]
    },
    {
      "cell_type": "markdown",
      "source": [
        "Using Binary Cross Entropy loss"
      ],
      "metadata": {
        "id": "pgiXNEFW7SeO"
      }
    },
    {
      "cell_type": "code",
      "source": [
        "#HYPERPARAMETERS\n",
        "N_HIDDEN = 200\n",
        "N_CLASSES = 1\n",
        "EPOCHS = 10\n",
        "LOSS = nn.BCELoss()"
      ],
      "metadata": {
        "id": "oYiFQ92L7zWO"
      },
      "execution_count": null,
      "outputs": []
    },
    {
      "cell_type": "code",
      "source": [
        "#instance of the model and optimizer\n",
        "device = \"cuda\" if torch.cuda.is_available() else \"cpu\"\n",
        "model3 = ConferenceResolution(N_HIDDEN,N_CLASSES)\n",
        "model3.to(device)\n",
        "optimizer = torch.optim.Adam(model3.parameters())"
      ],
      "metadata": {
        "id": "7XaJQT_-735L"
      },
      "execution_count": null,
      "outputs": []
    },
    {
      "cell_type": "code",
      "source": [
        "#Train the model\n",
        "model3.train()\n",
        "loss_train, loss_val = train(model3, optimizer, dataset_train, dataset_val, LOSS, N_CLASSES, EPOCHS)"
      ],
      "metadata": {
        "colab": {
          "base_uri": "https://localhost:8080/"
        },
        "id": "DmjeXwys3Ysu",
        "outputId": "24f7155e-4e47-4cfe-83db-69b9d039090e"
      },
      "execution_count": null,
      "outputs": [
        {
          "output_type": "stream",
          "name": "stdout",
          "text": [
            "\n",
            "epoch: 1/10\n",
            "Training...\n",
            "Train Loss: 0.5780162326330264\n",
            "Validating...\n",
            "Validation Loss: 0.44612092877689163\n",
            "\n",
            "\n",
            "epoch: 2/10\n",
            "Training...\n",
            "Train Loss: 0.4181030126365684\n",
            "Validating...\n",
            "Validation Loss: 0.4293195228827627\n",
            "\n",
            "\n",
            "epoch: 3/10\n",
            "Training...\n",
            "Train Loss: 0.3421636832183635\n",
            "Validating...\n",
            "Validation Loss: 0.43285376460928665\n",
            "\n",
            "\n",
            "epoch: 4/10\n",
            "Training...\n",
            "Train Loss: 0.2472438602405187\n",
            "Validating...\n",
            "Validation Loss: 0.5305362908463729\n",
            "\n",
            "\n",
            "epoch: 5/10\n",
            "Training...\n",
            "Train Loss: 0.1812524793327913\n",
            "Validating...\n",
            "Validation Loss: 0.49855580141669825\n",
            "\n",
            "\n",
            "epoch: 6/10\n",
            "Training...\n",
            "Train Loss: 0.11443329331349339\n",
            "Validating...\n",
            "Validation Loss: 0.5585901423504478\n",
            "\n",
            "\n",
            "epoch: 7/10\n",
            "Training...\n",
            "Train Loss: 0.0864359118463196\n",
            "Validating...\n",
            "Validation Loss: 0.6868022382259369\n",
            "\n",
            "\n",
            "epoch: 8/10\n",
            "Training...\n",
            "Train Loss: 0.05769970989717204\n",
            "Validating...\n",
            "Validation Loss: 0.6840160912589023\n",
            "\n",
            "\n",
            "epoch: 9/10\n",
            "Training...\n",
            "Train Loss: 0.05007865004304841\n",
            "Validating...\n",
            "Validation Loss: 0.6724769147603136\n",
            "\n"
          ]
        }
      ]
    },
    {
      "cell_type": "code",
      "source": [
        "#Test the model# last tokens of sentence (summed) and data with organize_data\n",
        "model3.eval()\n",
        "true, predictions = test(model3, dataset_dev)"
      ],
      "metadata": {
        "colab": {
          "base_uri": "https://localhost:8080/"
        },
        "id": "yza-Uikc5X8B",
        "outputId": "5e2987b0-0b9b-40f6-8b13-c0df23eda1e9"
      },
      "execution_count": null,
      "outputs": [
        {
          "output_type": "stream",
          "name": "stdout",
          "text": [
            "Identified correctly: 711\n",
            "Tot: 908\n",
            "# Precision: 0.7546\n",
            "# Recall: 0.7372\n",
            "# F1: 0.7458\n",
            "# accuracy: 0.7830\n"
          ]
        }
      ]
    },
    {
      "cell_type": "code",
      "source": [
        "plot_train_trend(loss_train, loss_val, \"Conference Resolution\")"
      ],
      "metadata": {
        "colab": {
          "base_uri": "https://localhost:8080/",
          "height": 295
        },
        "id": "9Wvlh_vE7Oqm",
        "outputId": "9b030ba4-9046-4e8a-f68f-79f179b24bc4"
      },
      "execution_count": null,
      "outputs": [
        {
          "output_type": "display_data",
          "data": {
            "text/plain": [
              "<Figure size 432x288 with 1 Axes>"
            ],
            "image/png": "[encoded data removed]"
          },
          "metadata": {
            "needs_background": "light"
          }
        }
      ]
    },
    {
      "cell_type": "markdown",
      "source": [
        "###Training and test 4\n",
        "\n",
        "* Batch size used: 32\n",
        "* Epochs of training: 10\n",
        "* Loss function: MSE\n",
        "* Activation function: sigmoid\n",
        "* 2 BiLSTM layer\n",
        "* 2 linear layer of the classifier\n",
        "* Transformer \"bert-base-cased\" finetuned\n",
        "* Adam Optimizer\n",
        "* Data: \"text_tokens\" taking only pronoun+entity from tokens in the text"
      ],
      "metadata": {
        "id": "l9eTD_sU9SaU"
      }
    },
    {
      "cell_type": "code",
      "source": [
        "#HYPERPARAMETERS\n",
        "N_HIDDEN = 200\n",
        "N_CLASSES = 1\n",
        "EPOCHS = 10\n",
        "LOSS = nn.MSELoss()"
      ],
      "metadata": {
        "id": "c-THh3LZI5YU"
      },
      "execution_count": null,
      "outputs": []
    },
    {
      "cell_type": "code",
      "source": [
        "#instance of the model and optimizer\n",
        "device = \"cuda\" if torch.cuda.is_available() else \"cpu\"\n",
        "model4 = ConferenceResolution(N_HIDDEN,N_CLASSES)\n",
        "model4.to(device)\n",
        "optimizer = torch.optim.Adam(model4.parameters())"
      ],
      "metadata": {
        "colab": {
          "base_uri": "https://localhost:8080/"
        },
        "id": "DfdEU_Ho9VtT",
        "outputId": "03f1a90f-5ab9-4103-fc40-13d9bc6f1f5e"
      },
      "execution_count": null,
      "outputs": [
        {
          "output_type": "stream",
          "name": "stderr",
          "text": [
            "Some weights of the model checkpoint at bert-base-cased were not used when initializing BertModel: ['cls.predictions.transform.dense.bias', 'cls.predictions.transform.LayerNorm.bias', 'cls.seq_relationship.bias', 'cls.predictions.transform.dense.weight', 'cls.predictions.decoder.weight', 'cls.seq_relationship.weight', 'cls.predictions.bias', 'cls.predictions.transform.LayerNorm.weight']\n",
            "- This IS expected if you are initializing BertModel from the checkpoint of a model trained on another task or with another architecture (e.g. initializing a BertForSequenceClassification model from a BertForPreTraining model).\n",
            "- This IS NOT expected if you are initializing BertModel from the checkpoint of a model that you expect to be exactly identical (initializing a BertForSequenceClassification model from a BertForSequenceClassification model).\n"
          ]
        }
      ]
    },
    {
      "cell_type": "code",
      "source": [
        "#Train the model\n",
        "model4.train()\n",
        "loss_train, loss_val = train(model4, optimizer, dataset_train, dataset_val, LOSS, N_CLASSES, EPOCHS)"
      ],
      "metadata": {
        "colab": {
          "base_uri": "https://localhost:8080/"
        },
        "id": "lGdx3E5z_xMt",
        "outputId": "34904360-a845-4806-803b-5618de74b344"
      },
      "execution_count": null,
      "outputs": [
        {
          "output_type": "stream",
          "name": "stdout",
          "text": [
            "\n",
            "epoch: 1/10\n",
            "Training...\n",
            "Train Loss: 0.2213997750945345\n",
            "Validating...\n",
            "Validation Loss: 0.14989211410284042\n",
            "\n",
            "\n",
            "epoch: 2/10\n",
            "Training...\n",
            "Train Loss: 0.1469475185862307\n",
            "Validating...\n",
            "Validation Loss: 0.1548485963752395\n",
            "\n",
            "\n",
            "epoch: 3/10\n",
            "Training...\n",
            "Train Loss: 0.12792487285987159\n",
            "Validating...\n",
            "Validation Loss: 0.15461798325965279\n",
            "\n",
            "\n",
            "epoch: 4/10\n",
            "Training...\n",
            "Train Loss: 0.11057038131285701\n",
            "Validating...\n",
            "Validation Loss: 0.14223242472661168\n",
            "\n",
            "\n",
            "epoch: 5/10\n",
            "Training...\n",
            "Train Loss: 0.08937540842143037\n",
            "Validating...\n",
            "Validation Loss: 0.15018846055394725\n",
            "\n",
            "\n",
            "epoch: 6/10\n",
            "Training...\n",
            "Train Loss: 0.07560020873664751\n",
            "Validating...\n",
            "Validation Loss: 0.14246369388542676\n",
            "\n",
            "\n",
            "epoch: 7/10\n",
            "Training...\n",
            "Train Loss: 0.05456005822944306\n",
            "Validating...\n",
            "Validation Loss: 0.14461038457719902\n",
            "\n",
            "\n",
            "epoch: 8/10\n",
            "Training...\n",
            "Train Loss: 0.04472416844604724\n",
            "Validating...\n",
            "Validation Loss: 0.1519791440744149\n",
            "\n",
            "\n",
            "epoch: 9/10\n",
            "Training...\n",
            "Train Loss: 0.037698515614401\n",
            "Validating...\n",
            "Validation Loss: 0.1515134757286624\n",
            "\n",
            "\n",
            "epoch: 10/10\n",
            "Training...\n",
            "Train Loss: 0.033796221086377906\n",
            "Validating...\n",
            "Validation Loss: 0.13791800133491816\n",
            "\n"
          ]
        }
      ]
    },
    {
      "cell_type": "code",
      "source": [
        "#Test the model\n",
        "model4.eval()\n",
        "true, predictions = test(model4, dataset_dev)"
      ],
      "metadata": {
        "colab": {
          "base_uri": "https://localhost:8080/"
        },
        "id": "_zs2pGNzBXCu",
        "outputId": "7349fa8e-1399-4dff-b6e3-55e6f490159c"
      },
      "execution_count": null,
      "outputs": [
        {
          "output_type": "stream",
          "name": "stdout",
          "text": [
            "Identified correctly: 705\n",
            "Tot: 908\n",
            "# Precision: 0.7632\n",
            "# Recall: 0.6990\n",
            "# F1: 0.7297\n",
            "# accuracy: 0.7764\n"
          ]
        }
      ]
    },
    {
      "cell_type": "code",
      "source": [
        "plot_train_trend(loss_train, loss_val, \"Conference Resolution\")"
      ],
      "metadata": {
        "colab": {
          "base_uri": "https://localhost:8080/",
          "height": 295
        },
        "id": "9siw8wRjA8Z3",
        "outputId": "10f37922-19ec-478d-e5d9-df0357954a89"
      },
      "execution_count": null,
      "outputs": [
        {
          "output_type": "display_data",
          "data": {
            "text/plain": [
              "<Figure size 432x288 with 1 Axes>"
            ],
            "image/png": "[encoded data removed]"
          },
          "metadata": {
            "needs_background": "light"
          }
        }
      ]
    },
    {
      "cell_type": "markdown",
      "source": [
        "###Test and training 5\n",
        "\n",
        "* Batch size used: 32\n",
        "* Epochs of training: 10\n",
        "* Loss function: MSE\n",
        "* Activation function: sigmoid\n",
        "* 2 BiLSTM layer\n",
        "* 2 linear layer of the classifier\n",
        "* Transformer \"bert-base-cased\", \"xml-roberta-base\" and \"roberta-base\" not finetuned\n",
        "* Adam Optimizer\n",
        "* Data: \"text_tokens\" taking only pronoun+entity from tokens in the text\n",
        "* Ensambling between the three models"
      ],
      "metadata": {
        "id": "JErt6Z85lT7n"
      }
    },
    {
      "cell_type": "code",
      "source": [
        "#HYPERPARAMETERS\n",
        "N_HIDDEN = 200\n",
        "N_CLASSES = 1\n",
        "EPOCHS = 10\n",
        "LOSS = nn.MSELoss()"
      ],
      "metadata": {
        "id": "ZrYhXGkqxnJi"
      },
      "execution_count": null,
      "outputs": []
    },
    {
      "cell_type": "code",
      "source": [
        "#instance of the model and optimizer\n",
        "device = \"cuda\" if torch.cuda.is_available() else \"cpu\"\n",
        "model = ConferenceResolution(N_HIDDEN,N_CLASSES,\"bert-base-cased\")\n",
        "model.to(device)\n",
        "optimizer = torch.optim.Adam(model.parameters())"
      ],
      "metadata": {
        "id": "MfZ39eE58_3n",
        "colab": {
          "base_uri": "https://localhost:8080/"
        },
        "outputId": "c61b23e0-72ef-4b1e-df64-7bdc2daa7890"
      },
      "execution_count": null,
      "outputs": [
        {
          "output_type": "stream",
          "name": "stderr",
          "text": [
            "Some weights of the model checkpoint at bert-base-cased were not used when initializing BertModel: ['cls.predictions.transform.LayerNorm.weight', 'cls.seq_relationship.bias', 'cls.seq_relationship.weight', 'cls.predictions.decoder.weight', 'cls.predictions.bias', 'cls.predictions.transform.LayerNorm.bias', 'cls.predictions.transform.dense.bias', 'cls.predictions.transform.dense.weight']\n",
            "- This IS expected if you are initializing BertModel from the checkpoint of a model trained on another task or with another architecture (e.g. initializing a BertForSequenceClassification model from a BertForPreTraining model).\n",
            "- This IS NOT expected if you are initializing BertModel from the checkpoint of a model that you expect to be exactly identical (initializing a BertForSequenceClassification model from a BertForSequenceClassification model).\n"
          ]
        }
      ]
    },
    {
      "cell_type": "code",
      "source": [
        "#Train the model\n",
        "model.train()\n",
        "loss_train, loss_val = train(model, optimizer, dataset_train, dataset_val, LOSS, N_CLASSES, EPOCHS)"
      ],
      "metadata": {
        "colab": {
          "base_uri": "https://localhost:8080/"
        },
        "id": "fcdSJ2WF6wv1",
        "outputId": "4ab5a9f8-3ff2-41da-d283-10a38f9d1d37"
      },
      "execution_count": null,
      "outputs": [
        {
          "output_type": "stream",
          "name": "stdout",
          "text": [
            "\n",
            "epoch: 1/10\n",
            "Training...\n",
            "Train Loss: 0.20023985405469083\n",
            "Validating...\n",
            "Validation Loss: 0.16143870667407387\n",
            "\n",
            "\n",
            "epoch: 2/10\n",
            "Training...\n",
            "Train Loss: 0.13869673130515764\n",
            "Validating...\n",
            "Validation Loss: 0.14382494044931313\n",
            "\n",
            "\n",
            "epoch: 3/10\n",
            "Training...\n",
            "Train Loss: 0.11021100187442712\n",
            "Validating...\n",
            "Validation Loss: 0.1395311822232447\n",
            "\n",
            "\n",
            "epoch: 4/10\n",
            "Training...\n",
            "Train Loss: 0.07787903918493429\n",
            "Validating...\n",
            "Validation Loss: 0.14423093670292905\n",
            "\n",
            "\n",
            "epoch: 5/10\n",
            "Training...\n",
            "Train Loss: 0.056998613147208325\n",
            "Validating...\n",
            "Validation Loss: 0.1420210864590971\n",
            "\n",
            "\n",
            "epoch: 6/10\n",
            "Training...\n",
            "Train Loss: 0.03842852178157842\n",
            "Validating...\n",
            "Validation Loss: 0.12903184424105443\n",
            "\n",
            "\n",
            "epoch: 7/10\n",
            "Training...\n",
            "Train Loss: 0.033525177664068366\n",
            "Validating...\n",
            "Validation Loss: 0.13170938938856125\n",
            "\n",
            "\n",
            "epoch: 8/10\n",
            "Training...\n",
            "Train Loss: 0.024528241818102585\n",
            "Validating...\n",
            "Validation Loss: 0.1386232830976185\n",
            "\n",
            "\n",
            "epoch: 9/10\n",
            "Training...\n",
            "Train Loss: 0.023122477710258063\n",
            "Validating...\n",
            "Validation Loss: 0.13407590201026515\n",
            "\n",
            "\n",
            "epoch: 10/10\n",
            "Training...\n",
            "Train Loss: 0.020517776675762822\n",
            "Validating...\n",
            "Validation Loss: 0.1344403757860786\n",
            "\n"
          ]
        }
      ]
    },
    {
      "cell_type": "code",
      "source": [
        "#Test the model# last tokens of sentence (summed) and data with organize_data\n",
        "model.eval()\n",
        "true, predictions = test(model, dataset_dev)"
      ],
      "metadata": {
        "colab": {
          "base_uri": "https://localhost:8080/"
        },
        "id": "XC7qid3CB2m0",
        "outputId": "31bff603-d5b2-43e9-ffa2-c33f0f4f021e"
      },
      "execution_count": null,
      "outputs": [
        {
          "output_type": "stream",
          "name": "stdout",
          "text": [
            "Identified correctly: 708\n",
            "Tot: 908\n",
            "# Precision: 0.7275\n",
            "# Recall: 0.7832\n",
            "# F1: 0.7543\n",
            "# accuracy: 0.7797\n"
          ]
        }
      ]
    },
    {
      "cell_type": "code",
      "source": [
        "#instance of the model and optimizer\n",
        "device = \"cuda\" if torch.cuda.is_available() else \"cpu\"\n",
        "model2 = ConferenceResolution(N_HIDDEN,N_CLASSES,device, language_model_name= \"xml-roberta-base\")\n",
        "model2.to(device)\n",
        "optimizer = torch.optim.Adam(model2.parameters())"
      ],
      "metadata": {
        "colab": {
          "base_uri": "https://localhost:8080/",
          "height": 120,
          "referenced_widgets": [
            "ee1650f459a043ce8782becad217d0ec",
            "65fc41f2863e481f98afa7043492113f",
            "72cf86a5148e445e8509c834454a83de",
            "9776be134f18468c844394845410c492",
            "90f229ee2a644a1c8a90f25dbba7da63",
            "49380ec07b9142408e3d9e3bf596674d",
            "a927e54f54b0499eb9c84d638a3a4ac0",
            "a27157cc46f049a2b59de7b82d9af172",
            "9981e7271fa84201b8d7e2deffdb9f80",
            "d6cf74bb7e114da594308413c16e13e1",
            "d37a00f8ed404864a49973af0540cf0b"
          ]
        },
        "id": "iWKCuhPMqFOT",
        "outputId": "b38427b0-6558-4b2b-dcf6-ba5f789807fa"
      },
      "execution_count": null,
      "outputs": [
        {
          "output_type": "display_data",
          "data": {
            "text/plain": [
              "Downloading (…)\"pytorch_model.bin\";:   0%|          | 0.00/1.12G [00:00<?, ?B/s]"
            ],
            "application/vnd.jupyter.widget-view+json": {
              "version_major": 2,
              "version_minor": 0,
              "model_id": "ee1650f459a043ce8782becad217d0ec"
            }
          },
          "metadata": {}
        },
        {
          "output_type": "stream",
          "name": "stderr",
          "text": [
            "Some weights of the model checkpoint at xlm-roberta-base were not used when initializing XLMRobertaModel: ['lm_head.bias', 'lm_head.layer_norm.weight', 'lm_head.layer_norm.bias', 'lm_head.decoder.weight', 'lm_head.dense.weight', 'lm_head.dense.bias']\n",
            "- This IS expected if you are initializing XLMRobertaModel from the checkpoint of a model trained on another task or with another architecture (e.g. initializing a BertForSequenceClassification model from a BertForPreTraining model).\n",
            "- This IS NOT expected if you are initializing XLMRobertaModel from the checkpoint of a model that you expect to be exactly identical (initializing a BertForSequenceClassification model from a BertForSequenceClassification model).\n"
          ]
        }
      ]
    },
    {
      "cell_type": "code",
      "source": [
        "#Train the model\n",
        "model2.train()\n",
        "loss_train, loss_val = train(model2, optimizer, dataset_train, dataset_val, LOSS, N_CLASSES, EPOCHS)"
      ],
      "metadata": {
        "colab": {
          "base_uri": "https://localhost:8080/"
        },
        "id": "eI2orEPuqDzq",
        "outputId": "bb524b60-0bae-403c-8dc0-11d070a3c601"
      },
      "execution_count": null,
      "outputs": [
        {
          "output_type": "stream",
          "name": "stdout",
          "text": [
            "\n",
            "epoch: 1/10\n",
            "Training...\n",
            "Train Loss: 0.2316726373850241\n",
            "Validating...\n",
            "Validation Loss: 0.17723819613456726\n",
            "\n",
            "\n",
            "epoch: 2/10\n",
            "Training...\n",
            "Train Loss: 0.1708575466857154\n",
            "Validating...\n",
            "Validation Loss: 0.15671936069664202\n",
            "\n",
            "\n",
            "epoch: 3/10\n",
            "Training...\n",
            "Train Loss: 0.1517278705916461\n",
            "Validating...\n",
            "Validation Loss: 0.15741826633089467\n",
            "\n",
            "\n",
            "epoch: 4/10\n",
            "Training...\n",
            "Train Loss: 0.13403884279569225\n",
            "Validating...\n",
            "Validation Loss: 0.16142763707198596\n",
            "\n",
            "\n",
            "epoch: 5/10\n",
            "Training...\n",
            "Train Loss: 0.11356375895484665\n",
            "Validating...\n",
            "Validation Loss: 0.15531204954573982\n",
            "\n",
            "\n",
            "epoch: 6/10\n",
            "Training...\n",
            "Train Loss: 0.09088485873684551\n",
            "Validating...\n",
            "Validation Loss: 0.1661473583233984\n",
            "\n",
            "\n",
            "epoch: 7/10\n",
            "Training...\n",
            "Train Loss: 0.07580088119755482\n",
            "Validating...\n",
            "Validation Loss: 0.14090513320345627\n",
            "\n",
            "\n",
            "epoch: 8/10\n",
            "Training...\n",
            "Train Loss: 0.05837358157122893\n",
            "Validating...\n",
            "Validation Loss: 0.16287757142593987\n",
            "\n",
            "\n",
            "epoch: 9/10\n",
            "Training...\n",
            "Train Loss: 0.04727389230103557\n",
            "Validating...\n",
            "Validation Loss: 0.17027811745279714\n",
            "\n",
            "\n",
            "epoch: 10/10\n",
            "Training...\n",
            "Train Loss: 0.034508214165289895\n",
            "Validating...\n",
            "Validation Loss: 0.16960541707904717\n",
            "\n"
          ]
        }
      ]
    },
    {
      "cell_type": "code",
      "source": [
        "#Test the model# last tokens of sentence (summed) and data with organize_data\n",
        "model2.eval()\n",
        "true, predictions = test(model2, dataset_dev)"
      ],
      "metadata": {
        "colab": {
          "base_uri": "https://localhost:8080/"
        },
        "id": "SmB8Hbc_qDbg",
        "outputId": "f9ae3e37-6f5c-472d-e824-e1d5b1cbae7c"
      },
      "execution_count": null,
      "outputs": [
        {
          "output_type": "stream",
          "name": "stdout",
          "text": [
            "Identified correctly: 692\n",
            "Tot: 908\n",
            "# Precision: 0.7189\n",
            "# Recall: 0.7372\n",
            "# F1: 0.7280\n",
            "# accuracy: 0.7621\n"
          ]
        }
      ]
    },
    {
      "cell_type": "code",
      "source": [
        "#instance of the model and optimizer\n",
        "device = \"cuda\" if torch.cuda.is_available() else \"cpu\"\n",
        "model3 = ConferenceResolution(N_HIDDEN,N_CLASSES,device, \"roberta-base\")\n",
        "model3.to(device)\n",
        "optimizer = torch.optim.Adam(model3.parameters())"
      ],
      "metadata": {
        "colab": {
          "base_uri": "https://localhost:8080/",
          "height": 120,
          "referenced_widgets": [
            "1b2b7855a3414571a6f3ba5665efd8a9",
            "88d6a540db5f409aa80d9889720c6cd2",
            "15e9976c38e640779642003bc34d993b",
            "e08b7af605c345218f317f594d247b21",
            "1124e127dd72492cac858b8fe0db790f",
            "0aa87eec4b1b42fe8778927479e2317c",
            "69a0ac4fd4bd40fcad951137623b79a5",
            "261be75db8cc4682879aed7364ebcf41",
            "0b7b6338a3bd40af900e6d4346ebb592",
            "0141bc3796334c50a481b4b70b590dad",
            "95c2145ba8d7464a813f22fb6389f642"
          ]
        },
        "id": "qyhGZXRk1UoU",
        "outputId": "c7f78f89-fd75-4e8f-d42d-3570b77928b0"
      },
      "execution_count": null,
      "outputs": [
        {
          "output_type": "display_data",
          "data": {
            "text/plain": [
              "Downloading (…)\"pytorch_model.bin\";:   0%|          | 0.00/501M [00:00<?, ?B/s]"
            ],
            "application/vnd.jupyter.widget-view+json": {
              "version_major": 2,
              "version_minor": 0,
              "model_id": "1b2b7855a3414571a6f3ba5665efd8a9"
            }
          },
          "metadata": {}
        },
        {
          "output_type": "stream",
          "name": "stderr",
          "text": [
            "Some weights of the model checkpoint at roberta-base were not used when initializing RobertaModel: ['lm_head.bias', 'lm_head.layer_norm.weight', 'lm_head.layer_norm.bias', 'lm_head.decoder.weight', 'lm_head.dense.weight', 'lm_head.dense.bias']\n",
            "- This IS expected if you are initializing RobertaModel from the checkpoint of a model trained on another task or with another architecture (e.g. initializing a BertForSequenceClassification model from a BertForPreTraining model).\n",
            "- This IS NOT expected if you are initializing RobertaModel from the checkpoint of a model that you expect to be exactly identical (initializing a BertForSequenceClassification model from a BertForSequenceClassification model).\n"
          ]
        }
      ]
    },
    {
      "cell_type": "code",
      "source": [
        "#Train the model\n",
        "model3.train()\n",
        "loss_train, loss_val = train(model3, optimizer, dataset_train, dataset_val, LOSS, N_CLASSES, EPOCHS)"
      ],
      "metadata": {
        "colab": {
          "base_uri": "https://localhost:8080/"
        },
        "id": "4duuwlgp1WPM",
        "outputId": "a21cd9c1-0480-4b8f-b4cd-4906feac96f8"
      },
      "execution_count": null,
      "outputs": [
        {
          "output_type": "stream",
          "name": "stdout",
          "text": [
            "\n",
            "epoch: 1/10\n",
            "Training...\n",
            "Train Loss: 0.24836532189648533\n",
            "Validating...\n",
            "Validation Loss: 0.2376905930669684\n",
            "\n",
            "\n",
            "epoch: 2/10\n",
            "Training...\n",
            "Train Loss: 0.19609432760075\n",
            "Validating...\n",
            "Validation Loss: 0.18996822324238324\n",
            "\n",
            "\n",
            "epoch: 3/10\n",
            "Training...\n",
            "Train Loss: 0.1726201010438112\n",
            "Validating...\n",
            "Validation Loss: 0.1761563883015984\n",
            "\n",
            "\n",
            "epoch: 4/10\n",
            "Training...\n",
            "Train Loss: 0.1593460195956851\n",
            "Validating...\n",
            "Validation Loss: 0.16847321861668638\n",
            "\n",
            "\n",
            "epoch: 5/10\n",
            "Training...\n",
            "Train Loss: 0.14388510051387302\n",
            "Validating...\n",
            "Validation Loss: 0.16792909526511243\n",
            "\n",
            "\n",
            "epoch: 6/10\n",
            "Training...\n",
            "Train Loss: 0.1296033573573863\n",
            "Validating...\n",
            "Validation Loss: 0.1641787286651762\n",
            "\n",
            "\n",
            "epoch: 7/10\n",
            "Training...\n",
            "Train Loss: 0.11400188421885643\n",
            "Validating...\n",
            "Validation Loss: 0.1812182727612947\n",
            "\n",
            "\n",
            "epoch: 8/10\n",
            "Training...\n",
            "Train Loss: 0.0982397263594104\n",
            "Validating...\n",
            "Validation Loss: 0.174189849903709\n",
            "\n",
            "\n",
            "epoch: 9/10\n",
            "Training...\n",
            "Train Loss: 0.0818639304984868\n",
            "Validating...\n",
            "Validation Loss: 0.18510440305659645\n",
            "\n",
            "\n",
            "epoch: 10/10\n",
            "Training...\n",
            "Train Loss: 0.0687359660566294\n",
            "Validating...\n",
            "Validation Loss: 0.1803393014951756\n",
            "\n"
          ]
        }
      ]
    },
    {
      "cell_type": "code",
      "source": [
        "#Test the model# last tokens of sentence (summed) and data with organize_data\n",
        "model3.eval()\n",
        "true, predictions = test(model3, dataset_dev)"
      ],
      "metadata": {
        "colab": {
          "base_uri": "https://localhost:8080/"
        },
        "id": "uN6LzPDd1V2o",
        "outputId": "98de78e4-9a82-4721-8a27-0a5189e8b276"
      },
      "execution_count": null,
      "outputs": [
        {
          "output_type": "stream",
          "name": "stdout",
          "text": [
            "Identified correctly: 670\n",
            "Tot: 908\n",
            "# Precision: 0.6860\n",
            "# Recall: 0.7245\n",
            "# F1: 0.7047\n",
            "# accuracy: 0.7379\n"
          ]
        }
      ]
    },
    {
      "cell_type": "markdown",
      "source": [
        "Ensambling"
      ],
      "metadata": {
        "id": "nagakjnfbakz"
      }
    },
    {
      "cell_type": "code",
      "source": [
        "#Ensamble\n",
        "true, predictions = test_ensamble([model, model2, model3], model, dataset_dev)"
      ],
      "metadata": {
        "colab": {
          "base_uri": "https://localhost:8080/"
        },
        "id": "569rbVInrcl1",
        "outputId": "d0a9fb2c-0b7d-4906-89f1-653ba6251f35"
      },
      "execution_count": null,
      "outputs": [
        {
          "output_type": "stream",
          "name": "stdout",
          "text": [
            "Identified correctly: 684\n",
            "Tot: 908\n",
            "# Precision: 0.7165\n",
            "# Recall: 0.7092\n",
            "# F1: 0.7128\n",
            "# accuracy: 0.7533\n"
          ]
        }
      ]
    },
    {
      "cell_type": "code",
      "source": [
        "#move data on cpu and store in a list to copute confusion matrix\n",
        "true= [t.cpu() for t in true]\n",
        "predictions = [p.cpu() for p in predictions]"
      ],
      "metadata": {
        "id": "F5zk2IPfb3W-"
      },
      "execution_count": null,
      "outputs": []
    },
    {
      "cell_type": "code",
      "source": [
        "#confusion matrix\n",
        "plot_confusion_matrix(np.array(true), np.array(predictions), ['True','False'])"
      ],
      "metadata": {
        "colab": {
          "base_uri": "https://localhost:8080/",
          "height": 530
        },
        "id": "AlU6-SmLbw3K",
        "outputId": "5f041843-a5f2-482b-9a0c-f735eb3f7d1f"
      },
      "execution_count": null,
      "outputs": [
        {
          "output_type": "stream",
          "name": "stdout",
          "text": [
            "Confusion Matrix\n"
          ]
        },
        {
          "output_type": "display_data",
          "data": {
            "text/plain": [
              "<Figure size 504x504 with 2 Axes>"
            ],
            "image/png": "[encoded data removed]"
          },
          "metadata": {
            "needs_background": "light"
          }
        }
      ]
    },
    {
      "cell_type": "markdown",
      "source": [
        "##Approach 2\n",
        "\n",
        "In this section I train a model made by Bert+BiLSTM and an autoencoder, from the latter i will reduce dimensionality of data using the encoder part of the Autoencoder to reduce the output of the fisrt model. The final encoded output will train a Support Vector Machine for binary classification."
      ],
      "metadata": {
        "id": "0zyqIYDTgeSX"
      }
    },
    {
      "cell_type": "markdown",
      "source": [
        "###Re-organize dataset"
      ],
      "metadata": {
        "id": "ktVo-rA-Sc8q"
      }
    },
    {
      "cell_type": "code",
      "source": [
        "#define train and dev set for the svm\n",
        "BATCH = 32\n",
        "dataset_train_svm = create_dataset(new_input, labels, index_of_interest, tokens_entity, batch_size=BATCH, shuffle_flag=True)\n",
        "dataset_dev_svm = create_dataset(new_input_dev, labels_dev, index_of_interest_dev, tokens_entity_dev, batch_size=BATCH, shuffle_flag=False)"
      ],
      "metadata": {
        "id": "j2cN3mhveJ5h"
      },
      "execution_count": null,
      "outputs": []
    },
    {
      "cell_type": "markdown",
      "source": [
        "###Train and test functions"
      ],
      "metadata": {
        "id": "ZlfbcL29Sh8-"
      }
    },
    {
      "cell_type": "code",
      "source": [
        "#test function to train the data representation\n",
        "\n",
        "'''\n",
        "- args:\n",
        "  - model: an instance eof the model\n",
        "  - optimizer: an instance of the optimizer\n",
        "  - data_train: dataset for train \n",
        "  - data_val: dataset for validation\n",
        "  - loss_f: loss function\n",
        "  - classes: number of classes for classsficcation\n",
        "  - epochs: (int) numer of epochs (default is 10)\n",
        "  - train_loss: list of train losses if the training continue from previous one, None otherwise\n",
        "  - val_loss: list of validation losses if the training continue from previous one, None otherwise\n",
        "\n",
        "-output:\n",
        "  - tot_loss_train: list of train losses\n",
        "  - tot_loss_val: list of validation losses\n",
        "'''\n",
        "\n",
        "def train(model, optimizer, data_train, data_val, loss_f, n_classes, epochs: int = 10, train_loss = None, val_loss = None):\n",
        "\n",
        "    #To store losses if call the train to continue a previous training or start new one\n",
        "    if train_loss == None and val_loss == None: \n",
        "      tot_loss_train = []\n",
        "      tot_loss_val = []\n",
        "      epochs_done = 0\n",
        "    else:\n",
        "      tot_loss_train = train_loss\n",
        "      tot_loss_val = val_loss\n",
        "      assert len(tot_loss_train) == len(tot_loss_val)\n",
        "      epochs_done = len(tot_loss_train)\n",
        "\n",
        "    #Variables for early stopping\n",
        "    best_validation_loss = float('inf')\n",
        "    counter = 0\n",
        "    patience = 7\n",
        "    device = \"cuda\" if torch.cuda.is_available() else \"cpu\"\n",
        "    #main loop\n",
        "    for epoch in range(epochs):\n",
        "\n",
        "        print(\"\\nepoch: \"+str(epoch+1+epochs_done)+\"/\"+str(epochs+epochs_done))\n",
        "\n",
        "        #training loop\n",
        "        print(\"Training...\")\n",
        "        loss_train = []\n",
        "\n",
        "        #process data\n",
        "        for x, _, _, _ in data_train:\n",
        "            optimizer.zero_grad()\n",
        "            input = {k: v.type(torch.long).to(device) for k, v in x.items()}\n",
        "            out_encoded, out_bert = model(input)\n",
        "            loss = loss_f(out_encoded, out_bert)\n",
        "            loss_train.append(loss.item())\n",
        "            loss.backward()\n",
        "            optimizer.step()\n",
        "\n",
        "        #loss of the batch\n",
        "        lt = sum(loss_train)/len(loss_train)\n",
        "\n",
        "        tot_loss_train.append(lt)\n",
        "        print(\"Train Loss: \"+str(lt))\n",
        "\n",
        "        #validation loop\n",
        "        print(\"Validating...\")\n",
        "        loss_val = []\n",
        "\n",
        "        #process data\n",
        "        for x, _, _, _ in data_val:\n",
        "          with torch.no_grad():\n",
        "            input = {k: v.type(torch.long).to(device) for k, v in x.items()}\n",
        "            out_encoded, out_bert = model(input)\n",
        "            loss = loss_f(out_encoded, out_bert)\n",
        "            loss_val.append(loss.item())\n",
        "\n",
        "        #loss of the batch\n",
        "        lv = sum(loss_val)/len(loss_val)\n",
        "\n",
        "        tot_loss_val.append(lv)\n",
        "        print(\"Validation Loss: \"+str(lv)+\"\\n\")\n",
        "\n",
        "        #Early Stopping\n",
        "        if lv < best_validation_loss:\n",
        "          best_validation_loss = lv\n",
        "          counter = 0\n",
        "        else:\n",
        "          counter = counter+1\n",
        "        if counter >= patience:\n",
        "          break\n",
        "    \n",
        "    return tot_loss_train, tot_loss_val"
      ],
      "metadata": {
        "id": "MNIG1YaGYDiS"
      },
      "execution_count": null,
      "outputs": []
    },
    {
      "cell_type": "code",
      "source": [
        "#test function to test the autoencoder\n",
        "\n",
        "'''\n",
        "- input:\n",
        "  - model: an instance of the model\n",
        "  - dataloader: dataset for test\n",
        "  - loss function\n",
        "\n",
        "- output:\n",
        "  - print the reconstruction loss\n",
        "'''\n",
        "\n",
        "def test(model: nn.Module, dataloader: DataLoader, loss_f):\n",
        "\n",
        "  device = \"cuda\" if torch.cuda.is_available() else \"cpu\"\n",
        "  loss_test = []\n",
        "\n",
        "  for x, _, _, _ in dataloader:\n",
        "\n",
        "      #predict data\n",
        "      with torch.no_grad():\n",
        "          input = {k: v.type(torch.long).to(device) for k, v in x.items()}\n",
        "          out_encoded, out_bert = model(input)\n",
        "\n",
        "          loss = loss_f(out_encoded, out_bert)\n",
        "          loss_test.append(loss.item())\n",
        "\n",
        "  #loss of the batch\n",
        "  l = sum(loss_test)/len(loss_test)\n",
        "  print(\"Reconstruction Loss: \"+str(l)+\"\\n\")"
      ],
      "metadata": {
        "id": "qpN4d-L4YzUc"
      },
      "execution_count": null,
      "outputs": []
    },
    {
      "cell_type": "code",
      "source": [
        "#test function to test accuracy and F1 of SVM\n",
        "\n",
        "'''\n",
        "- input:\n",
        "  - model: an instance of the model\n",
        "  - dataloader: dataset for test\n",
        "\n",
        "- output:\n",
        "  - true: list of true labels (int)\n",
        "  - pred: list of predictions (int)\n",
        "'''\n",
        "\n",
        "def test_SVM(predictions, labels):\n",
        "\n",
        "  true_positive = 0   #TRUE POSITIVES\n",
        "  false_positive = 0  #FALSE POSITIVES\n",
        "  true_negative = 0   #TRUE NEGATIVES\n",
        "  false_negative = 0  #FALSE NEGATIVES\n",
        "  pred = []           #list of predictions\n",
        "  true = []           #list of true labels      \n",
        "      \n",
        "  #check the predictions with true labels to compute Accuracy and F1\n",
        "  for elem_pred, elem_true in zip(predictions, labels):\n",
        "\n",
        "          if elem_pred == 1 and elem_true ==1: \n",
        "            true_positive += 1\n",
        "          elif elem_pred == 0 and elem_true ==0:\n",
        "            true_negative += 1\n",
        "          elif elem_pred == 0 and elem_true ==1:\n",
        "            false_negative += 1\n",
        "          elif elem_pred == 1 and elem_true ==0:\n",
        "            false_positive += 1\n",
        "\n",
        "          true.append(elem_true)\n",
        "          pred.append(elem_pred)\n",
        "\n",
        "  tot_correctly = true_positive+true_negative\n",
        "  tot = true_positive+true_negative+false_negative+false_positive\n",
        "  acc = tot_correctly/tot\n",
        "\n",
        "  precision = true_positive/(true_positive+false_positive)\n",
        "  recall = true_positive/(true_positive+false_negative)\n",
        "  F1 = 2*(precision*recall)/(precision+recall)\n",
        "\n",
        "  print(\"Identified correctly: \"+str(tot_correctly))\n",
        "  print(\"Tot: \"+str(tot))\n",
        "  print(f'# Precision: {precision:.4f}')\n",
        "  print(f'# Recall: {recall:.4f}')\n",
        "  print(f'# F1: {F1:.4f}')\n",
        "  print(f'# accuracy: {acc:.4f}')"
      ],
      "metadata": {
        "id": "jD8pwKMsRHsR"
      },
      "execution_count": null,
      "outputs": []
    },
    {
      "cell_type": "markdown",
      "source": [
        "###Models"
      ],
      "metadata": {
        "id": "DE6ndfeBSqbx"
      }
    },
    {
      "cell_type": "code",
      "source": [
        "# Define the Autoencoder model\n",
        "class AutoEncoder(nn.Module):\n",
        "    def __init__(self, input_dim, encoding_dim):\n",
        "        super(AutoEncoder, self).__init__()\n",
        "\n",
        "        #encode data\n",
        "        self.encoder = nn.Sequential(\n",
        "            nn.Linear(input_dim, encoding_dim),\n",
        "            nn.ReLU()\n",
        "        )\n",
        "\n",
        "        #decode data\n",
        "        self.decoder = nn.Sequential(\n",
        "            nn.Linear(encoding_dim, input_dim),\n",
        "            nn.Sigmoid()\n",
        "        )\n",
        "\n",
        "    def forward(self, x):\n",
        "        x = self.encoder(x)\n",
        "        x = self.decoder(x)\n",
        "        return x"
      ],
      "metadata": {
        "id": "uTQXGH9_sqz8"
      },
      "execution_count": null,
      "outputs": []
    },
    {
      "cell_type": "code",
      "source": [
        "class ConferenceResolution3(torch.nn.Module):\n",
        "\n",
        "    def __init__(self, n_hidden, classes, language_model_name=\"bert-base-cased\"):\n",
        "        super(ConferenceResolution3, self).__init__()\n",
        "\n",
        "        #Transformer model\n",
        "        self.transformer_model = AutoModel.from_pretrained(language_model_name, output_hidden_states=True)\n",
        "\n",
        "        #Freeze Transformer\n",
        "        #for param in self.transformer_model.parameters():\n",
        "          #param.requires_grad = False\n",
        "\n",
        "        #Number of features in output from the transformer\n",
        "        self.embedding_dim = self.transformer_model.config.hidden_size\n",
        "\n",
        "        #Additive feature to represent where is a predicate\n",
        "        self.add_features = 0\n",
        "\n",
        "        #BiLSTM layer\n",
        "        self.lstm = nn.LSTM(self.embedding_dim+self.add_features, n_hidden, bidirectional=True, num_layers = 2, dropout=0.3, batch_first = True)\n",
        "\n",
        "        #autoencoder\n",
        "        self.autoencoder = AutoEncoder(2*n_hidden, 300)\n",
        "\n",
        "    def forward(self, input: torch.Tensor = None, index=None, labels=None, encode=False):\n",
        "\n",
        "        out = self.transformer_model(**input)\n",
        "        out = torch.stack(out.hidden_states[-4:], dim=0).mean(dim=0)\n",
        "        out, _ = self.lstm(out)\n",
        "\n",
        "        if encode:\n",
        "          #if encode is enable produce an encoded output reducing dimension\n",
        "          encoded_out = self.autoencoder.encoder(out)\n",
        "        else:\n",
        "          #reconstruct the encoded output (to train the auto encoder)\n",
        "          encoded_out = self.autoencoder(out)\n",
        "\n",
        "        return encoded_out, out"
      ],
      "metadata": {
        "id": "eQLrboyzgghK"
      },
      "execution_count": null,
      "outputs": []
    },
    {
      "cell_type": "markdown",
      "source": [
        "###Training and test"
      ],
      "metadata": {
        "id": "mY4NpQZYSv-M"
      }
    },
    {
      "cell_type": "code",
      "source": [
        "#HYPERPARAMETERS\n",
        "N_HIDDEN = 200\n",
        "N_CLASSES = 1\n",
        "EPOCHS = 10\n",
        "LOSS = nn.MSELoss()"
      ],
      "metadata": {
        "id": "tAL-Q-zOlrQA"
      },
      "execution_count": null,
      "outputs": []
    },
    {
      "cell_type": "code",
      "source": [
        "#Instance of the model\n",
        "device =  \"cuda\" if torch.cuda.is_available() else \"cpu\"\n",
        "model = ConferenceResolution3(N_HIDDEN,N_CLASSES)\n",
        "model.to(device)\n",
        "optimizer = torch.optim.Adam(model.parameters())"
      ],
      "metadata": {
        "colab": {
          "base_uri": "https://localhost:8080/"
        },
        "id": "2pQCLsPrhFUB",
        "outputId": "695899ec-2786-42af-9d49-93437eb9a704"
      },
      "execution_count": null,
      "outputs": [
        {
          "output_type": "stream",
          "name": "stderr",
          "text": [
            "Some weights of the model checkpoint at bert-base-cased were not used when initializing BertModel: ['cls.predictions.transform.LayerNorm.bias', 'cls.seq_relationship.bias', 'cls.predictions.decoder.weight', 'cls.predictions.transform.dense.weight', 'cls.seq_relationship.weight', 'cls.predictions.transform.LayerNorm.weight', 'cls.predictions.bias', 'cls.predictions.transform.dense.bias']\n",
            "- This IS expected if you are initializing BertModel from the checkpoint of a model trained on another task or with another architecture (e.g. initializing a BertForSequenceClassification model from a BertForPreTraining model).\n",
            "- This IS NOT expected if you are initializing BertModel from the checkpoint of a model that you expect to be exactly identical (initializing a BertForSequenceClassification model from a BertForSequenceClassification model).\n"
          ]
        }
      ]
    },
    {
      "cell_type": "code",
      "source": [
        "#Train the model\n",
        "model.train()\n",
        "loss_train, loss_val = train(model, optimizer, dataset_train, dataset_val, LOSS, N_CLASSES, EPOCHS)"
      ],
      "metadata": {
        "colab": {
          "base_uri": "https://localhost:8080/"
        },
        "id": "QAGQulRVrPYk",
        "outputId": "ecc2722f-2185-4071-d161-3ed297bbd3cd"
      },
      "execution_count": null,
      "outputs": [
        {
          "output_type": "stream",
          "name": "stdout",
          "text": [
            "\n",
            "epoch: 1/10\n",
            "Training...\n",
            "Train Loss: 0.029092809974805577\n",
            "Validating...\n",
            "Validation Loss: 0.001669343628332411\n",
            "\n",
            "\n",
            "epoch: 2/10\n",
            "Training...\n",
            "Train Loss: 0.001309990832243203\n",
            "Validating...\n",
            "Validation Loss: 0.00096960033682224\n",
            "\n",
            "\n",
            "epoch: 3/10\n",
            "Training...\n",
            "Train Loss: 0.000863482775414616\n",
            "Validating...\n",
            "Validation Loss: 0.0007014835167578177\n",
            "\n",
            "\n",
            "epoch: 4/10\n",
            "Training...\n",
            "Train Loss: 0.0010048911091182712\n",
            "Validating...\n",
            "Validation Loss: 0.003192698987396924\n",
            "\n",
            "\n",
            "epoch: 5/10\n",
            "Training...\n",
            "Train Loss: 0.0008293509637639368\n",
            "Validating...\n",
            "Validation Loss: 0.0004909401943318938\n",
            "\n",
            "\n",
            "epoch: 6/10\n",
            "Training...\n",
            "Train Loss: 0.0005056223064521879\n",
            "Validating...\n",
            "Validation Loss: 0.0002622823544937235\n",
            "\n",
            "\n",
            "epoch: 7/10\n",
            "Training...\n",
            "Train Loss: 0.00011071666072711029\n",
            "Validating...\n",
            "Validation Loss: 6.817310924433466e-05\n",
            "\n",
            "\n",
            "epoch: 8/10\n",
            "Training...\n",
            "Train Loss: 6.059169907573357e-05\n",
            "Validating...\n",
            "Validation Loss: 5.758463502340754e-05\n",
            "\n",
            "\n",
            "epoch: 9/10\n",
            "Training...\n",
            "Train Loss: 4.811074095468186e-05\n",
            "Validating...\n",
            "Validation Loss: 4.7978203886151804e-05\n",
            "\n",
            "\n",
            "epoch: 10/10\n",
            "Training...\n",
            "Train Loss: 4.062771112594365e-05\n",
            "Validating...\n",
            "Validation Loss: 3.388945103659736e-05\n",
            "\n"
          ]
        }
      ]
    },
    {
      "cell_type": "code",
      "source": [
        "#Test the autoencoder\n",
        "model.eval()\n",
        "test(model, dataset_dev, LOSS)"
      ],
      "metadata": {
        "colab": {
          "base_uri": "https://localhost:8080/"
        },
        "id": "WShtVBX1v8u8",
        "outputId": "2aad60b6-1ffa-444a-9519-5dfe0e7ef935"
      },
      "execution_count": null,
      "outputs": [
        {
          "output_type": "stream",
          "name": "stdout",
          "text": [
            "Reconstruction Loss: 2.7924532034752513e-06\n",
            "\n"
          ]
        }
      ]
    },
    {
      "cell_type": "code",
      "source": [
        "plot_train_trend(loss_train, loss_val, \"Autoencoder training\")"
      ],
      "metadata": {
        "colab": {
          "base_uri": "https://localhost:8080/",
          "height": 295
        },
        "id": "UwGIUm-yGaU0",
        "outputId": "2a5dfca6-0282-47af-f495-4e8587649e77"
      },
      "execution_count": null,
      "outputs": [
        {
          "output_type": "display_data",
          "data": {
            "text/plain": [
              "<Figure size 432x288 with 1 Axes>"
            ],
            "image/png": "[encoded data removed]"
          },
          "metadata": {
            "needs_background": "light"
          }
        }
      ]
    },
    {
      "cell_type": "markdown",
      "source": [
        "**Encode data**"
      ],
      "metadata": {
        "id": "AzrjVFkhTnbG"
      }
    },
    {
      "cell_type": "code",
      "source": [
        "#Take the train set and encode it\n",
        "\n",
        "new_set = []\n",
        "new_out = []\n",
        "for x, y, index, lenghts in dataset_train_svm:\n",
        "\n",
        "  #encode data\n",
        "  with torch.no_grad():\n",
        "    input = {k: v.type(torch.long).to(device) for k, v in x.items()}\n",
        "    out_encoded, _ = model(input, encode=True)\n",
        "\n",
        "    #build a new representation without pad\n",
        "    for output,mask,i,l in zip(out_encoded,input[\"attention_mask\"],index,lenghts):\n",
        "      new_representation = []\n",
        "      \n",
        "      #extract pronoun and entity\n",
        "      for o,m in zip(output,mask):\n",
        "        if m.item() == 1:\n",
        "          new_representation.append(o)\n",
        "\n",
        "      #take the pronoun and the entity in question to classify\n",
        "      i1 = i[0]\n",
        "      i2 = i[1]\n",
        "      if i1 is not None:\n",
        "        if l>1: #if the entity has more than one token\n",
        "          o1 = torch.stack(new_representation[i1:i1+l])\n",
        "          o1 = torch.mean(o1) #take the mean of the tokens\n",
        "        else:\n",
        "          o1 = new_representation[i1]\n",
        "      else:\n",
        "        o1 = torch.mean(output, -2) #if entity not found take the mean of all words\n",
        "\n",
        "      if i2 is not None:\n",
        "        o2 = new_representation[i2] \n",
        "      else:\n",
        "        o2 = torch.mean(output, -2) #if pronoun not found take the mean of all words\n",
        "\n",
        "      new_out.append((o1+o2))\n",
        "\n",
        "new_set=torch.stack(new_out)"
      ],
      "metadata": {
        "id": "TaTFIcP0xsU3"
      },
      "execution_count": null,
      "outputs": []
    },
    {
      "cell_type": "code",
      "source": [
        "#Take the dev set and encode it\n",
        "\n",
        "new_set_dev = []\n",
        "new_out = []\n",
        "for x, y, index, lenghts in dataset_dev_svm:\n",
        "  with torch.no_grad():\n",
        "    input = {k: v.type(torch.long).to(device) for k, v in x.items()}\n",
        "    out_encoded, _ = model(input, encode=True)\n",
        "\n",
        "    #encode data\n",
        "    for output,mask,i,l in zip(out_encoded,input[\"attention_mask\"],index,lenghts):\n",
        "      new_representation = []\n",
        "      \n",
        "      #build a new representation without pad\n",
        "      for o,m in zip(output,mask):\n",
        "        if m.item() == 1:\n",
        "          new_representation.append(o)\n",
        "      \n",
        "      #take the pronoun and the entity in question to classify\n",
        "      i1 = i[0]\n",
        "      i2 = i[1]\n",
        "      if i1 is not None:\n",
        "        if l>1:  #if the entity has more than one token\n",
        "          o1 = torch.stack(new_representation[i1:i1+l])\n",
        "          o1 = torch.mean(o1) #take the mean of the tokens\n",
        "        else:\n",
        "          o1 = new_representation[i1]\n",
        "      else:\n",
        "        o1 = torch.mean(output, -2) #if entity not found take the mean of all words\n",
        "\n",
        "      if i2 is not None:\n",
        "        o2 = new_representation[i2]\n",
        "      else:\n",
        "        o2 = torch.mean(output, -2) #if pronoun not found take the mean of all words\n",
        "\n",
        "      new_out.append((o1+o2))\n",
        "\n",
        "new_set_dev=torch.stack(new_out)"
      ],
      "metadata": {
        "id": "M4Bir5S9NHNk"
      },
      "execution_count": null,
      "outputs": []
    },
    {
      "cell_type": "code",
      "source": [
        "#Transform output for SVM input\n",
        "outputs = new_set.cpu().detach().numpy()\n",
        "outputs_dev = new_set_dev.cpu().detach().numpy()"
      ],
      "metadata": {
        "id": "Qb49G03gOjvj"
      },
      "execution_count": null,
      "outputs": []
    },
    {
      "cell_type": "markdown",
      "source": [
        "**Try different kernels of SVM**"
      ],
      "metadata": {
        "id": "nkpFsCasf-at"
      }
    },
    {
      "cell_type": "code",
      "source": [
        "#Define the SVM classifier\n",
        "svm1 = SVC(kernel='linear')\n",
        "svm1.fit(outputs, labels)\n",
        "predictions = svm1.predict(outputs_dev)"
      ],
      "metadata": {
        "id": "q0u9ucaYXxJc"
      },
      "execution_count": null,
      "outputs": []
    },
    {
      "cell_type": "code",
      "source": [
        "test_SVM(predictions, labels_dev)"
      ],
      "metadata": {
        "colab": {
          "base_uri": "https://localhost:8080/"
        },
        "id": "BUB7bndfJitt",
        "outputId": "65654f57-1b1e-438e-d816-3f1e2a1262ff"
      },
      "execution_count": null,
      "outputs": [
        {
          "output_type": "stream",
          "name": "stdout",
          "text": [
            "Identified correctly: 518\n",
            "Tot: 908\n",
            "# Precision: 0.6667\n",
            "# Recall: 0.0102\n",
            "# F1: 0.0201\n",
            "# accuracy: 0.5705\n"
          ]
        }
      ]
    },
    {
      "cell_type": "code",
      "source": [
        "#Define the SVM classifier\n",
        "svm2 = SVC(kernel='poly', degree=5, C=100)\n",
        "svm2.fit(outputs, labels)\n",
        "predictions = svm2.predict(outputs_dev)"
      ],
      "metadata": {
        "id": "yN-wSCnIcyQS"
      },
      "execution_count": null,
      "outputs": []
    },
    {
      "cell_type": "code",
      "source": [
        "test_SVM(predictions, labels_dev)"
      ],
      "metadata": {
        "colab": {
          "base_uri": "https://localhost:8080/"
        },
        "id": "vfj9BqWFUq8m",
        "outputId": "77a44909-6a11-4d75-94ef-fa2dedf7af89"
      },
      "execution_count": null,
      "outputs": [
        {
          "output_type": "stream",
          "name": "stdout",
          "text": [
            "Identified correctly: 516\n",
            "Tot: 908\n",
            "# Precision: 0.5000\n",
            "# Recall: 0.0026\n",
            "# F1: 0.0051\n",
            "# accuracy: 0.5683\n"
          ]
        }
      ]
    },
    {
      "cell_type": "code",
      "source": [
        "#Define the SVM classifier\n",
        "svm3 = SVC(kernel='sigmoid', C=100)\n",
        "svm3.fit(outputs, labels)\n",
        "predictions = svm3.predict(outputs_dev)"
      ],
      "metadata": {
        "id": "J82JoK-FcxAN"
      },
      "execution_count": null,
      "outputs": []
    },
    {
      "cell_type": "code",
      "source": [
        "test_SVM(predictions, labels_dev)"
      ],
      "metadata": {
        "colab": {
          "base_uri": "https://localhost:8080/"
        },
        "id": "9MrkkdcRUw6A",
        "outputId": "5e7a140a-5bd1-447d-c01b-a80a7cc1aab2"
      },
      "execution_count": null,
      "outputs": [
        {
          "output_type": "stream",
          "name": "stdout",
          "text": [
            "Identified correctly: 401\n",
            "Tot: 908\n",
            "# Precision: 0.3956\n",
            "# Recall: 0.5561\n",
            "# F1: 0.4624\n",
            "# accuracy: 0.4416\n"
          ]
        }
      ]
    }
  ]
}